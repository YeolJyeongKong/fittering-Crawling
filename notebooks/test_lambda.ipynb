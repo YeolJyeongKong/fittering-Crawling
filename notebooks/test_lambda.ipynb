{
 "cells": [
  {
   "cell_type": "code",
   "execution_count": 7,
   "metadata": {},
   "outputs": [],
   "source": [
    "import os\n",
    "import pymysql\n",
    "import pyrootutils\n",
    "import pandas as pd\n",
    "\n",
    "pyrootutils.setup_root(os.curdir, indicator=\".project-root\", pythonpath=True)\n",
    "from lambda_product_length import rds_info\n",
    "import json\n",
    "import boto3\n",
    "\n",
    "conn = pymysql.connect(\n",
    "    host=rds_info.db_host,\n",
    "    user=rds_info.db_username,\n",
    "    passwd=rds_info.db_password,\n",
    "    db=rds_info.db_name,\n",
    "    port=rds_info.db_port,\n",
    ")"
   ]
  },
  {
   "cell_type": "code",
   "execution_count": 8,
   "metadata": {},
   "outputs": [],
   "source": [
    "cursor = conn.cursor()\n",
    "query = \"\"\"\n",
    "SELECT COUNT(*) FROM PRODUCT\n",
    "\"\"\"\n",
    "cursor.execute(query)\n",
    "length = cursor.fetchall()\n",
    "conn.close()"
   ]
  },
  {
   "cell_type": "code",
   "execution_count": 10,
   "metadata": {},
   "outputs": [
    {
     "data": {
      "text/plain": [
       "364"
      ]
     },
     "execution_count": 10,
     "metadata": {},
     "output_type": "execute_result"
    }
   ],
   "source": [
    "length[0][0]"
   ]
  }
 ],
 "metadata": {
  "kernelspec": {
   "display_name": "crawling-env",
   "language": "python",
   "name": "python3"
  },
  "language_info": {
   "codemirror_mode": {
    "name": "ipython",
    "version": 3
   },
   "file_extension": ".py",
   "mimetype": "text/x-python",
   "name": "python",
   "nbconvert_exporter": "python",
   "pygments_lexer": "ipython3",
   "version": "3.8.17"
  },
  "orig_nbformat": 4
 },
 "nbformat": 4,
 "nbformat_minor": 2
}
