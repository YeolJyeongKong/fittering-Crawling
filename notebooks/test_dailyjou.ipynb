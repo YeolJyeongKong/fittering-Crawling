{
 "cells": [
  {
   "cell_type": "code",
   "execution_count": 1,
   "metadata": {},
   "outputs": [],
   "source": [
    "import os\n",
    "import re\n",
    "from bs4 import BeautifulSoup\n",
    "import requests\n",
    "import pandas as pd\n",
    "import numpy as np\n",
    "import boto3\n",
    "import pyrootutils\n",
    "\n",
    "pyrootutils.setup_root(os.curdir, indicator=\".project-root\", pythonpath=True)\n",
    "from extras import constants, paths\n",
    "from aws import rds, s3\n",
    "from dailyjou.utils import search, utils"
   ]
  },
  {
   "cell_type": "code",
   "execution_count": 2,
   "metadata": {},
   "outputs": [
    {
     "data": {
      "text/plain": [
       "[<li class=\"xans-record-\" id=\"anchorBoxId_15317\">\n",
       " <div class=\"thumbnail\">\n",
       " <div class=\"prdImg\">\n",
       " <a href=\"/product/세릴-딥-라운드-반팔-티셔츠-3-color/15317/category/46/display/1/\" name=\"anchorBoxName_15317\"><img alt=\"세릴 딥 라운드 반팔 티셔츠 - 3 color\" id=\"eListPrdImage15317_1\" src=\"//dailyjou.com/web/product/medium/202309/4ff5850a50ca2dea19101717be2fcd48.jpg\"/></a>\n",
       " </div>\n",
       " <div class=\"icon\">\n",
       " <div class=\"wish\"></div>\n",
       " <div class=\"likeButton displaynone\"><button type=\"button\"><strong></strong></button></div>\n",
       " <div class=\"option\"><a \"=\"\" onclick=\"optionPreview(this,'listnormal-0',15317,'T')\"><img alt=\"\" class=\"option_preview\" id=\"btn_preview_listnormal-015317\" src=\"//img.echosting.cafe24.com/design/skin/default/product/btn_option_view.gif\"/></a> </div>\n",
       " </div>\n",
       " </div>\n",
       " <div class=\"description\">\n",
       " <strong class=\"name\"><a class=\"\" href=\"/product/세릴-딥-라운드-반팔-티셔츠-3-color/15317/category/46/display/1/\"><span class=\"title displaynone\"><span style=\"font-size:12px;color:#555555;\">상품명</span> :</span> <span style=\"font-size:12px;color:#555555;\">세릴 딥 라운드 반팔 티셔츠 - 3 color</span></a></strong>\n",
       " <div class=\"deInner\">\n",
       " <ul class=\"xans-element- xans-product xans-product-listitem spec\"><li class=\"xans-record-\">\n",
       " <strong class=\"title displaynone\"><span style=\"font-size:12px;color:#333333;font-weight:bold;\">판매가</span> :</strong> <span style=\"font-size:12px;color:#333333;font-weight:bold;\">19,800</span><span id=\"span_product_tax_type_text\" style=\"\"> </span></li>\n",
       " <li class=\"xans-record-\">\n",
       " <strong class=\"title displaynone\"><span style=\"font-size:12px;color:#555555;\">상품색상</span> :</strong> <div class=\"color\"><span class=\"chips\" color_no=\"\" displaygroup=\"1\" style=\"background-color:#000000\" title=\"#000000\"></span><span class=\"chips\" color_no=\"\" displaygroup=\"1\" style=\"background-color:#A9A9A9\" title=\"#A9A9A9\"></span><span class=\"chips\" color_no=\"\" displaygroup=\"1\" style=\"background-color:#FEFFEF\" title=\"#FEFFEF\"></span></div></li>\n",
       " </ul>\n",
       " <div class=\"promotion\"> </div>\n",
       " </div>\n",
       " </div>\n",
       " </li>,\n",
       " <li class=\"xans-record-\" id=\"anchorBoxId_15319\">\n",
       " <div class=\"thumbnail\">\n",
       " <div class=\"prdImg\">\n",
       " <a href=\"/product/에키-컬러-스트라이프-후드-티셔츠-2-color/15319/category/46/display/1/\" name=\"anchorBoxName_15319\"><img alt=\"에키 컬러 스트라이프 후드 티셔츠 - 2 color\" id=\"eListPrdImage15319_1\" src=\"//dailyjou.com/web/product/medium/202308/3feeca30f3060b07c442b70f7515a57b.gif\"/></a>\n",
       " </div>\n",
       " <div class=\"icon\">\n",
       " <div class=\"wish\"></div>\n",
       " <div class=\"likeButton displaynone\"><button type=\"button\"><strong></strong></button></div>\n",
       " <div class=\"option\"><a \"=\"\" onclick=\"optionPreview(this,'listnormal-0',15319,'T')\"><img alt=\"\" class=\"option_preview\" id=\"btn_preview_listnormal-015319\" src=\"//img.echosting.cafe24.com/design/skin/default/product/btn_option_view.gif\"/></a> </div>\n",
       " </div>\n",
       " </div>\n",
       " <div class=\"description\">\n",
       " <strong class=\"name\"><a class=\"\" href=\"/product/에키-컬러-스트라이프-후드-티셔츠-2-color/15319/category/46/display/1/\"><span class=\"title displaynone\"><span style=\"font-size:12px;color:#555555;\">상품명</span> :</span> <span style=\"font-size:12px;color:#555555;\">에키 컬러 스트라이프 후드 티셔츠 - 2 color</span></a></strong>\n",
       " <div class=\"deInner\">\n",
       " <ul class=\"xans-element- xans-product xans-product-listitem spec\"><li class=\"xans-record-\">\n",
       " <strong class=\"title displaynone\"><span style=\"font-size:12px;color:#333333;font-weight:bold;\">판매가</span> :</strong> <span style=\"font-size:12px;color:#333333;font-weight:bold;\">49,800</span><span id=\"span_product_tax_type_text\" style=\"\"> </span></li>\n",
       " <li class=\"xans-record-\">\n",
       " <strong class=\"title displaynone\"><span style=\"font-size:12px;color:#555555;\">상품색상</span> :</strong> <div class=\"color\"><span class=\"chips\" color_no=\"\" displaygroup=\"1\" style=\"background-color:#501704\" title=\"#501704\"></span><span class=\"chips\" color_no=\"\" displaygroup=\"1\" style=\"background-color:#00B3FF\" title=\"#00B3FF\"></span></div></li>\n",
       " </ul>\n",
       " <div class=\"promotion\"> </div>\n",
       " </div>\n",
       " </div>\n",
       " </li>,\n",
       " <li class=\"xans-record-\" id=\"anchorBoxId_15353\">\n",
       " <div class=\"thumbnail\">\n",
       " <div class=\"prdImg\">\n",
       " <a href=\"/product/파이포-프린팅-오버핏-반팔-티셔츠-3-color/15353/category/46/display/1/\" name=\"anchorBoxName_15353\"><img alt=\"파이포 프린팅 오버핏 반팔 티셔츠 - 3 color\" id=\"eListPrdImage15353_1\" src=\"//dailyjou.com/web/product/medium/202309/a5c76320840de06ab174c17f112e2411.gif\"/></a>\n",
       " </div>\n",
       " <div class=\"icon\">\n",
       " <div class=\"wish\"></div>\n",
       " <div class=\"likeButton displaynone\"><button type=\"button\"><strong></strong></button></div>\n",
       " <div class=\"option\"><a \"=\"\" onclick=\"optionPreview(this,'listnormal-0',15353,'T')\"><img alt=\"\" class=\"option_preview\" id=\"btn_preview_listnormal-015353\" src=\"//img.echosting.cafe24.com/design/skin/default/product/btn_option_view.gif\"/></a> </div>\n",
       " </div>\n",
       " </div>\n",
       " <div class=\"description\">\n",
       " <strong class=\"name\"><a class=\"\" href=\"/product/파이포-프린팅-오버핏-반팔-티셔츠-3-color/15353/category/46/display/1/\"><span class=\"title displaynone\"><span style=\"font-size:12px;color:#555555;\">상품명</span> :</span> <span style=\"font-size:12px;color:#555555;\">파이포 프린팅 오버핏 반팔 티셔츠 - 3 color</span></a></strong>\n",
       " <div class=\"deInner\">\n",
       " <ul class=\"xans-element- xans-product xans-product-listitem spec\"><li class=\"xans-record-\">\n",
       " <strong class=\"title displaynone\"><span style=\"font-size:12px;color:#333333;font-weight:bold;\">판매가</span> :</strong> <span style=\"font-size:12px;color:#333333;font-weight:bold;\">34,500</span><span id=\"span_product_tax_type_text\" style=\"\"> </span></li>\n",
       " <li class=\"xans-record-\">\n",
       " <strong class=\"title displaynone\"><span style=\"font-size:12px;color:#555555;\">상품색상</span> :</strong> <div class=\"color\"><span class=\"chips\" color_no=\"\" displaygroup=\"1\" style=\"background-color:#474747\" title=\"#474747\"></span><span class=\"chips\" color_no=\"\" displaygroup=\"1\" style=\"background-color:#FEFFEF\" title=\"#FEFFEF\"></span><span class=\"chips\" color_no=\"\" displaygroup=\"1\" style=\"background-color:#FEC0CB\" title=\"#FEC0CB\"></span></div></li>\n",
       " </ul>\n",
       " <div class=\"promotion\"> </div>\n",
       " </div>\n",
       " </div>\n",
       " </li>,\n",
       " <li class=\"xans-record-\" id=\"anchorBoxId_15355\">\n",
       " <div class=\"thumbnail\">\n",
       " <div class=\"prdImg\">\n",
       " <a href=\"/product/베베-빈티지-레터링-오버핏-후드-티셔츠-3-color/15355/category/46/display/1/\" name=\"anchorBoxName_15355\"><img alt=\"베베 빈티지 레터링 오버핏 후드 티셔츠 - 3 color\" id=\"eListPrdImage15355_1\" src=\"//dailyjou.com/web/product/medium/202309/2e8c0daa550ac5c26e6ccbd3e0c58821.gif\"/></a>\n",
       " </div>\n",
       " <div class=\"icon\">\n",
       " <div class=\"wish\"></div>\n",
       " <div class=\"likeButton displaynone\"><button type=\"button\"><strong></strong></button></div>\n",
       " <div class=\"option\"><a \"=\"\" onclick=\"optionPreview(this,'listnormal-0',15355,'T')\"><img alt=\"\" class=\"option_preview\" id=\"btn_preview_listnormal-015355\" src=\"//img.echosting.cafe24.com/design/skin/default/product/btn_option_view.gif\"/></a> </div>\n",
       " </div>\n",
       " </div>\n",
       " <div class=\"description\">\n",
       " <strong class=\"name\"><a class=\"\" href=\"/product/베베-빈티지-레터링-오버핏-후드-티셔츠-3-color/15355/category/46/display/1/\"><span class=\"title displaynone\"><span style=\"font-size:12px;color:#555555;\">상품명</span> :</span> <span style=\"font-size:12px;color:#555555;\">베베 빈티지 레터링 오버핏 후드 티셔츠 - 3 color</span></a></strong>\n",
       " <div class=\"deInner\">\n",
       " <ul class=\"xans-element- xans-product xans-product-listitem spec\"><li class=\"xans-record-\">\n",
       " <strong class=\"title displaynone\"><span style=\"font-size:12px;color:#333333;font-weight:bold;\">판매가</span> :</strong> <span style=\"font-size:12px;color:#333333;font-weight:bold;\">34,500</span><span id=\"span_product_tax_type_text\" style=\"\"> </span></li>\n",
       " <li class=\"xans-record-\">\n",
       " <strong class=\"title displaynone\"><span style=\"font-size:12px;color:#555555;\">상품색상</span> :</strong> <div class=\"color\"><span class=\"chips\" color_no=\"\" displaygroup=\"1\" style=\"background-color:#000000\" title=\"#000000\"></span><span class=\"chips\" color_no=\"\" displaygroup=\"1\" style=\"background-color:#FFFFFF\" title=\"#FFFFFF\"></span><span class=\"chips\" color_no=\"\" displaygroup=\"1\" style=\"background-color:#FEC0CB\" title=\"#FEC0CB\"></span></div></li>\n",
       " </ul>\n",
       " <div class=\"promotion\"> </div>\n",
       " </div>\n",
       " </div>\n",
       " </li>,\n",
       " <li class=\"xans-record-\" id=\"anchorBoxId_15361\">\n",
       " <div class=\"thumbnail\">\n",
       " <div class=\"prdImg\">\n",
       " <a href=\"/product/랄스비-프린팅-오버핏-맨투맨-긴팔-티셔츠공용-3-color/15361/category/46/display/1/\" name=\"anchorBoxName_15361\"><img alt=\"랄스비 프린팅 오버핏 맨투맨 긴팔 티셔츠(공용) - 3 color\" id=\"eListPrdImage15361_1\" src=\"//dailyjou.com/web/product/medium/202309/1d1147539690e6ec8a6743421316feb8.gif\"/></a>\n",
       " </div>\n",
       " <div class=\"icon\">\n",
       " <div class=\"wish\"></div>\n",
       " <div class=\"likeButton displaynone\"><button type=\"button\"><strong></strong></button></div>\n",
       " <div class=\"option\"><a \"=\"\" onclick=\"optionPreview(this,'listnormal-0',15361,'T')\"><img alt=\"\" class=\"option_preview\" id=\"btn_preview_listnormal-015361\" src=\"//img.echosting.cafe24.com/design/skin/default/product/btn_option_view.gif\"/></a> </div>\n",
       " </div>\n",
       " </div>\n",
       " <div class=\"description\">\n",
       " <strong class=\"name\"><a class=\"\" href=\"/product/랄스비-프린팅-오버핏-맨투맨-긴팔-티셔츠공용-3-color/15361/category/46/display/1/\"><span class=\"title displaynone\"><span style=\"font-size:12px;color:#555555;\">상품명</span> :</span> <span style=\"font-size:12px;color:#555555;\">랄스비 프린팅 오버핏 맨투맨 긴팔 티셔츠(공용) - 3 color</span></a></strong>\n",
       " <div class=\"deInner\">\n",
       " <ul class=\"xans-element- xans-product xans-product-listitem spec\"><li class=\"xans-record-\">\n",
       " <strong class=\"title displaynone\"><span style=\"font-size:12px;color:#333333;font-weight:bold;\">판매가</span> :</strong> <span style=\"font-size:12px;color:#333333;font-weight:bold;\">26,000</span><span id=\"span_product_tax_type_text\" style=\"\"> </span></li>\n",
       " <li class=\"xans-record-\">\n",
       " <strong class=\"title displaynone\"><span style=\"font-size:12px;color:#555555;\">상품색상</span> :</strong> <div class=\"color\"><span class=\"chips\" color_no=\"\" displaygroup=\"1\" style=\"background-color:#000000\" title=\"#000000\"></span><span class=\"chips\" color_no=\"\" displaygroup=\"1\" style=\"background-color:#474747\" title=\"#474747\"></span><span class=\"chips\" color_no=\"\" displaygroup=\"1\" style=\"background-color:#FFFFFF\" title=\"#FFFFFF\"></span></div></li>\n",
       " </ul>\n",
       " <div class=\"promotion\"> </div>\n",
       " </div>\n",
       " </div>\n",
       " </li>,\n",
       " <li class=\"xans-record-\" id=\"anchorBoxId_15369\">\n",
       " <div class=\"thumbnail\">\n",
       " <div class=\"prdImg\">\n",
       " <a href=\"/product/바킷-프린팅-배색-오버핏-후드-티셔츠공용-4-color/15369/category/46/display/1/\" name=\"anchorBoxName_15369\"><img alt=\"바킷 프린팅 배색 오버핏 후드 티셔츠(공용) - 4 color\" id=\"eListPrdImage15369_1\" src=\"//dailyjou.com/web/product/medium/202309/077f8f585126e4635a60a83d5018bef4.jpg\"/></a>\n",
       " </div>\n",
       " <div class=\"icon\">\n",
       " <div class=\"wish\"></div>\n",
       " <div class=\"likeButton displaynone\"><button type=\"button\"><strong></strong></button></div>\n",
       " <div class=\"option\"><a \"=\"\" onclick=\"optionPreview(this,'listnormal-0',15369,'T')\"><img alt=\"\" class=\"option_preview\" id=\"btn_preview_listnormal-015369\" src=\"//img.echosting.cafe24.com/design/skin/default/product/btn_option_view.gif\"/></a> </div>\n",
       " </div>\n",
       " </div>\n",
       " <div class=\"description\">\n",
       " <strong class=\"name\"><a class=\"\" href=\"/product/바킷-프린팅-배색-오버핏-후드-티셔츠공용-4-color/15369/category/46/display/1/\"><span class=\"title displaynone\"><span style=\"font-size:12px;color:#555555;\">상품명</span> :</span> <span style=\"font-size:12px;color:#555555;\">바킷 프린팅 배색 오버핏 후드 티셔츠(공용) - 4 color</span></a></strong>\n",
       " <div class=\"deInner\">\n",
       " <ul class=\"xans-element- xans-product xans-product-listitem spec\"><li class=\"xans-record-\">\n",
       " <strong class=\"title displaynone\"><span style=\"font-size:12px;color:#333333;font-weight:bold;\">판매가</span> :</strong> <span style=\"font-size:12px;color:#333333;font-weight:bold;\">26,000</span><span id=\"span_product_tax_type_text\" style=\"\"> </span></li>\n",
       " <li class=\"xans-record-\">\n",
       " <strong class=\"title displaynone\"><span style=\"font-size:12px;color:#555555;\">상품색상</span> :</strong> <div class=\"color\"><span class=\"chips\" color_no=\"\" displaygroup=\"1\" style=\"background-color:#A9A9A9\" title=\"#A9A9A9\"></span><span class=\"chips\" color_no=\"\" displaygroup=\"1\" style=\"background-color:#000082\" title=\"#000082\"></span><span class=\"chips\" color_no=\"\" displaygroup=\"1\" style=\"background-color:#E6E6E6\" title=\"#E6E6E6\"></span><span class=\"chips\" color_no=\"\" displaygroup=\"1\" style=\"background-color:#000000\" title=\"#000000\"></span></div></li>\n",
       " </ul>\n",
       " <div class=\"promotion\"> </div>\n",
       " </div>\n",
       " </div>\n",
       " </li>,\n",
       " <li class=\"xans-record-\" id=\"anchorBoxId_15286\">\n",
       " <div class=\"thumbnail\">\n",
       " <div class=\"prdImg\">\n",
       " <a href=\"/product/포터링-버터플라이-프린팅-맨투맨-티셔츠-5-color/15286/category/46/display/1/\" name=\"anchorBoxName_15286\"><img alt=\"포터링 버터플라이 프린팅 맨투맨 티셔츠 - 5 color\" id=\"eListPrdImage15286_1\" src=\"//dailyjou.com/web/product/medium/202308/0020ea40aa190adeeadbd4be159bbdca.gif\"/></a>\n",
       " </div>\n",
       " <div class=\"icon\">\n",
       " <div class=\"wish\"></div>\n",
       " <div class=\"likeButton displaynone\"><button type=\"button\"><strong></strong></button></div>\n",
       " <div class=\"option\"><a \"=\"\" onclick=\"optionPreview(this,'listnormal-0',15286,'T')\"><img alt=\"\" class=\"option_preview\" id=\"btn_preview_listnormal-015286\" src=\"//img.echosting.cafe24.com/design/skin/default/product/btn_option_view.gif\"/></a> </div>\n",
       " </div>\n",
       " </div>\n",
       " <div class=\"description\">\n",
       " <strong class=\"name\"><a class=\"\" href=\"/product/포터링-버터플라이-프린팅-맨투맨-티셔츠-5-color/15286/category/46/display/1/\"><span class=\"title displaynone\"><span style=\"font-size:12px;color:#555555;\">상품명</span> :</span> <span style=\"font-size:12px;color:#555555;\">포터링 버터플라이 프린팅 맨투맨 티셔츠 - 5 color</span></a></strong>\n",
       " <div class=\"deInner\">\n",
       " <ul class=\"xans-element- xans-product xans-product-listitem spec\"><li class=\"xans-record-\">\n",
       " <strong class=\"title displaynone\"><span style=\"font-size:12px;color:#333333;font-weight:bold;\">판매가</span> :</strong> <span style=\"font-size:12px;color:#333333;font-weight:bold;\">29,500</span><span id=\"span_product_tax_type_text\" style=\"\"> </span></li>\n",
       " <li class=\"xans-record-\">\n",
       " <strong class=\"title displaynone\"><span style=\"font-size:12px;color:#555555;\">상품색상</span> :</strong> <div class=\"color\"><span class=\"chips\" color_no=\"\" displaygroup=\"1\" style=\"background-color:#000000\" title=\"#000000\"></span><span class=\"chips\" color_no=\"\" displaygroup=\"1\" style=\"background-color:#474747\" title=\"#474747\"></span><span class=\"chips\" color_no=\"\" displaygroup=\"1\" style=\"background-color:#56754C\" title=\"#56754C\"></span><span class=\"chips\" color_no=\"\" displaygroup=\"1\" style=\"background-color:#FEC0CB\" title=\"#FEC0CB\"></span><span class=\"chips\" color_no=\"\" displaygroup=\"1\" style=\"background-color:#FFFFFF\" title=\"#FFFFFF\"></span></div></li>\n",
       " </ul>\n",
       " <div class=\"promotion\"> </div>\n",
       " </div>\n",
       " </div>\n",
       " </li>,\n",
       " <li class=\"xans-record-\" id=\"anchorBoxId_15292\">\n",
       " <div class=\"thumbnail\">\n",
       " <div class=\"prdImg\">\n",
       " <a href=\"/product/카주-스트랩-골지-라운드-티셔츠-4-color/15292/category/46/display/1/\" name=\"anchorBoxName_15292\"><img alt=\"카주 스트랩 골지 라운드 티셔츠 - 4 color\" id=\"eListPrdImage15292_1\" src=\"//dailyjou.com/web/product/medium/202308/d8de0137ea9254ed1fc73362b3077a66.gif\"/></a>\n",
       " </div>\n",
       " <div class=\"icon\">\n",
       " <div class=\"wish\"></div>\n",
       " <div class=\"likeButton displaynone\"><button type=\"button\"><strong></strong></button></div>\n",
       " <div class=\"option\"><a \"=\"\" onclick=\"optionPreview(this,'listnormal-0',15292,'T')\"><img alt=\"\" class=\"option_preview\" id=\"btn_preview_listnormal-015292\" src=\"//img.echosting.cafe24.com/design/skin/default/product/btn_option_view.gif\"/></a> </div>\n",
       " </div>\n",
       " </div>\n",
       " <div class=\"description\">\n",
       " <strong class=\"name\"><a class=\"\" href=\"/product/카주-스트랩-골지-라운드-티셔츠-4-color/15292/category/46/display/1/\"><span class=\"title displaynone\"><span style=\"font-size:12px;color:#555555;\">상품명</span> :</span> <span style=\"font-size:12px;color:#555555;\">카주 스트랩 골지 라운드 티셔츠 - 4 color</span></a></strong>\n",
       " <div class=\"deInner\">\n",
       " <ul class=\"xans-element- xans-product xans-product-listitem spec\"><li class=\"xans-record-\">\n",
       " <strong class=\"title displaynone\"><span style=\"font-size:12px;color:#333333;font-weight:bold;\">판매가</span> :</strong> <span style=\"font-size:12px;color:#333333;font-weight:bold;\">24,500</span><span id=\"span_product_tax_type_text\" style=\"\"> </span></li>\n",
       " <li class=\"xans-record-\">\n",
       " <strong class=\"title displaynone\"><span style=\"font-size:12px;color:#555555;\">상품색상</span> :</strong> <div class=\"color\"><span class=\"chips\" color_no=\"\" displaygroup=\"1\" style=\"background-color:#000000\" title=\"#000000\"></span><span class=\"chips\" color_no=\"\" displaygroup=\"1\" style=\"background-color:#A9A9A9\" title=\"#A9A9A9\"></span><span class=\"chips\" color_no=\"\" displaygroup=\"1\" style=\"background-color:#C20F0A\" title=\"#C20F0A\"></span><span class=\"chips\" color_no=\"\" displaygroup=\"1\" style=\"background-color:#FEFFEF\" title=\"#FEFFEF\"></span></div></li>\n",
       " </ul>\n",
       " <div class=\"promotion\"> </div>\n",
       " </div>\n",
       " </div>\n",
       " </li>,\n",
       " <li class=\"xans-record-\" id=\"anchorBoxId_15306\">\n",
       " <div class=\"thumbnail\">\n",
       " <div class=\"prdImg\">\n",
       " <a href=\"/product/에이듀-셔링-오픈-넥-티셔츠-2-color/15306/category/46/display/1/\" name=\"anchorBoxName_15306\"><img alt=\"에이듀 셔링 오픈 넥 티셔츠 - 2 color\" id=\"eListPrdImage15306_1\" src=\"//dailyjou.com/web/product/medium/202308/49ffb7b493c5b6ec0fdeb13ff315d00a.gif\"/></a>\n",
       " </div>\n",
       " <div class=\"icon\">\n",
       " <div class=\"wish\"></div>\n",
       " <div class=\"likeButton displaynone\"><button type=\"button\"><strong></strong></button></div>\n",
       " <div class=\"option\"><a \"=\"\" onclick=\"optionPreview(this,'listnormal-0',15306,'T')\"><img alt=\"\" class=\"option_preview\" id=\"btn_preview_listnormal-015306\" src=\"//img.echosting.cafe24.com/design/skin/default/product/btn_option_view.gif\"/></a> </div>\n",
       " </div>\n",
       " </div>\n",
       " <div class=\"description\">\n",
       " <strong class=\"name\"><a class=\"\" href=\"/product/에이듀-셔링-오픈-넥-티셔츠-2-color/15306/category/46/display/1/\"><span class=\"title displaynone\"><span style=\"font-size:12px;color:#555555;\">상품명</span> :</span> <span style=\"font-size:12px;color:#555555;\">에이듀 셔링 오픈 넥 티셔츠 - 2 color</span></a></strong>\n",
       " <div class=\"deInner\">\n",
       " <ul class=\"xans-element- xans-product xans-product-listitem spec\"><li class=\"xans-record-\">\n",
       " <strong class=\"title displaynone\"><span style=\"font-size:12px;color:#333333;font-weight:bold;\">판매가</span> :</strong> <span style=\"font-size:12px;color:#333333;font-weight:bold;\">24,500</span><span id=\"span_product_tax_type_text\" style=\"\"> </span></li>\n",
       " <li class=\"xans-record-\">\n",
       " <strong class=\"title displaynone\"><span style=\"font-size:12px;color:#555555;\">상품색상</span> :</strong> <div class=\"color\"><span class=\"chips\" color_no=\"\" displaygroup=\"1\" style=\"background-color:#501704\" title=\"#501704\"></span><span class=\"chips\" color_no=\"\" displaygroup=\"1\" style=\"background-color:#FEFFEF\" title=\"#FEFFEF\"></span></div></li>\n",
       " </ul>\n",
       " <div class=\"promotion\"> </div>\n",
       " </div>\n",
       " </div>\n",
       " </li>,\n",
       " <li class=\"xans-record-\" id=\"anchorBoxId_15342\">\n",
       " <div class=\"thumbnail\">\n",
       " <div class=\"prdImg\">\n",
       " <a href=\"/product/프리더-프린팅-배색-오버핏-긴팔-맨투맨-티셔츠공용-3-color/15342/category/46/display/1/\" name=\"anchorBoxName_15342\"><img alt=\"프리더 프린팅 배색 오버핏 긴팔 맨투맨 티셔츠(공용) - 3 color\" id=\"eListPrdImage15342_1\" src=\"//dailyjou.com/web/product/medium/202309/b55c92a53f01bb1a7ac23d9c80bb17f9.gif\"/></a>\n",
       " </div>\n",
       " <div class=\"icon\">\n",
       " <div class=\"wish\"></div>\n",
       " <div class=\"likeButton displaynone\"><button type=\"button\"><strong></strong></button></div>\n",
       " <div class=\"option\"><a \"=\"\" onclick=\"optionPreview(this,'listnormal-0',15342,'T')\"><img alt=\"\" class=\"option_preview\" id=\"btn_preview_listnormal-015342\" src=\"//img.echosting.cafe24.com/design/skin/default/product/btn_option_view.gif\"/></a> </div>\n",
       " </div>\n",
       " </div>\n",
       " <div class=\"description\">\n",
       " <strong class=\"name\"><a class=\"\" href=\"/product/프리더-프린팅-배색-오버핏-긴팔-맨투맨-티셔츠공용-3-color/15342/category/46/display/1/\"><span class=\"title displaynone\"><span style=\"font-size:12px;color:#555555;\">상품명</span> :</span> <span style=\"font-size:12px;color:#555555;\">프리더 프린팅 배색 오버핏 긴팔 맨투맨 티셔츠(공용) - 3 color</span></a></strong>\n",
       " <div class=\"deInner\">\n",
       " <ul class=\"xans-element- xans-product xans-product-listitem spec\"><li class=\"xans-record-\">\n",
       " <strong class=\"title displaynone\"><span style=\"font-size:12px;color:#333333;font-weight:bold;\">판매가</span> :</strong> <span style=\"font-size:12px;color:#333333;font-weight:bold;\">29,500</span><span id=\"span_product_tax_type_text\" style=\"\"> </span></li>\n",
       " <li class=\"xans-record-\">\n",
       " <strong class=\"title displaynone\"><span style=\"font-size:12px;color:#555555;\">상품색상</span> :</strong> <div class=\"color\"><span class=\"chips\" color_no=\"\" displaygroup=\"1\" style=\"background-color:#000000\" title=\"#000000\"></span><span class=\"chips\" color_no=\"\" displaygroup=\"1\" style=\"background-color:#474747\" title=\"#474747\"></span><span class=\"chips\" color_no=\"\" displaygroup=\"1\" style=\"background-color:#FFFFFF\" title=\"#FFFFFF\"></span></div></li>\n",
       " </ul>\n",
       " <div class=\"promotion\"> </div>\n",
       " </div>\n",
       " </div>\n",
       " </li>,\n",
       " <li class=\"xans-record-\" id=\"anchorBoxId_15351\">\n",
       " <div class=\"thumbnail\">\n",
       " <div class=\"prdImg\">\n",
       " <a href=\"/product/럽잇-피그먼트-나염-프린팅-오버핏-반팔-티셔츠-2-color/15351/category/46/display/1/\" name=\"anchorBoxName_15351\"><img alt=\"럽잇 피그먼트 나염 프린팅 오버핏 반팔 티셔츠 - 2 color\" id=\"eListPrdImage15351_1\" src=\"//dailyjou.com/web/product/medium/202309/fbf989ca50777a40ba7653b77945ffc9.jpg\"/></a>\n",
       " </div>\n",
       " <div class=\"icon\">\n",
       " <div class=\"wish\"></div>\n",
       " <div class=\"likeButton displaynone\"><button type=\"button\"><strong></strong></button></div>\n",
       " <div class=\"option\"><a \"=\"\" onclick=\"optionPreview(this,'listnormal-0',15351,'T')\"><img alt=\"\" class=\"option_preview\" id=\"btn_preview_listnormal-015351\" src=\"//img.echosting.cafe24.com/design/skin/default/product/btn_option_view.gif\"/></a> </div>\n",
       " </div>\n",
       " </div>\n",
       " <div class=\"description\">\n",
       " <strong class=\"name\"><a class=\"\" href=\"/product/럽잇-피그먼트-나염-프린팅-오버핏-반팔-티셔츠-2-color/15351/category/46/display/1/\"><span class=\"title displaynone\"><span style=\"font-size:12px;color:#555555;\">상품명</span> :</span> <span style=\"font-size:12px;color:#555555;\">럽잇 피그먼트 나염 프린팅 오버핏 반팔 티셔츠 - 2 color</span></a></strong>\n",
       " <div class=\"deInner\">\n",
       " <ul class=\"xans-element- xans-product xans-product-listitem spec\"><li class=\"xans-record-\">\n",
       " <strong class=\"title displaynone\"><span style=\"font-size:12px;color:#333333;font-weight:bold;\">판매가</span> :</strong> <span style=\"font-size:12px;color:#333333;font-weight:bold;\">36,500</span><span id=\"span_product_tax_type_text\" style=\"\"> </span></li>\n",
       " <li class=\"xans-record-\">\n",
       " <strong class=\"title displaynone\"><span style=\"font-size:12px;color:#555555;\">상품색상</span> :</strong> <div class=\"color\"><span class=\"chips\" color_no=\"\" displaygroup=\"1\" style=\"background-color:#760016\" title=\"#760016\"></span><span class=\"chips\" color_no=\"\" displaygroup=\"1\" style=\"background-color:#501704\" title=\"#501704\"></span></div></li>\n",
       " </ul>\n",
       " <div class=\"promotion\"> </div>\n",
       " </div>\n",
       " </div>\n",
       " </li>,\n",
       " <li class=\"xans-record-\" id=\"anchorBoxId_15358\">\n",
       " <div class=\"thumbnail\">\n",
       " <div class=\"prdImg\">\n",
       " <a href=\"/product/스타비티-빈티지-프린팅-오버핏-후드-티셔츠-3-color/15358/category/46/display/1/\" name=\"anchorBoxName_15358\"><img alt=\"스타비티 빈티지 프린팅 오버핏 후드 티셔츠 - 3 color\" id=\"eListPrdImage15358_1\" src=\"//dailyjou.com/web/product/medium/202309/b106aec0a3c264944161edb87d9f5b14.gif\"/></a>\n",
       " </div>\n",
       " <div class=\"icon\">\n",
       " <div class=\"wish\"></div>\n",
       " <div class=\"likeButton displaynone\"><button type=\"button\"><strong></strong></button></div>\n",
       " <div class=\"option\"><a \"=\"\" onclick=\"optionPreview(this,'listnormal-0',15358,'T')\"><img alt=\"\" class=\"option_preview\" id=\"btn_preview_listnormal-015358\" src=\"//img.echosting.cafe24.com/design/skin/default/product/btn_option_view.gif\"/></a> </div>\n",
       " </div>\n",
       " </div>\n",
       " <div class=\"description\">\n",
       " <strong class=\"name\"><a class=\"\" href=\"/product/스타비티-빈티지-프린팅-오버핏-후드-티셔츠-3-color/15358/category/46/display/1/\"><span class=\"title displaynone\"><span style=\"font-size:12px;color:#555555;\">상품명</span> :</span> <span style=\"font-size:12px;color:#555555;\">스타비티 빈티지 프린팅 오버핏 후드 티셔츠 - 3 color</span></a></strong>\n",
       " <div class=\"deInner\">\n",
       " <ul class=\"xans-element- xans-product xans-product-listitem spec\"><li class=\"xans-record-\">\n",
       " <strong class=\"title displaynone\"><span style=\"font-size:12px;color:#333333;font-weight:bold;\">판매가</span> :</strong> <span style=\"font-size:12px;color:#333333;font-weight:bold;\">34,500</span><span id=\"span_product_tax_type_text\" style=\"\"> </span></li>\n",
       " <li class=\"xans-record-\">\n",
       " <strong class=\"title displaynone\"><span style=\"font-size:12px;color:#555555;\">상품색상</span> :</strong> <div class=\"color\"><span class=\"chips\" color_no=\"\" displaygroup=\"1\" style=\"background-color:#000000\" title=\"#000000\"></span><span class=\"chips\" color_no=\"\" displaygroup=\"1\" style=\"background-color:#474747\" title=\"#474747\"></span><span class=\"chips\" color_no=\"\" displaygroup=\"1\" style=\"background-color:#FFFFFF\" title=\"#FFFFFF\"></span></div></li>\n",
       " </ul>\n",
       " <div class=\"promotion\"> </div>\n",
       " </div>\n",
       " </div>\n",
       " </li>,\n",
       " <li class=\"xans-record-\" id=\"anchorBoxId_15276\">\n",
       " <div class=\"thumbnail\">\n",
       " <div class=\"prdImg\">\n",
       " <a href=\"/product/made-파서블-스트링-바스락-후드-티셔츠-4-color/15276/category/46/display/1/\" name=\"anchorBoxName_15276\"><img alt=\"[MADE] 파서블 스트링 바스락 후드 티셔츠 - 4 color\" id=\"eListPrdImage15276_1\" src=\"//dailyjou.com/web/product/medium/202308/8cdb3ad60ad7bd6801d75b721a889392.gif\"/></a>\n",
       " </div>\n",
       " <div class=\"icon\">\n",
       " <div class=\"wish\"></div>\n",
       " <div class=\"likeButton displaynone\"><button type=\"button\"><strong></strong></button></div>\n",
       " <div class=\"option\"><a \"=\"\" onclick=\"optionPreview(this,'listnormal-0',15276,'T')\"><img alt=\"\" class=\"option_preview\" id=\"btn_preview_listnormal-015276\" src=\"//img.echosting.cafe24.com/design/skin/default/product/btn_option_view.gif\"/></a> </div>\n",
       " </div>\n",
       " </div>\n",
       " <div class=\"description\">\n",
       " <strong class=\"name\"><a class=\"\" href=\"/product/made-파서블-스트링-바스락-후드-티셔츠-4-color/15276/category/46/display/1/\"><span class=\"title displaynone\"><span style=\"font-size:12px;color:#555555;\">상품명</span> :</span> <span style=\"font-size:12px;color:#555555;\">[MADE] 파서블 스트링 바스락 후드 티셔츠 - 4 color</span></a></strong>\n",
       " <div class=\"deInner\">\n",
       " <ul class=\"xans-element- xans-product xans-product-listitem spec\"><li class=\"xans-record-\">\n",
       " <strong class=\"title displaynone\"><span style=\"font-size:12px;color:#333333;font-weight:bold;\">판매가</span> :</strong> <span style=\"font-size:12px;color:#333333;font-weight:bold;\">22,000</span><span id=\"span_product_tax_type_text\" style=\"\"> </span></li>\n",
       " <li class=\"xans-record-\">\n",
       " <strong class=\"title displaynone\"><span style=\"font-size:12px;color:#555555;\">상품색상</span> :</strong> <div class=\"color\"><span class=\"chips\" color_no=\"\" displaygroup=\"1\" style=\"background-color:#FEFFEF\" title=\"#FEFFEF\"></span><span class=\"chips\" color_no=\"\" displaygroup=\"1\" style=\"background-color:#00B3FF\" title=\"#00B3FF\"></span><span class=\"chips\" color_no=\"\" displaygroup=\"1\" style=\"background-color:#D7B170\" title=\"#D7B170\"></span><span class=\"chips\" color_no=\"\" displaygroup=\"1\" style=\"background-color:#000000\" title=\"#000000\"></span></div></li>\n",
       " </ul>\n",
       " <div class=\"promotion\"> </div>\n",
       " </div>\n",
       " </div>\n",
       " </li>,\n",
       " <li class=\"xans-record-\" id=\"anchorBoxId_15266\">\n",
       " <div class=\"thumbnail\">\n",
       " <div class=\"prdImg\">\n",
       " <a href=\"/product/리우러-배색-레글런-프린팅-긴팔-티셔츠-3-color/15266/category/46/display/1/\" name=\"anchorBoxName_15266\"><img alt=\"리우러 배색 레글런 프린팅 긴팔 티셔츠 - 3 color\" id=\"eListPrdImage15266_1\" src=\"//dailyjou.com/web/product/medium/202308/c6de68d217839aab53309ff43c0b1714.gif\"/></a>\n",
       " </div>\n",
       " <div class=\"icon\">\n",
       " <div class=\"wish\"></div>\n",
       " <div class=\"likeButton displaynone\"><button type=\"button\"><strong></strong></button></div>\n",
       " <div class=\"option\"><a \"=\"\" onclick=\"optionPreview(this,'listnormal-0',15266,'T')\"><img alt=\"\" class=\"option_preview\" id=\"btn_preview_listnormal-015266\" src=\"//img.echosting.cafe24.com/design/skin/default/product/btn_option_view.gif\"/></a> </div>\n",
       " </div>\n",
       " </div>\n",
       " <div class=\"description\">\n",
       " <strong class=\"name\"><a class=\"\" href=\"/product/리우러-배색-레글런-프린팅-긴팔-티셔츠-3-color/15266/category/46/display/1/\"><span class=\"title displaynone\"><span style=\"font-size:12px;color:#555555;\">상품명</span> :</span> <span style=\"font-size:12px;color:#555555;\">리우러 배색 레글런 프린팅 긴팔 티셔츠 - 3 color</span></a></strong>\n",
       " <div class=\"deInner\">\n",
       " <ul class=\"xans-element- xans-product xans-product-listitem spec\"><li class=\"xans-record-\">\n",
       " <strong class=\"title displaynone\"><span style=\"font-size:12px;color:#333333;font-weight:bold;\">판매가</span> :</strong> <span style=\"font-size:12px;color:#333333;font-weight:bold;\">16,000</span><span id=\"span_product_tax_type_text\" style=\"\"> </span></li>\n",
       " <li class=\"xans-record-\">\n",
       " <strong class=\"title displaynone\"><span style=\"font-size:12px;color:#555555;\">상품색상</span> :</strong> <div class=\"color\"><span class=\"chips\" color_no=\"\" displaygroup=\"1\" style=\"background-color:#A9A9A9\" title=\"#A9A9A9\"></span><span class=\"chips\" color_no=\"\" displaygroup=\"1\" style=\"background-color:#DBDBDB\" title=\"#DBDBDB\"></span><span class=\"chips\" color_no=\"\" displaygroup=\"1\" style=\"background-color:#EBDCC5\" title=\"#EBDCC5\"></span></div></li>\n",
       " </ul>\n",
       " <div class=\"promotion\"> </div>\n",
       " </div>\n",
       " </div>\n",
       " </li>,\n",
       " <li class=\"xans-record-\" id=\"anchorBoxId_15259\">\n",
       " <div class=\"thumbnail\">\n",
       " <div class=\"prdImg\">\n",
       " <a href=\"/product/띵스-프린팅-긴팔-티셔츠-3-color/15259/category/46/display/1/\" name=\"anchorBoxName_15259\"><img alt=\"띵스 프린팅 긴팔 티셔츠 - 3 color\" id=\"eListPrdImage15259_1\" src=\"//dailyjou.com/web/product/medium/202308/8a42a80f7271c6762f509590f4635497.gif\"/></a>\n",
       " </div>\n",
       " <div class=\"icon\">\n",
       " <div class=\"wish\"></div>\n",
       " <div class=\"likeButton displaynone\"><button type=\"button\"><strong></strong></button></div>\n",
       " <div class=\"option\"><a \"=\"\" onclick=\"optionPreview(this,'listnormal-0',15259,'T')\"><img alt=\"\" class=\"option_preview\" id=\"btn_preview_listnormal-015259\" src=\"//img.echosting.cafe24.com/design/skin/default/product/btn_option_view.gif\"/></a> </div>\n",
       " </div>\n",
       " </div>\n",
       " <div class=\"description\">\n",
       " <strong class=\"name\"><a class=\"\" href=\"/product/띵스-프린팅-긴팔-티셔츠-3-color/15259/category/46/display/1/\"><span class=\"title displaynone\"><span style=\"font-size:12px;color:#555555;\">상품명</span> :</span> <span style=\"font-size:12px;color:#555555;\">띵스 프린팅 긴팔 티셔츠 - 3 color</span></a></strong>\n",
       " <div class=\"deInner\">\n",
       " <ul class=\"xans-element- xans-product xans-product-listitem spec\"><li class=\"xans-record-\">\n",
       " <strong class=\"title displaynone\"><span style=\"font-size:12px;color:#333333;font-weight:bold;\">판매가</span> :</strong> <span style=\"font-size:12px;color:#333333;font-weight:bold;\">21,000</span><span id=\"span_product_tax_type_text\" style=\"\"> </span></li>\n",
       " <li class=\"xans-record-\">\n",
       " <strong class=\"title displaynone\"><span style=\"font-size:12px;color:#555555;\">상품색상</span> :</strong> <div class=\"color\"><span class=\"chips\" color_no=\"\" displaygroup=\"1\" style=\"background-color:#474747\" title=\"#474747\"></span><span class=\"chips\" color_no=\"\" displaygroup=\"1\" style=\"background-color:#E0E0E0\" title=\"#E0E0E0\"></span><span class=\"chips\" color_no=\"\" displaygroup=\"1\" style=\"background-color:#FFFFFF\" title=\"#FFFFFF\"></span></div></li>\n",
       " </ul>\n",
       " <div class=\"promotion\"> </div>\n",
       " </div>\n",
       " </div>\n",
       " </li>,\n",
       " <li class=\"xans-record-\" id=\"anchorBoxId_15218\">\n",
       " <div class=\"thumbnail\">\n",
       " <div class=\"prdImg\">\n",
       " <a href=\"/product/스펙터-오버핏-프린팅-티셔츠-3-color/15218/category/46/display/1/\" name=\"anchorBoxName_15218\"><img alt=\"스펙터 오버핏 프린팅 티셔츠 - 3 color\" id=\"eListPrdImage15218_1\" src=\"//dailyjou.com/web/product/medium/202308/4042d0c3230cca66916a45e7e56a6ca5.gif\"/></a>\n",
       " </div>\n",
       " <div class=\"icon\">\n",
       " <div class=\"wish\"></div>\n",
       " <div class=\"likeButton displaynone\"><button type=\"button\"><strong></strong></button></div>\n",
       " <div class=\"option\"><a \"=\"\" onclick=\"optionPreview(this,'listnormal-0',15218,'T')\"><img alt=\"\" class=\"option_preview\" id=\"btn_preview_listnormal-015218\" src=\"//img.echosting.cafe24.com/design/skin/default/product/btn_option_view.gif\"/></a> </div>\n",
       " </div>\n",
       " </div>\n",
       " <div class=\"description\">\n",
       " <strong class=\"name\"><a class=\"\" href=\"/product/스펙터-오버핏-프린팅-티셔츠-3-color/15218/category/46/display/1/\"><span class=\"title displaynone\"><span style=\"font-size:12px;color:#555555;\">상품명</span> :</span> <span style=\"font-size:12px;color:#555555;\">스펙터 오버핏 프린팅 티셔츠 - 3 color</span></a></strong>\n",
       " <div class=\"deInner\">\n",
       " <ul class=\"xans-element- xans-product xans-product-listitem spec\"><li class=\"xans-record-\">\n",
       " <strong class=\"title displaynone\"><span style=\"font-size:12px;color:#333333;font-weight:bold;\">판매가</span> :</strong> <span style=\"font-size:12px;color:#333333;font-weight:bold;\">16,000</span><span id=\"span_product_tax_type_text\" style=\"\"> </span></li>\n",
       " <li class=\"xans-record-\">\n",
       " <strong class=\"title displaynone\"><span style=\"font-size:12px;color:#555555;\">상품색상</span> :</strong> <div class=\"color\"><span class=\"chips\" color_no=\"\" displaygroup=\"1\" style=\"background-color:#A9A9A9\" title=\"#A9A9A9\"></span><span class=\"chips\" color_no=\"\" displaygroup=\"1\" style=\"background-color:#000000\" title=\"#000000\"></span><span class=\"chips\" color_no=\"\" displaygroup=\"1\" style=\"background-color:#FFFFFF\" title=\"#FFFFFF\"></span></div></li>\n",
       " </ul>\n",
       " <div class=\"promotion\"> </div>\n",
       " </div>\n",
       " </div>\n",
       " </li>,\n",
       " <li class=\"xans-record-\" id=\"anchorBoxId_15250\">\n",
       " <div class=\"thumbnail\">\n",
       " <div class=\"prdImg\">\n",
       " <a href=\"/product/넬리지-베이직-라운드-u넥-티셔츠-3-color/15250/category/46/display/1/\" name=\"anchorBoxName_15250\"><img alt=\"넬리지 베이직 라운드 U넥 티셔츠 - 3 color\" id=\"eListPrdImage15250_1\" src=\"//dailyjou.com/web/product/medium/202308/384e6bd732c85002ef024fe63b9b4b23.gif\"/></a>\n",
       " </div>\n",
       " <div class=\"icon\">\n",
       " <div class=\"wish\"></div>\n",
       " <div class=\"likeButton displaynone\"><button type=\"button\"><strong></strong></button></div>\n",
       " <div class=\"option\"><a \"=\"\" onclick=\"optionPreview(this,'listnormal-0',15250,'T')\"><img alt=\"\" class=\"option_preview\" id=\"btn_preview_listnormal-015250\" src=\"//img.echosting.cafe24.com/design/skin/default/product/btn_option_view.gif\"/></a> </div>\n",
       " </div>\n",
       " </div>\n",
       " <div class=\"description\">\n",
       " <strong class=\"name\"><a class=\"\" href=\"/product/넬리지-베이직-라운드-u넥-티셔츠-3-color/15250/category/46/display/1/\"><span class=\"title displaynone\"><span style=\"font-size:12px;color:#555555;\">상품명</span> :</span> <span style=\"font-size:12px;color:#555555;\">넬리지 베이직 라운드 U넥 티셔츠 - 3 color</span></a></strong>\n",
       " <div class=\"deInner\">\n",
       " <ul class=\"xans-element- xans-product xans-product-listitem spec\"><li class=\"xans-record-\">\n",
       " <strong class=\"title displaynone\"><span style=\"font-size:12px;color:#333333;font-weight:bold;\">판매가</span> :</strong> <span style=\"font-size:12px;color:#333333;font-weight:bold;\">21,000</span><span id=\"span_product_tax_type_text\" style=\"\"> </span></li>\n",
       " <li class=\"xans-record-\">\n",
       " <strong class=\"title displaynone\"><span style=\"font-size:12px;color:#555555;\">상품색상</span> :</strong> <div class=\"color\"><span class=\"chips\" color_no=\"\" displaygroup=\"1\" style=\"background-color:#000000\" title=\"#000000\"></span><span class=\"chips\" color_no=\"\" displaygroup=\"1\" style=\"background-color:#D7B170\" title=\"#D7B170\"></span><span class=\"chips\" color_no=\"\" displaygroup=\"1\" style=\"background-color:#FEFFEF\" title=\"#FEFFEF\"></span></div></li>\n",
       " </ul>\n",
       " <div class=\"promotion\"> </div>\n",
       " </div>\n",
       " </div>\n",
       " </li>,\n",
       " <li class=\"xans-record-\" id=\"anchorBoxId_15213\">\n",
       " <div class=\"thumbnail\">\n",
       " <div class=\"prdImg\">\n",
       " <a href=\"/product/베버리아-빈티지-프린팅-테리-반팔-티셔츠-3-color/15213/category/46/display/1/\" name=\"anchorBoxName_15213\"><img alt=\"베버리아 빈티지 프린팅 테리 반팔 티셔츠 - 3 color\" id=\"eListPrdImage15213_1\" src=\"//dailyjou.com/web/product/medium/202308/4b8fdb1cdef8d7bf77b0aa79a504d5e2.jpg\"/></a>\n",
       " </div>\n",
       " <div class=\"icon\">\n",
       " <div class=\"wish\"></div>\n",
       " <div class=\"likeButton displaynone\"><button type=\"button\"><strong></strong></button></div>\n",
       " <div class=\"option\"><a \"=\"\" onclick=\"optionPreview(this,'listnormal-0',15213,'T')\"><img alt=\"\" class=\"option_preview\" id=\"btn_preview_listnormal-015213\" src=\"//img.echosting.cafe24.com/design/skin/default/product/btn_option_view.gif\"/></a> </div>\n",
       " </div>\n",
       " </div>\n",
       " <div class=\"description\">\n",
       " <strong class=\"name\"><a class=\"\" href=\"/product/베버리아-빈티지-프린팅-테리-반팔-티셔츠-3-color/15213/category/46/display/1/\"><span class=\"title displaynone\"><span style=\"font-size:12px;color:#555555;\">상품명</span> :</span> <span style=\"font-size:12px;color:#555555;\">베버리아 빈티지 프린팅 테리 반팔 티셔츠 - 3 color</span></a></strong>\n",
       " <div class=\"deInner\">\n",
       " <ul class=\"xans-element- xans-product xans-product-listitem spec\"><li class=\"xans-record-\">\n",
       " <strong class=\"title displaynone\"><span style=\"font-size:12px;color:#333333;font-weight:bold;\">판매가</span> :</strong> <span style=\"font-size:12px;color:#333333;font-weight:bold;\">33,000</span><span id=\"span_product_tax_type_text\" style=\"\"> </span></li>\n",
       " <li class=\"xans-record-\">\n",
       " <strong class=\"title displaynone\"><span style=\"font-size:12px;color:#555555;\">상품색상</span> :</strong> <div class=\"color\"><span class=\"chips\" color_no=\"\" displaygroup=\"1\" style=\"background-color:#A9A9A9\" title=\"#A9A9A9\"></span><span class=\"chips\" color_no=\"\" displaygroup=\"1\" style=\"background-color:#00B3FF\" title=\"#00B3FF\"></span><span class=\"chips\" color_no=\"\" displaygroup=\"1\" style=\"background-color:#56754C\" title=\"#56754C\"></span></div></li>\n",
       " </ul>\n",
       " <div class=\"promotion\"> </div>\n",
       " </div>\n",
       " </div>\n",
       " </li>,\n",
       " <li class=\"xans-record-\" id=\"anchorBoxId_15261\">\n",
       " <div class=\"thumbnail\">\n",
       " <div class=\"prdImg\">\n",
       " <a href=\"/product/럽럽-캣츠-프린팅-반팔-티셔츠-2-color/15261/category/46/display/1/\" name=\"anchorBoxName_15261\"><img alt=\"럽럽 캣츠 프린팅 반팔 티셔츠 - 2 color\" id=\"eListPrdImage15261_1\" src=\"//dailyjou.com/web/product/medium/202308/c756992bbfb9b68ab362be767be992d3.gif\"/></a>\n",
       " </div>\n",
       " <div class=\"icon\">\n",
       " <div class=\"wish\"></div>\n",
       " <div class=\"likeButton displaynone\"><button type=\"button\"><strong></strong></button></div>\n",
       " <div class=\"option\"><a \"=\"\" onclick=\"optionPreview(this,'listnormal-0',15261,'T')\"><img alt=\"\" class=\"option_preview\" id=\"btn_preview_listnormal-015261\" src=\"//img.echosting.cafe24.com/design/skin/default/product/btn_option_view.gif\"/></a> </div>\n",
       " </div>\n",
       " </div>\n",
       " <div class=\"description\">\n",
       " <strong class=\"name\"><a class=\"\" href=\"/product/럽럽-캣츠-프린팅-반팔-티셔츠-2-color/15261/category/46/display/1/\"><span class=\"title displaynone\"><span style=\"font-size:12px;color:#555555;\">상품명</span> :</span> <span style=\"font-size:12px;color:#555555;\">럽럽 캣츠 프린팅 반팔 티셔츠 - 2 color</span></a></strong>\n",
       " <div class=\"deInner\">\n",
       " <ul class=\"xans-element- xans-product xans-product-listitem spec\"><li class=\"xans-record-\">\n",
       " <strong class=\"title displaynone\"><span style=\"font-size:12px;color:#333333;font-weight:bold;\">판매가</span> :</strong> <span style=\"font-size:12px;color:#333333;font-weight:bold;\">33,000</span><span id=\"span_product_tax_type_text\" style=\"\"> </span></li>\n",
       " <li class=\"xans-record-\">\n",
       " <strong class=\"title displaynone\"><span style=\"font-size:12px;color:#555555;\">상품색상</span> :</strong> <div class=\"color\"><span class=\"chips\" color_no=\"\" displaygroup=\"1\" style=\"background-color:#E6E6E6\" title=\"#E6E6E6\"></span><span class=\"chips\" color_no=\"\" displaygroup=\"1\" style=\"background-color:#EBDCC5\" title=\"#EBDCC5\"></span></div></li>\n",
       " </ul>\n",
       " <div class=\"promotion\"> </div>\n",
       " </div>\n",
       " </div>\n",
       " </li>,\n",
       " <li class=\"xans-record-\" id=\"anchorBoxId_15230\">\n",
       " <div class=\"thumbnail\">\n",
       " <div class=\"prdImg\">\n",
       " <a href=\"/product/뮤드-라운드-무지-티셔츠-4-color/15230/category/46/display/1/\" name=\"anchorBoxName_15230\"><img alt=\"뮤드 라운드 무지 티셔츠 - 4 color\" id=\"eListPrdImage15230_1\" src=\"//dailyjou.com/web/product/medium/202308/a061423aac3452860bb81c4feb9ab0a4.jpg\"/></a>\n",
       " </div>\n",
       " <div class=\"icon\">\n",
       " <div class=\"wish\"></div>\n",
       " <div class=\"likeButton displaynone\"><button type=\"button\"><strong></strong></button></div>\n",
       " <div class=\"option\"><a \"=\"\" onclick=\"optionPreview(this,'listnormal-0',15230,'T')\"><img alt=\"\" class=\"option_preview\" id=\"btn_preview_listnormal-015230\" src=\"//img.echosting.cafe24.com/design/skin/default/product/btn_option_view.gif\"/></a> </div>\n",
       " </div>\n",
       " </div>\n",
       " <div class=\"description\">\n",
       " <strong class=\"name\"><a class=\"\" href=\"/product/뮤드-라운드-무지-티셔츠-4-color/15230/category/46/display/1/\"><span class=\"title displaynone\"><span style=\"font-size:12px;color:#555555;\">상품명</span> :</span> <span style=\"font-size:12px;color:#555555;\">뮤드 라운드 무지 티셔츠 - 4 color</span></a></strong>\n",
       " <div class=\"deInner\">\n",
       " <ul class=\"xans-element- xans-product xans-product-listitem spec\"><li class=\"xans-record-\">\n",
       " <strong class=\"title displaynone\"><span style=\"font-size:12px;color:#333333;font-weight:bold;\">판매가</span> :</strong> <span style=\"font-size:12px;color:#333333;font-weight:bold;\">26,000</span><span id=\"span_product_tax_type_text\" style=\"\"> </span></li>\n",
       " <li class=\"xans-record-\">\n",
       " <strong class=\"title displaynone\"><span style=\"font-size:12px;color:#555555;\">상품색상</span> :</strong> <div class=\"color\"><span class=\"chips\" color_no=\"\" displaygroup=\"1\" style=\"background-color:#000000\" title=\"#000000\"></span><span class=\"chips\" color_no=\"\" displaygroup=\"1\" style=\"background-color:#474747\" title=\"#474747\"></span><span class=\"chips\" color_no=\"\" displaygroup=\"1\" style=\"background-color:#501704\" title=\"#501704\"></span><span class=\"chips\" color_no=\"\" displaygroup=\"1\" style=\"background-color:#D7B170\" title=\"#D7B170\"></span></div></li>\n",
       " </ul>\n",
       " <div class=\"promotion\"> </div>\n",
       " </div>\n",
       " </div>\n",
       " </li>,\n",
       " <li class=\"xans-record-\" id=\"anchorBoxId_15245\">\n",
       " <div class=\"thumbnail\">\n",
       " <div class=\"prdImg\">\n",
       " <a href=\"/product/뮤알-골지-오프숄더-티셔츠-3-color/15245/category/46/display/1/\" name=\"anchorBoxName_15245\"><img alt=\"뮤알 골지 오프숄더 티셔츠 - 3 color\" id=\"eListPrdImage15245_1\" src=\"//dailyjou.com/web/product/medium/202308/abf84ce2c541d1770c977c4d01e52cc4.gif\"/></a>\n",
       " </div>\n",
       " <div class=\"icon\">\n",
       " <div class=\"wish\"></div>\n",
       " <div class=\"likeButton displaynone\"><button type=\"button\"><strong></strong></button></div>\n",
       " <div class=\"option\"><a \"=\"\" onclick=\"optionPreview(this,'listnormal-0',15245,'T')\"><img alt=\"\" class=\"option_preview\" id=\"btn_preview_listnormal-015245\" src=\"//img.echosting.cafe24.com/design/skin/default/product/btn_option_view.gif\"/></a> </div>\n",
       " </div>\n",
       " </div>\n",
       " <div class=\"description\">\n",
       " <strong class=\"name\"><a class=\"\" href=\"/product/뮤알-골지-오프숄더-티셔츠-3-color/15245/category/46/display/1/\"><span class=\"title displaynone\"><span style=\"font-size:12px;color:#555555;\">상품명</span> :</span> <span style=\"font-size:12px;color:#555555;\">뮤알 골지 오프숄더 티셔츠 - 3 color</span></a></strong>\n",
       " <div class=\"deInner\">\n",
       " <ul class=\"xans-element- xans-product xans-product-listitem spec\"><li class=\"xans-record-\">\n",
       " <strong class=\"title displaynone\"><span style=\"font-size:12px;color:#333333;font-weight:bold;\">판매가</span> :</strong> <span style=\"font-size:12px;color:#333333;font-weight:bold;\">22,500</span><span id=\"span_product_tax_type_text\" style=\"\"> </span></li>\n",
       " <li class=\"xans-record-\">\n",
       " <strong class=\"title displaynone\"><span style=\"font-size:12px;color:#555555;\">상품색상</span> :</strong> <div class=\"color\"><span class=\"chips\" color_no=\"\" displaygroup=\"1\" style=\"background-color:#000000\" title=\"#000000\"></span><span class=\"chips\" color_no=\"\" displaygroup=\"1\" style=\"background-color:#FEFFEF\" title=\"#FEFFEF\"></span><span class=\"chips\" color_no=\"\" displaygroup=\"1\" style=\"background-color:#A9A9A9\" title=\"#A9A9A9\"></span></div></li>\n",
       " </ul>\n",
       " <div class=\"promotion\"> </div>\n",
       " </div>\n",
       " </div>\n",
       " </li>,\n",
       " <li class=\"xans-record-\" id=\"anchorBoxId_15249\">\n",
       " <div class=\"thumbnail\">\n",
       " <div class=\"prdImg\">\n",
       " <a href=\"/product/모카츠-린넨-후드-하프-집업-티셔츠-3-color/15249/category/46/display/1/\" name=\"anchorBoxName_15249\"><img alt=\"모카츠 린넨 후드 하프 집업 티셔츠 - 3 color\" id=\"eListPrdImage15249_1\" src=\"//dailyjou.com/web/product/medium/202308/713bc76aed4db5ef6d5310a631ff9909.gif\"/></a>\n",
       " </div>\n",
       " <div class=\"icon\">\n",
       " <div class=\"wish\"></div>\n",
       " <div class=\"likeButton displaynone\"><button type=\"button\"><strong></strong></button></div>\n",
       " <div class=\"option\"><a \"=\"\" onclick=\"optionPreview(this,'listnormal-0',15249,'T')\"><img alt=\"\" class=\"option_preview\" id=\"btn_preview_listnormal-015249\" src=\"//img.echosting.cafe24.com/design/skin/default/product/btn_option_view.gif\"/></a> </div>\n",
       " </div>\n",
       " </div>\n",
       " <div class=\"description\">\n",
       " <strong class=\"name\"><a class=\"\" href=\"/product/모카츠-린넨-후드-하프-집업-티셔츠-3-color/15249/category/46/display/1/\"><span class=\"title displaynone\"><span style=\"font-size:12px;color:#555555;\">상품명</span> :</span> <span style=\"font-size:12px;color:#555555;\">모카츠 린넨 후드 하프 집업 티셔츠 - 3 color</span></a></strong>\n",
       " <div class=\"deInner\">\n",
       " <ul class=\"xans-element- xans-product xans-product-listitem spec\"><li class=\"xans-record-\">\n",
       " <strong class=\"title displaynone\"><span style=\"font-size:12px;color:#333333;font-weight:bold;\">판매가</span> :</strong> <span style=\"font-size:12px;color:#333333;font-weight:bold;\">29,500</span><span id=\"span_product_tax_type_text\" style=\"\"> </span></li>\n",
       " <li class=\"xans-record-\">\n",
       " <strong class=\"title displaynone\"><span style=\"font-size:12px;color:#555555;\">상품색상</span> :</strong> <div class=\"color\"><span class=\"chips\" color_no=\"\" displaygroup=\"1\" style=\"background-color:#000000\" title=\"#000000\"></span><span class=\"chips\" color_no=\"\" displaygroup=\"1\" style=\"background-color:#FEFFEF\" title=\"#FEFFEF\"></span><span class=\"chips\" color_no=\"\" displaygroup=\"1\" style=\"background-color:#A9A9A9\" title=\"#A9A9A9\"></span></div></li>\n",
       " </ul>\n",
       " <div class=\"promotion\"> </div>\n",
       " </div>\n",
       " </div>\n",
       " </li>,\n",
       " <li class=\"xans-record-\" id=\"anchorBoxId_15274\">\n",
       " <div class=\"thumbnail\">\n",
       " <div class=\"prdImg\">\n",
       " <a href=\"/product/쉐더-프린팅-반팔-티셔츠-3-color/15274/category/46/display/1/\" name=\"anchorBoxName_15274\"><img alt=\"쉐더 프린팅 반팔 티셔츠 - 3 color\" id=\"eListPrdImage15274_1\" src=\"//dailyjou.com/web/product/medium/202308/b21b5509aaa00ff540ac33f7bcbabf7b.gif\"/></a>\n",
       " </div>\n",
       " <div class=\"icon\">\n",
       " <div class=\"wish\"></div>\n",
       " <div class=\"likeButton displaynone\"><button type=\"button\"><strong></strong></button></div>\n",
       " <div class=\"option\"><a \"=\"\" onclick=\"optionPreview(this,'listnormal-0',15274,'T')\"><img alt=\"\" class=\"option_preview\" id=\"btn_preview_listnormal-015274\" src=\"//img.echosting.cafe24.com/design/skin/default/product/btn_option_view.gif\"/></a> </div>\n",
       " </div>\n",
       " </div>\n",
       " <div class=\"description\">\n",
       " <strong class=\"name\"><a class=\"\" href=\"/product/쉐더-프린팅-반팔-티셔츠-3-color/15274/category/46/display/1/\"><span class=\"title displaynone\"><span style=\"font-size:12px;color:#555555;\">상품명</span> :</span> <span style=\"font-size:12px;color:#555555;\">쉐더 프린팅 반팔 티셔츠 - 3 color</span></a></strong>\n",
       " <div class=\"deInner\">\n",
       " <ul class=\"xans-element- xans-product xans-product-listitem spec\"><li class=\"xans-record-\">\n",
       " <strong class=\"title displaynone\"><span style=\"font-size:12px;color:#333333;font-weight:bold;\">판매가</span> :</strong> <span style=\"font-size:12px;color:#333333;font-weight:bold;\">22,000</span><span id=\"span_product_tax_type_text\" style=\"\"> </span></li>\n",
       " <li class=\"xans-record-\">\n",
       " <strong class=\"title displaynone\"><span style=\"font-size:12px;color:#555555;\">상품색상</span> :</strong> <div class=\"color\"><span class=\"chips\" color_no=\"\" displaygroup=\"1\" style=\"background-color:#000082\" title=\"#000082\"></span><span class=\"chips\" color_no=\"\" displaygroup=\"1\" style=\"background-color:#474747\" title=\"#474747\"></span><span class=\"chips\" color_no=\"\" displaygroup=\"1\" style=\"background-color:#FEFFEF\" title=\"#FEFFEF\"></span></div></li>\n",
       " </ul>\n",
       " <div class=\"promotion\"> </div>\n",
       " </div>\n",
       " </div>\n",
       " </li>,\n",
       " <li class=\"xans-record-\" id=\"anchorBoxId_13982\">\n",
       " <div class=\"thumbnail\">\n",
       " <div class=\"prdImg\">\n",
       " <a href=\"/product/made-푸딩-크롭-라운드-티셔츠-11-이벤트-8-color/13982/category/46/display/1/\" name=\"anchorBoxName_13982\"><img alt=\"[MADE] 푸딩 크롭 라운드 티셔츠 (1+1 이벤트) - 8 color\" id=\"eListPrdImage13982_1\" src=\"//dailyjou.com/web/product/medium/202308/7605e5c052b6a25e628979d604fef33e.gif\"/></a>\n",
       " </div>\n",
       " <div class=\"icon\">\n",
       " <div class=\"wish\"></div>\n",
       " <div class=\"likeButton displaynone\"><button type=\"button\"><strong></strong></button></div>\n",
       " <div class=\"option\"><a \"=\"\" onclick=\"optionPreview(this,'listnormal-0',13982,'T')\"><img alt=\"\" class=\"option_preview\" id=\"btn_preview_listnormal-013982\" src=\"//img.echosting.cafe24.com/design/skin/default/product/btn_option_view.gif\"/></a> </div>\n",
       " </div>\n",
       " </div>\n",
       " <div class=\"description\">\n",
       " <strong class=\"name\"><a class=\"\" href=\"/product/made-푸딩-크롭-라운드-티셔츠-11-이벤트-8-color/13982/category/46/display/1/\"><span class=\"title displaynone\"><span style=\"font-size:12px;color:#555555;\">상품명</span> :</span> <span style=\"font-size:12px;color:#555555;\">[MADE] 푸딩 크롭 라운드 티셔츠 (1+1 이벤트) - 8 color</span></a></strong>\n",
       " <div class=\"deInner\">\n",
       " <ul class=\"xans-element- xans-product xans-product-listitem spec\"><li class=\"xans-record-\">\n",
       " <strong class=\"title displaynone\"><span style=\"font-size:12px;color:#333333;font-weight:bold;\">판매가</span> :</strong> <span style=\"font-size:12px;color:#333333;font-weight:bold;\">12,000</span><span id=\"span_product_tax_type_text\" style=\"\"> </span></li>\n",
       " </ul>\n",
       " <div class=\"promotion\"> </div>\n",
       " </div>\n",
       " </div>\n",
       " </li>]"
      ]
     },
     "execution_count": 2,
     "metadata": {},
     "output_type": "execute_result"
    }
   ],
   "source": [
    "search.get_product_li(constants.DAILYJOU_TOP_PAGE_URL + \"&page=2\")"
   ]
  },
  {
   "cell_type": "markdown",
   "metadata": {},
   "source": [
    "## 티셔츠 크롤링"
   ]
  },
  {
   "cell_type": "markdown",
   "metadata": {},
   "source": [
    "### 썸네일 이미지 & 상품 url"
   ]
  },
  {
   "cell_type": "code",
   "execution_count": 2,
   "metadata": {},
   "outputs": [],
   "source": [
    "page_url = \"https://dailyjou.com/product/list.html?cate_no=46&page=2\""
   ]
  },
  {
   "cell_type": "code",
   "execution_count": 3,
   "metadata": {},
   "outputs": [],
   "source": [
    "response = requests.get(page_url, headers={\"User-Agent\": \"Mozilla/5.0\"})\n",
    "html = response.text\n",
    "soup = BeautifulSoup(html, \"html.parser\")"
   ]
  },
  {
   "cell_type": "code",
   "execution_count": 4,
   "metadata": {},
   "outputs": [],
   "source": [
    "products_li = soup.select('ul.prdList2.grid4 > [id^=\"anchorBoxId_\"]')"
   ]
  },
  {
   "cell_type": "code",
   "execution_count": 5,
   "metadata": {},
   "outputs": [],
   "source": [
    "product_li = products_li[3]"
   ]
  },
  {
   "cell_type": "code",
   "execution_count": 6,
   "metadata": {},
   "outputs": [
    {
     "data": {
      "text/plain": [
       "'https://dailyjou.com/product/베베-빈티지-레터링-오버핏-후드-티셔츠-3-color/15355/category/46/display/1/'"
      ]
     },
     "execution_count": 6,
     "metadata": {},
     "output_type": "execute_result"
    }
   ],
   "source": [
    "product_url = \"https://dailyjou.com\" + product_li.select_one(\"div.thumbnail > div.prdImg > a\")[\"href\"]\n",
    "product_url"
   ]
  },
  {
   "cell_type": "code",
   "execution_count": 7,
   "metadata": {},
   "outputs": [
    {
     "data": {
      "text/plain": [
       "'https://dailyjou.com/web/product/medium/202309/2e8c0daa550ac5c26e6ccbd3e0c58821.gif'"
      ]
     },
     "execution_count": 7,
     "metadata": {},
     "output_type": "execute_result"
    }
   ],
   "source": [
    "thumbnail_img_url = \"https:\" + product_li.select_one(\"div.thumbnail > div.prdImg > a > img\")[\"src\"]\n",
    "thumbnail_img_url"
   ]
  },
  {
   "cell_type": "markdown",
   "metadata": {},
   "source": [
    "### 상품 상세 정보"
   ]
  },
  {
   "cell_type": "code",
   "execution_count": 19,
   "metadata": {},
   "outputs": [],
   "source": [
    "product_url = \"https://dailyjou.com/product/%ED%82%A4%EB%A5%B4%ED%86%A0-%EB%82%98%EC%8B%9C-%EC%85%94%EB%A7%81-%EC%98%A4%ED%94%84%EC%88%84%EB%8D%94-%ED%8B%B0%EC%85%94%EC%B8%A0-%EC%84%B8%ED%8A%B8-3color/15458/category/46/display/1/\""
   ]
  },
  {
   "cell_type": "code",
   "execution_count": 20,
   "metadata": {},
   "outputs": [],
   "source": [
    "response = requests.get(product_url, headers={\"User-Agent\": \"Mozilla/5.0\"})\n",
    "html = response.text\n",
    "soup = BeautifulSoup(html, \"html.parser\")\n",
    "product_dict = {}"
   ]
  },
  {
   "cell_type": "markdown",
   "metadata": {},
   "source": [
    "#### product disabled"
   ]
  },
  {
   "cell_type": "code",
   "execution_count": 9,
   "metadata": {},
   "outputs": [],
   "source": [
    "product_dict['disabled'] = \"FALSE\""
   ]
  },
  {
   "cell_type": "markdown",
   "metadata": {},
   "source": [
    "#### product price"
   ]
  },
  {
   "cell_type": "code",
   "execution_count": 10,
   "metadata": {},
   "outputs": [],
   "source": [
    "try:\n",
    "    product_dict['price'] = int(re.sub(r'\\([^)]*\\)|,', '', soup.select_one(\"span#span_product_price_sale\").text).strip())\n",
    "except AttributeError:\n",
    "    product_dict['price'] = int(re.sub(r'\\([^)]*\\)|,', '', soup.select_one(\"strong#span_product_price_text\").text).strip())"
   ]
  },
  {
   "cell_type": "markdown",
   "metadata": {},
   "source": [
    "#### product name"
   ]
  },
  {
   "cell_type": "code",
   "execution_count": 11,
   "metadata": {},
   "outputs": [],
   "source": [
    "product_dict['name'] = soup.select_one(\"div.xans-element-.xans-product.xans-product-detaildesign > table > tbody > tr.xans-record- > td > span\").text"
   ]
  },
  {
   "cell_type": "markdown",
   "metadata": {},
   "source": [
    "#### product gender"
   ]
  },
  {
   "cell_type": "code",
   "execution_count": 12,
   "metadata": {},
   "outputs": [],
   "source": [
    "product_dict['gender'] = \"F\""
   ]
  },
  {
   "cell_type": "markdown",
   "metadata": {},
   "source": [
    "#### product subcategory_id"
   ]
  },
  {
   "cell_type": "code",
   "execution_count": 13,
   "metadata": {},
   "outputs": [],
   "source": [
    "product_dict['sub_category_id'] = 9"
   ]
  },
  {
   "cell_type": "markdown",
   "metadata": {},
   "source": [
    "#### product category_id"
   ]
  },
  {
   "cell_type": "code",
   "execution_count": 14,
   "metadata": {},
   "outputs": [],
   "source": [
    "product_dict['category_id'] = constants.SUB2CAT[product_dict['sub_category_id']]"
   ]
  },
  {
   "cell_type": "markdown",
   "metadata": {},
   "source": [
    "#### product url"
   ]
  },
  {
   "cell_type": "code",
   "execution_count": 15,
   "metadata": {},
   "outputs": [],
   "source": [
    "product_dict['url'] = product_url"
   ]
  },
  {
   "cell_type": "markdown",
   "metadata": {},
   "source": [
    "#### product mall_id"
   ]
  },
  {
   "cell_type": "code",
   "execution_count": 16,
   "metadata": {},
   "outputs": [],
   "source": [
    "product_dict['mall_id'] = constants.DAILYJOU_ID"
   ]
  },
  {
   "cell_type": "markdown",
   "metadata": {},
   "source": [
    "#### product text"
   ]
  },
  {
   "cell_type": "code",
   "execution_count": 17,
   "metadata": {},
   "outputs": [],
   "source": [
    "product_dict[\"description_path\"] = \"NULL\""
   ]
  },
  {
   "cell_type": "markdown",
   "metadata": {},
   "source": [
    "#### product images"
   ]
  },
  {
   "cell_type": "code",
   "execution_count": 18,
   "metadata": {},
   "outputs": [],
   "source": [
    "img_url_lst = list(map(lambda x: constants.DAILYJOU_ROOT_URL + x['ec-data-src'], soup.select_one('div.cont').select('img')))"
   ]
  },
  {
   "cell_type": "markdown",
   "metadata": {},
   "source": [
    "#### product size"
   ]
  },
  {
   "cell_type": "code",
   "execution_count": 4,
   "metadata": {},
   "outputs": [],
   "source": [
    "soup.find(\"iframe\", id=\"snapfit_resultview_iframe\")"
   ]
  },
  {
   "cell_type": "code",
   "execution_count": 15,
   "metadata": {},
   "outputs": [],
   "source": [
    "size_url = \"https:\" + soup.select_one(\"iframe\")['src']"
   ]
  },
  {
   "cell_type": "code",
   "execution_count": 21,
   "metadata": {},
   "outputs": [
    {
     "data": {
      "text/plain": [
       "[<iframe border=\"0\" class=\"sf_chart_iframe_id_591937\" frameborder=\"0\" height=\"1305\" id=\"sf_chart_iframe_id\" scrolling=\"no\" src=\"//cdn.snapfit.co.kr/stores/dailyjou/chart/591937.html\" width=\"100%\"> </iframe>]"
      ]
     },
     "execution_count": 21,
     "metadata": {},
     "output_type": "execute_result"
    }
   ],
   "source": [
    "soup.select(\"iframe\")"
   ]
  },
  {
   "cell_type": "code",
   "execution_count": 9,
   "metadata": {},
   "outputs": [
    {
     "data": {
      "text/plain": [
       "'https://cdn.snapfit.co.kr/stores/dailyjou/chart/590440.html'"
      ]
     },
     "execution_count": 9,
     "metadata": {},
     "output_type": "execute_result"
    }
   ],
   "source": [
    "size_url"
   ]
  },
  {
   "cell_type": "code",
   "execution_count": 6,
   "metadata": {},
   "outputs": [
    {
     "data": {
      "text/plain": [
       "'https://cdn.snapfit.co.kr/stores/dailyjou/chart/590440.html'"
      ]
     },
     "execution_count": 6,
     "metadata": {},
     "output_type": "execute_result"
    }
   ],
   "source": [
    "size_url"
   ]
  },
  {
   "cell_type": "code",
   "execution_count": 21,
   "metadata": {},
   "outputs": [],
   "source": [
    "response = requests.get(size_url, headers={\"User-Agent\": \"Mozilla/5.0\"})\n",
    "html = response.content.decode('utf-8', 'replace')\n",
    "soup = BeautifulSoup(html, \"html.parser\")"
   ]
  },
  {
   "cell_type": "code",
   "execution_count": 22,
   "metadata": {},
   "outputs": [],
   "source": [
    "size_table = soup.select_one(\"table.sf_size_view.sfc_2baeb41-table.sfc_2baeb41-sf_size_view\")"
   ]
  },
  {
   "cell_type": "code",
   "execution_count": 23,
   "metadata": {},
   "outputs": [],
   "source": [
    "def table2df(table):\n",
    "    data = []\n",
    "    for row in table.find_all(\"tr\"):\n",
    "        row_data = [cell.get_text() for cell in row.find_all([\"th\", \"td\"])]\n",
    "        data.append(row_data)\n",
    "\n",
    "    df = pd.DataFrame(data)\n",
    "\n",
    "    # # 첫 번째 행을 헤더로 설정\n",
    "    new_header = df.iloc[0]\n",
    "    df = df[1:]\n",
    "    df.columns = new_header\n",
    "    return df"
   ]
  },
  {
   "cell_type": "code",
   "execution_count": 24,
   "metadata": {},
   "outputs": [],
   "source": [
    "size_df = table2df(size_table)"
   ]
  },
  {
   "cell_type": "code",
   "execution_count": 25,
   "metadata": {},
   "outputs": [
    {
     "data": {
      "text/html": [
       "<div>\n",
       "<style scoped>\n",
       "    .dataframe tbody tr th:only-of-type {\n",
       "        vertical-align: middle;\n",
       "    }\n",
       "\n",
       "    .dataframe tbody tr th {\n",
       "        vertical-align: top;\n",
       "    }\n",
       "\n",
       "    .dataframe thead th {\n",
       "        text-align: right;\n",
       "    }\n",
       "</style>\n",
       "<table border=\"1\" class=\"dataframe\">\n",
       "  <thead>\n",
       "    <tr style=\"text-align: right;\">\n",
       "      <th></th>\n",
       "      <th>사이즈</th>\n",
       "      <th>어깨</th>\n",
       "      <th>가슴</th>\n",
       "      <th>암홀</th>\n",
       "      <th>소매길이</th>\n",
       "      <th>소매통</th>\n",
       "      <th>총길이</th>\n",
       "      <th>밑단</th>\n",
       "    </tr>\n",
       "  </thead>\n",
       "  <tbody>\n",
       "    <tr>\n",
       "      <th>1</th>\n",
       "      <td>FREE</td>\n",
       "      <td>52</td>\n",
       "      <td>57</td>\n",
       "      <td>24</td>\n",
       "      <td>65</td>\n",
       "      <td>21</td>\n",
       "      <td>69</td>\n",
       "      <td>51</td>\n",
       "    </tr>\n",
       "  </tbody>\n",
       "</table>\n",
       "</div>"
      ],
      "text/plain": [
       "0   사이즈  어깨  가슴  암홀 소매길이 소매통 총길이  밑단\n",
       "1  FREE  52  57  24   65  21  69  51"
      ]
     },
     "execution_count": 25,
     "metadata": {},
     "output_type": "execute_result"
    }
   ],
   "source": [
    "size_df"
   ]
  },
  {
   "cell_type": "code",
   "execution_count": 26,
   "metadata": {},
   "outputs": [],
   "source": [
    "size_dict_lst = []\n",
    "for idx in size_df.index:\n",
    "    row = size_df.loc[idx]\n",
    "    size_dict = {\n",
    "        'name': row['사이즈'],\n",
    "        \"product_id\": \"NULL\",\n",
    "        \"top_id\": \"NULL\",\n",
    "        \"outer_id\": \"NULL\",\n",
    "        \"bottom_id\": \"NULL\",\n",
    "        \"dress_id\": \"NULL\",\n",
    "    }\n",
    "\n",
    "    cat_size_dict = {}\n",
    "    for col, key in constants.DAILYJOU_TOP_SIZE_COL2KEY.items():\n",
    "        if col not in row.index:\n",
    "            cat_size_dict[key] = \"NULL\"\n",
    "        else:\n",
    "            cat_size_dict[key] = float(row[col])\n",
    "    \n",
    "    size_dict_lst += [[size_dict, cat_size_dict]]"
   ]
  },
  {
   "cell_type": "code",
   "execution_count": 27,
   "metadata": {},
   "outputs": [
    {
     "data": {
      "text/plain": [
       "[[{'name': 'FREE',\n",
       "   'product_id': 'NULL',\n",
       "   'top_id': 'NULL',\n",
       "   'outer_id': 'NULL',\n",
       "   'bottom_id': 'NULL',\n",
       "   'dress_id': 'NULL'},\n",
       "  {'full': 69.0, 'shoulder': 52.0, 'chest': 57.0, 'sleeve': 65.0}]]"
      ]
     },
     "execution_count": 27,
     "metadata": {},
     "output_type": "execute_result"
    }
   ],
   "source": [
    "size_dict_lst"
   ]
  },
  {
   "cell_type": "markdown",
   "metadata": {},
   "source": [
    "### 최종 product_dict, size_dict_lst, img_url_lst, text"
   ]
  },
  {
   "cell_type": "code",
   "execution_count": 28,
   "metadata": {},
   "outputs": [
    {
     "data": {
      "text/plain": [
       "({'disabled': 'FALSE',\n",
       "  'price': 34500,\n",
       "  'name': '베베 빈티지 레터링 오버핏 후드 티셔츠 - 3 color',\n",
       "  'gender': 'F',\n",
       "  'sub_category_id': 9,\n",
       "  'category_id': 2,\n",
       "  'url': 'https://dailyjou.com/product/베베-빈티지-레터링-오버핏-후드-티셔츠-3-color/15355/category/46/display/1/',\n",
       "  'mall_id': 2,\n",
       "  'description_path': 'NULL'},\n",
       " [[{'name': 'FREE',\n",
       "    'product_id': 'NULL',\n",
       "    'top_id': 'NULL',\n",
       "    'outer_id': 'NULL',\n",
       "    'bottom_id': 'NULL',\n",
       "    'dress_id': 'NULL'},\n",
       "   {'full': 69.0, 'shoulder': 52.0, 'chest': 57.0, 'sleeve': 65.0}]],\n",
       " ['https://dailyjou.com/web/upload/NNEditor/20230901/0-1.jpg',\n",
       "  'https://dailyjou.com/web/upload/NNEditor/20230901/1281-529.jpg',\n",
       "  'https://dailyjou.com/web/upload/NNEditor/20230901/23_top_mj_00.jpg',\n",
       "  'https://dailyjou.com/web/upload/NNEditor/20230901/23_top_mj_01.jpg',\n",
       "  'https://dailyjou.com/web/upload/NNEditor/20230901/23_top_mj_02.jpg',\n",
       "  'https://dailyjou.com/web/upload/NNEditor/20230901/23_top_mj_03.jpg',\n",
       "  'https://dailyjou.com/web/upload/NNEditor/20230901/23_top_mj_04.jpg',\n",
       "  'https://dailyjou.com/web/upload/NNEditor/20230901/23_top_mj_05.jpg',\n",
       "  'https://dailyjou.com/web/upload/NNEditor/20230901/23_top_mj_06.jpg',\n",
       "  'https://dailyjou.com/web/upload/NNEditor/20230901/copy-1693553565-100.jpg'])"
      ]
     },
     "execution_count": 28,
     "metadata": {},
     "output_type": "execute_result"
    }
   ],
   "source": [
    "product_dict, size_dict_lst, img_url_lst"
   ]
  },
  {
   "cell_type": "markdown",
   "metadata": {},
   "source": [
    "## 바지 크롤링"
   ]
  },
  {
   "cell_type": "code",
   "execution_count": 2,
   "metadata": {},
   "outputs": [],
   "source": [
    "subcategory_id = 12\n",
    "product_url = \"https://dailyjou.com/product/%EC%96%BC%EB%A6%AC%EB%B2%84%EB%93%9C207%EC%B2%9C%EC%9E%A5%ED%8C%90%EB%A7%A4made-%ED%86%A0%EB%B8%8C-%EC%9B%8C%EC%8B%B1-%EC%99%80%EC%9D%B4%EB%93%9C-%EB%8D%B0%EB%8B%98-%ED%8C%AC%EC%B8%A0-2-color/6269/category/148/display/1/\""
   ]
  },
  {
   "cell_type": "code",
   "execution_count": 3,
   "metadata": {},
   "outputs": [],
   "source": [
    "response = requests.get(product_url, headers={\"User-Agent\": \"Mozilla/5.0\"})\n",
    "html = response.text\n",
    "soup = BeautifulSoup(html, \"html.parser\")\n",
    "\n",
    "product_dict = {}\n",
    "\n",
    "product_dict[\"disabled\"] = \"FALSE\"\n",
    "product_dict[\"price\"] = search.get_price(soup)\n",
    "product_dict[\"name\"] = soup.select_one(\n",
    "    \"div.xans-element-.xans-product.xans-product-detaildesign > table > tbody > tr.xans-record- > td > span\"\n",
    ").text\n",
    "product_dict[\"gender\"] = \"F\"\n",
    "product_dict[\"sub_category_id\"] = subcategory_id\n",
    "product_dict[\"category_id\"] = constants.SUB2CAT[product_dict[\"sub_category_id\"]]\n",
    "product_dict[\"url\"] = product_url\n",
    "product_dict[\"mall_id\"] = constants.DAILYJOU_ID\n",
    "product_dict[\"description_path\"] = \"NULL\"\n",
    "\n",
    "img_url_lst = search.get_img_url_lst(soup)\n",
    "size_dict_lst = search.get_size_dict_lst(soup, product_dict[\"category_id\"])"
   ]
  },
  {
   "cell_type": "code",
   "execution_count": 4,
   "metadata": {},
   "outputs": [],
   "source": [
    "size_url = \"https:\" + soup.select_one(\"iframe\")[\"src\"]\n",
    "\n",
    "response = requests.get(size_url, headers={\"User-Agent\": \"Mozilla/5.0\"})\n",
    "html = response.content.decode(\"utf-8\", \"replace\")\n",
    "soup = BeautifulSoup(html, \"html.parser\")\n",
    "\n",
    "size_table = soup.select_one(\n",
    "    \"table.sf_size_view.sfc_2baeb41-table.sfc_2baeb41-sf_size_view\"\n",
    ")\n",
    "size_df = utils.table2df(size_table)\n",
    "size_dict_lst = utils.df2size_dict_lst(size_df, product_dict['category_id'])"
   ]
  },
  {
   "cell_type": "code",
   "execution_count": 5,
   "metadata": {},
   "outputs": [
    {
     "data": {
      "text/html": [
       "<div>\n",
       "<style scoped>\n",
       "    .dataframe tbody tr th:only-of-type {\n",
       "        vertical-align: middle;\n",
       "    }\n",
       "\n",
       "    .dataframe tbody tr th {\n",
       "        vertical-align: top;\n",
       "    }\n",
       "\n",
       "    .dataframe thead th {\n",
       "        text-align: right;\n",
       "    }\n",
       "</style>\n",
       "<table border=\"1\" class=\"dataframe\">\n",
       "  <thead>\n",
       "    <tr style=\"text-align: right;\">\n",
       "      <th></th>\n",
       "      <th>사이즈</th>\n",
       "      <th>허리</th>\n",
       "      <th>엉덩이</th>\n",
       "      <th>밑위</th>\n",
       "      <th>허벅지</th>\n",
       "      <th>밑단</th>\n",
       "      <th>총길이</th>\n",
       "    </tr>\n",
       "  </thead>\n",
       "  <tbody>\n",
       "    <tr>\n",
       "      <th>1</th>\n",
       "      <td>S</td>\n",
       "      <td>31</td>\n",
       "      <td>51.5</td>\n",
       "      <td>32</td>\n",
       "      <td>30</td>\n",
       "      <td>23</td>\n",
       "      <td>102</td>\n",
       "    </tr>\n",
       "    <tr>\n",
       "      <th>2</th>\n",
       "      <td>M</td>\n",
       "      <td>33</td>\n",
       "      <td>53.5</td>\n",
       "      <td>32.5</td>\n",
       "      <td>30.5</td>\n",
       "      <td>23.5</td>\n",
       "      <td>104</td>\n",
       "    </tr>\n",
       "    <tr>\n",
       "      <th>3</th>\n",
       "      <td>L</td>\n",
       "      <td>35</td>\n",
       "      <td>55.5</td>\n",
       "      <td>33</td>\n",
       "      <td>31</td>\n",
       "      <td>24</td>\n",
       "      <td>106</td>\n",
       "    </tr>\n",
       "  </tbody>\n",
       "</table>\n",
       "</div>"
      ],
      "text/plain": [
       "  사이즈  허리   엉덩이    밑위   허벅지    밑단  총길이\n",
       "1   S  31  51.5    32    30    23  102\n",
       "2   M  33  53.5  32.5  30.5  23.5  104\n",
       "3   L  35  55.5    33    31    24  106"
      ]
     },
     "execution_count": 5,
     "metadata": {},
     "output_type": "execute_result"
    }
   ],
   "source": [
    "size_df"
   ]
  },
  {
   "cell_type": "code",
   "execution_count": 6,
   "metadata": {},
   "outputs": [
    {
     "data": {
      "text/plain": [
       "[[{'name': 'S',\n",
       "   'product_id': 'NULL',\n",
       "   'top_id': 'NULL',\n",
       "   'outer_id': 'NULL',\n",
       "   'bottom_id': 'NULL',\n",
       "   'dress_id': 'NULL'},\n",
       "  {'full': 102.0,\n",
       "   'waist': 31.0,\n",
       "   'thigh': 30.0,\n",
       "   'rise': 32.0,\n",
       "   'bottom_width': 23.0,\n",
       "   'hip_width': 51.5}],\n",
       " [{'name': 'M',\n",
       "   'product_id': 'NULL',\n",
       "   'top_id': 'NULL',\n",
       "   'outer_id': 'NULL',\n",
       "   'bottom_id': 'NULL',\n",
       "   'dress_id': 'NULL'},\n",
       "  {'full': 104.0,\n",
       "   'waist': 33.0,\n",
       "   'thigh': 30.5,\n",
       "   'rise': 32.5,\n",
       "   'bottom_width': 23.5,\n",
       "   'hip_width': 53.5}],\n",
       " [{'name': 'L',\n",
       "   'product_id': 'NULL',\n",
       "   'top_id': 'NULL',\n",
       "   'outer_id': 'NULL',\n",
       "   'bottom_id': 'NULL',\n",
       "   'dress_id': 'NULL'},\n",
       "  {'full': 106.0,\n",
       "   'waist': 35.0,\n",
       "   'thigh': 31.0,\n",
       "   'rise': 33.0,\n",
       "   'bottom_width': 24.0,\n",
       "   'hip_width': 55.5}]]"
      ]
     },
     "execution_count": 6,
     "metadata": {},
     "output_type": "execute_result"
    }
   ],
   "source": [
    "size_dict_lst"
   ]
  },
  {
   "cell_type": "code",
   "execution_count": 6,
   "metadata": {},
   "outputs": [
    {
     "data": {
      "text/plain": [
       "({'disabled': 'FALSE',\n",
       "  'price': 30400,\n",
       "  'name': '[얼리버드20%/7천장판매/MADE] 토브 워싱 와이드 데님 팬츠 - 2 color',\n",
       "  'gender': 'F',\n",
       "  'sub_category_id': 12,\n",
       "  'category_id': 4,\n",
       "  'url': 'https://dailyjou.com/product/%EC%96%BC%EB%A6%AC%EB%B2%84%EB%93%9C207%EC%B2%9C%EC%9E%A5%ED%8C%90%EB%A7%A4made-%ED%86%A0%EB%B8%8C-%EC%9B%8C%EC%8B%B1-%EC%99%80%EC%9D%B4%EB%93%9C-%EB%8D%B0%EB%8B%98-%ED%8C%AC%EC%B8%A0-2-color/6269/category/148/display/1/',\n",
       "  'mall_id': 2,\n",
       "  'description_path': 'NULL'},\n",
       " [[{'name': 'S',\n",
       "    'product_id': 'NULL',\n",
       "    'top_id': 'NULL',\n",
       "    'outer_id': 'NULL',\n",
       "    'bottom_id': 'NULL',\n",
       "    'dress_id': 'NULL'},\n",
       "   {'full': 102.0,\n",
       "    'waist': 31.0,\n",
       "    'thigh': 30.0,\n",
       "    'rise': 32.0,\n",
       "    'bottom_width': 23.0,\n",
       "    'hip_width': 51.5}],\n",
       "  [{'name': 'M',\n",
       "    'product_id': 'NULL',\n",
       "    'top_id': 'NULL',\n",
       "    'outer_id': 'NULL',\n",
       "    'bottom_id': 'NULL',\n",
       "    'dress_id': 'NULL'},\n",
       "   {'full': 104.0,\n",
       "    'waist': 33.0,\n",
       "    'thigh': 30.5,\n",
       "    'rise': 32.5,\n",
       "    'bottom_width': 23.5,\n",
       "    'hip_width': 53.5}],\n",
       "  [{'name': 'L',\n",
       "    'product_id': 'NULL',\n",
       "    'top_id': 'NULL',\n",
       "    'outer_id': 'NULL',\n",
       "    'bottom_id': 'NULL',\n",
       "    'dress_id': 'NULL'},\n",
       "   {'full': 106.0,\n",
       "    'waist': 35.0,\n",
       "    'thigh': 31.0,\n",
       "    'rise': 33.0,\n",
       "    'bottom_width': 24.0,\n",
       "    'hip_width': 55.5}]],\n",
       " ['https://dailyjou.com/web/upload/NNEditor/20230914/copy-1694657329-EC8381EC84B8EC8381EB8BA8-EBB0B0EC86A1ED9995EC9DB8EC9588EB82B4.jpg',\n",
       "  'https://dailyjou.com/web/upload/NNEditor/20230914/0-0.jpg',\n",
       "  'https://dailyjou.com/web/upload/NNEditor/20230914/copy-1694657313-4x2028129.jpg',\n",
       "  'https://dailyjou.com/web/upload/NNEditor/20230914/copy-1694657313-4x2028229.jpg',\n",
       "  'https://dailyjou.com/web/upload/NNEditor/20230914/copy-1694657314-4x2028329.jpg',\n",
       "  'https://dailyjou.com/web/upload/NNEditor/20230914/copy-1694657313-4x2028429.jpg',\n",
       "  'https://dailyjou.com/web/upload/NNEditor/20230914/copy-1694657313-4x2028529.jpg',\n",
       "  'https://dailyjou.com/web/upload/NNEditor/20230914/copy-1694657313-102028129.jpg',\n",
       "  'https://dailyjou.com/web/upload/NNEditor/20230914/copy-1694657313-102028229.jpg',\n",
       "  'https://dailyjou.com/web/upload/NNEditor/20230914/copy-1694657313-102028329.jpg',\n",
       "  'https://dailyjou.com/web/upload/NNEditor/20230914/copy-1694657313-102028429.jpg',\n",
       "  'https://dailyjou.com/web/upload/NNEditor/20230914/11.jpg',\n",
       "  'https://dailyjou.com/web/upload/NNEditor/20230914/12.jpg',\n",
       "  'https://dailyjou.com/web/upload/NNEditor/20230914/13.jpg',\n",
       "  'https://dailyjou.com/web/upload/NNEditor/20230914/14.jpg',\n",
       "  'https://dailyjou.com/web/upload/NNEditor/20230914/copy-1694657313-202028629.jpg',\n",
       "  'https://dailyjou.com/web/upload/NNEditor/20230914/202028929.jpg',\n",
       "  'https://dailyjou.com/web/upload/NNEditor/20230914/copy-1694657313-100.jpg'])"
      ]
     },
     "execution_count": 6,
     "metadata": {},
     "output_type": "execute_result"
    }
   ],
   "source": [
    "search.crawling_product(subcategory_id=12, product_url=product_url)"
   ]
  },
  {
   "cell_type": "markdown",
   "metadata": {},
   "source": [
    "### RDS, S3에 저장"
   ]
  },
  {
   "cell_type": "code",
   "execution_count": 29,
   "metadata": {},
   "outputs": [],
   "source": [
    "conn, cursor = rds.connect()\n",
    "s3_obj = s3.connect()"
   ]
  },
  {
   "cell_type": "markdown",
   "metadata": {},
   "source": [
    "#### product 정보 RDS에 저장"
   ]
  },
  {
   "cell_type": "code",
   "execution_count": 48,
   "metadata": {},
   "outputs": [],
   "source": [
    "product_id = rds.insert_product(conn, cursor, product_dict)"
   ]
  },
  {
   "cell_type": "code",
   "execution_count": 30,
   "metadata": {},
   "outputs": [],
   "source": [
    "product_id = 369"
   ]
  },
  {
   "cell_type": "markdown",
   "metadata": {},
   "source": [
    "#### procuct size RDS 저장"
   ]
  },
  {
   "cell_type": "code",
   "execution_count": 31,
   "metadata": {},
   "outputs": [],
   "source": [
    "for size_dict, cat_size_dict in size_dict_lst:\n",
    "    cat_size_id = rds.insert_cat_size(conn, cursor, cat_size_dict, product_dict['category_id'])\n",
    "    size_dict['product_id'] = product_id\n",
    "\n",
    "    size_dict[constants.DAILYJOU_CAT_SIZE_ID[product_dict['category_id']]] = cat_size_id\n",
    "    rds.insert_size(conn, cursor, size_dict)"
   ]
  },
  {
   "cell_type": "markdown",
   "metadata": {},
   "source": [
    "#### product image list S3에 저장"
   ]
  },
  {
   "cell_type": "code",
   "execution_count": 31,
   "metadata": {},
   "outputs": [
    {
     "data": {
      "text/plain": [
       "'https://dailyjou.com/web/product/medium/202309/2e8c0daa550ac5c26e6ccbd3e0c58821.gif'"
      ]
     },
     "execution_count": 31,
     "metadata": {},
     "output_type": "execute_result"
    }
   ],
   "source": [
    "thumbnail_img_url"
   ]
  },
  {
   "cell_type": "code",
   "execution_count": 32,
   "metadata": {},
   "outputs": [],
   "source": [
    "def s3_rds_image_(product_id, img_url, s3_obj, conn, cursor, thumbnail):\n",
    "    fname = s3.upload_image(s3_obj, img_url)\n",
    "    imagepath_dict = {\"url\": fname, \"product_id\": product_id, \"thumbnail\": thumbnail}\n",
    "    rds.insert_imagepath(conn, cursor, imagepath_dict)"
   ]
  },
  {
   "cell_type": "code",
   "execution_count": 33,
   "metadata": {},
   "outputs": [],
   "source": [
    "s3_rds_image_(product_id, thumbnail_img_url, s3_obj, conn, cursor, \"TRUE\")"
   ]
  },
  {
   "cell_type": "code",
   "execution_count": 34,
   "metadata": {},
   "outputs": [],
   "source": [
    "for img_url in img_url_lst:\n",
    "    s3_rds_image_(product_id, img_url, s3_obj, conn, cursor, \"FALSE\")"
   ]
  },
  {
   "cell_type": "code",
   "execution_count": 36,
   "metadata": {},
   "outputs": [],
   "source": [
    "s3_access_key = pd.read_csv(paths.S3_ACCESS_KEY_PATH)\n",
    "s3_obj = boto3.client(\n",
    "    \"s3\",\n",
    "    aws_access_key_id=s3_access_key[\"Access key ID\"].values[0],\n",
    "    aws_secret_access_key=s3_access_key[\"Secret access key\"].values[0],\n",
    "    region_name=\"ap-northeast-2\",\n",
    ")"
   ]
  },
  {
   "cell_type": "code",
   "execution_count": 9,
   "metadata": {},
   "outputs": [
    {
     "data": {
      "text/plain": [
       "{'ResponseMetadata': {'RequestId': 'R8QN0SBMPAXH0G1D',\n",
       "  'HostId': 'P0YFnvAmqoLqSvDM3umATDtgH8K33qmVAJFCM4fPBICqM7gXKelzpqll5niY1EtfRhIqVVJk8hU=',\n",
       "  'HTTPStatusCode': 200,\n",
       "  'HTTPHeaders': {'x-amz-id-2': 'P0YFnvAmqoLqSvDM3umATDtgH8K33qmVAJFCM4fPBICqM7gXKelzpqll5niY1EtfRhIqVVJk8hU=',\n",
       "   'x-amz-request-id': 'R8QN0SBMPAXH0G1D',\n",
       "   'date': 'Tue, 05 Sep 2023 12:40:59 GMT',\n",
       "   'x-amz-server-side-encryption': 'AES256',\n",
       "   'etag': '\"c3a93af0e1a1794055d81753a0c0c2bd\"',\n",
       "   'server': 'AmazonS3',\n",
       "   'content-length': '0'},\n",
       "  'RetryAttempts': 0},\n",
       " 'ETag': '\"c3a93af0e1a1794055d81753a0c0c2bd\"',\n",
       " 'ServerSideEncryption': 'AES256'}"
      ]
     },
     "execution_count": 9,
     "metadata": {},
     "output_type": "execute_result"
    }
   ],
   "source": [
    "from PIL import Image\n",
    "response = requests.get(thumbnail_img_url, headers=constants.HEADER)\n",
    "gif_image = response.content\n",
    "s3_obj.put_object(\n",
    "    Bucket=\"fittering-ml-test-bucket\",\n",
    "    Key=\"test.gif\",\n",
    "    Body=gif_image,\n",
    "    ContentType=\"image/jpg\",\n",
    ")"
   ]
  },
  {
   "cell_type": "code",
   "execution_count": 10,
   "metadata": {},
   "outputs": [],
   "source": [
    "test_gif = Image.open(\n",
    "    s3_obj.get_object(Bucket=\"fittering-ml-test-bucket\", Key=\"test.gif\")[\"Body\"]\n",
    ")"
   ]
  },
  {
   "cell_type": "code",
   "execution_count": 11,
   "metadata": {},
   "outputs": [],
   "source": [
    "imgs = []\n",
    "for frame_n in range(test_gif.n_frames):\n",
    "    test_gif.seek(frame_n)\n",
    "    imgs += [test_gif.convert(\"RGB\")]"
   ]
  },
  {
   "cell_type": "code",
   "execution_count": 42,
   "metadata": {},
   "outputs": [],
   "source": [
    "def size_check(p):\n",
    "    try:\n",
    "        if \"SIZE\" in p.select_one(\"u\").text:\n",
    "            return True\n",
    "        elif \"FITTING\" in p.select_one(\"u\").text:\n",
    "            return True\n",
    "        else:\n",
    "            return False\n",
    "    except:\n",
    "        return False\n",
    "def size_text(soup):\n",
    "    p_lst = soup.select(\"div.cont > p\")\n",
    "    idxs = []\n",
    "    for i, p in enumerate(p_lst):\n",
    "        if size_check(p):\n",
    "            idxs.append(i)\n",
    "            if len(idxs) == 2:\n",
    "                break\n",
    "    print(idxs)\n",
    "    return list(map(lambda x: x.text.strip(), p_lst[idxs[0]+1:idxs[1]]))"
   ]
  },
  {
   "cell_type": "code",
   "execution_count": 43,
   "metadata": {},
   "outputs": [
    {
     "name": "stdout",
     "output_type": "stream",
     "text": [
      "https://www.slowand.com//product/어텀베스트-5무료배송-slowmade-니트라이크-여리핏-골지티셔츠-5-color-프리오더-510일-소요/7720/category/46/display/2/\n",
      "[63, 66]\n",
      "['어깨32/가슴34/암홀18/팔기장58/팔단면8.5/소매단면9/밑단36/총장56', '']\n",
      "https://www.slowand.com//product/무료배송2만장돌파-slowmade-솔트-클린-반팔티셔츠-스탠다드핏루즈핏-7-color-반팔크롭티여름반팔여름티셔츠/7466/category/46/display/2/\n",
      "[94, 100]\n",
      "['스탠다드핏-어깨36.5/가슴46/암홀18.5', '팔기장17.5/소매단면15.5/밑단46.5/총장51', '루즈핏-어깨41/가슴52/암홀22.5', '팔기장23/소매단면18/밑단53/총장61.5', '']\n",
      "https://www.slowand.com//product/가을베스트무료배송-slowmade-여리핏-소프트-골지티셔츠-7-color-프리오더-510일-소요/6801/category/46/display/2/\n",
      "[64, 68]\n",
      "['어깨34/가슴44/암홀19/팔기장57/팔단면12.5', '소매단면9.5/밑단44/총장53', '']\n",
      "https://www.slowand.com//product/무료배송질좋은기본티-slowmade-프리미엄-오가닉코튼-무지티셔츠-11-color/4606/category/46/display/2/\n",
      "[91, 93]\n",
      "['어깨50/가슴52.5/암홀23/팔기장53.5/팔단면17.5/소매단면14/밑단52/총장62']\n",
      "https://www.slowand.com//product/기획특가-slowmade-심플베이직-슬림무지티셔츠-6-color-프리오더-510일-소요/4467/category/46/display/2/\n",
      "[94, 97]\n",
      "['어깨36.5/가슴40/암홀20/팔기장61/팔단면11/밑단42/총장64', '']\n",
      "https://www.slowand.com//product/무료배송1만장돌파-slowmade-소프트-여리핏-하프티셔츠-4-color/6750/category/46/display/2/\n",
      "[53, 56]\n",
      "['어깨36/가슴37.5/암홀18.5/팔기장15.5/소매단면14/밑단37/총장55', '']\n",
      "https://www.slowand.com//product/베스트재입고무료배송-slowmade-온드-절개트임-슬림티셔츠-5-color/7242/category/46/display/2/\n",
      "[106, 109]\n",
      "['어깨32.5/가슴33/암홀17.5/팔기장60/팔단면10/소매단면8.5', '밑단33.5/트임7/총장53']\n",
      "https://www.slowand.com//product/베스트재입고무료배송-slowmade-프리미엄-데일리-긴팔티셔츠-7-color/5795/category/46/display/2/\n",
      "[224, 228]\n",
      "['어깨42.5/가슴50/암홀21/팔기장58.5/팔단면15', '소매단면11/밑단50/총장60', '']\n",
      "https://www.slowand.com//product/무료배송탄탄베이스티-유스-탄탄핏-하프티셔츠-5-color/7231/category/46/display/2/\n",
      "[63, 65]\n",
      "['어깨36.5/가슴46/암홀19/팔기장14.5/소매단면16/밑단46/총장59.5']\n",
      "https://www.slowand.com//product/무료배송발레코어룩🩰-slowmade-폴드-여리핏-랩티셔츠-4-color/7312/category/46/display/2/\n",
      "[66, 70]\n",
      "['어깨38/가슴35/암홀19.5/팔기장62.5', '팔단면12.5/소매단면10/밑단36.5/총장55', '']\n",
      "https://www.slowand.com//product/무료배송2만장돌파-slowmade-솔트-클린-반팔티셔츠-스탠다드핏루즈핏-7-color-반팔크롭티여름반팔여름티셔츠/7466/category/46/display/1/\n",
      "[94, 100]\n",
      "['스탠다드핏-어깨36.5/가슴46/암홀18.5', '팔기장17.5/소매단면15.5/밑단46.5/총장51', '루즈핏-어깨41/가슴52/암홀22.5', '팔기장23/소매단면18/밑단53/총장61.5', '']\n",
      "https://www.slowand.com//product/무료배송탄탄베이스티-유스-탄탄핏-하프티셔츠-5-color/7231/category/46/display/1/\n",
      "[63, 65]\n",
      "['어깨36.5/가슴46/암홀19/팔기장14.5/소매단면16/밑단46/총장59.5']\n",
      "https://www.slowand.com//product/어텀베스트-5무료배송-slowmade-니트라이크-여리핏-골지티셔츠-5-color-프리오더-510일-소요/7720/category/46/display/1/\n",
      "[63, 66]\n",
      "['어깨32/가슴34/암홀18/팔기장58/팔단면8.5/소매단면9/밑단36/총장56', '']\n",
      "https://www.slowand.com//product/오늘출발🚚두장이상-무료배송-slowmade-여리핏-사이드-셔링티셔츠-5-color/7261/category/46/display/1/\n",
      "[83, 87]\n",
      "['어깨35.5/가슴35.5/암홀17.5/팔기장59.5', '팔단면10.5/소매단면9.5/밑단35/총장48', '']\n",
      "https://www.slowand.com//product/베스트재입고무료배송-slowmade-온드-절개트임-슬림티셔츠-5-color/7242/category/46/display/1/\n",
      "[106, 109]\n",
      "['어깨32.5/가슴33/암홀17.5/팔기장60/팔단면10/소매단면8.5', '밑단33.5/트임7/총장53']\n",
      "https://www.slowand.com//product/베스트재입고무료배송-slowmade-프리미엄-데일리-긴팔티셔츠-7-color/5795/category/46/display/1/\n",
      "[224, 228]\n",
      "['어깨42.5/가슴50/암홀21/팔기장58.5/팔단면15', '소매단면11/밑단50/총장60', '']\n",
      "https://www.slowand.com//product/오늘출발🚚-slowmade-여리핏-데일리-유넥티셔츠-5-color/5033/category/46/display/1/\n",
      "[89, 92]\n",
      "['어깨35/가슴40.5/암홀20.5/팔기장62.5/팔단면12/소매단면10/밑단41/총장59.5', '']\n",
      "https://www.slowand.com//product/마가렛-썸머-긴팔티셔츠-2-color/7668/category/46/display/1/\n",
      "[42, 45]\n",
      "['어깨61/가슴65/암홀24.5/팔기장51/팔단면20.5', '소매단면11.5/밑단66/트임7.5/총장68']\n",
      "https://www.slowand.com//product/무료배송1만장돌파-slowmade-소프트-여리핏-하프티셔츠-4-color/6750/category/46/display/1/\n",
      "[53, 56]\n",
      "['어깨36/가슴37.5/암홀18.5/팔기장15.5/소매단면14/밑단37/총장55', '']\n",
      "https://www.slowand.com//product/🌸요청재입고1만장돌파-2-type-쫀쫀크롭-티셔츠-4-color/6442/category/46/display/1/\n",
      "[78, 81]\n",
      "['어깨32/가슴34/암홀16/팔기장13/소매단면12/밑단30/총장40', '']\n",
      "https://www.slowand.com//product/3천장돌파-데어-라운드-와플티셔츠-4-color/6246/category/46/display/1/\n",
      "[65, 68]\n",
      "['어깨39.5/가슴46/암홀22/팔기장15.5/소매단면17/밑단48/총장56', '']\n",
      "https://www.slowand.com//product/질좋은-반팔티5만장돌파-slowmade-프리미엄-데일리-무지티셔츠-7-color-여름티여름반팔티/5475/category/46/display/1/\n",
      "[89, 93]\n",
      "['어깨42/가슴49.5/암홀21/팔기장18.5/팔단면18', '소매단면17/밑단49.5/총장60', '']\n",
      "https://www.slowand.com//product/버터-레터링-루즈티셔츠-3-color-프리오더-510일-소요/7708/category/46/display/1/\n",
      "[43, 47]\n",
      "['어깨55/가슴57/암홀21/팔기장50.5', '팔단면17/소매단면14.5/밑단58.5/총장66', '']\n",
      "https://www.slowand.com//product/오늘출발🚚기획특가-slowmade-썸머즈-베스킨-니트티셔츠-4-color/7680/category/46/display/1/\n",
      "[56, 59]\n",
      "['어깨35.5/가슴43/암홀19.5/팔기장14.5', '소매단면15/밑단40/총장52']\n",
      "https://www.slowand.com//product/오늘출발🚚무료배송-slowmade-sweet-키치하트티셔츠-4-color/7634/category/46/display/1/\n",
      "[65, 68]\n",
      "['어깨38/가슴38/암홀19/팔기장13', '소매단면13/밑단38.5/총장48']\n",
      "https://www.slowand.com//product/컨투어링-스퀘어-슬림티셔츠-3-color/7195/category/46/display/1/\n",
      "[46, 49]\n",
      "['어깨33/가슴30/암홀20/팔기장57.5/팔단면9.5', '소매단면8/밑단29.5/총장53']\n",
      "https://www.slowand.com//product/가을베스트무료배송-slowmade-여리핏-소프트-골지티셔츠-7-color-프리오더-510일-소요/6801/category/46/display/1/\n",
      "[64, 68]\n",
      "['어깨34/가슴44/암홀19/팔기장57/팔단면12.5', '소매단면9.5/밑단44/총장53', '']\n",
      "https://www.slowand.com//product/3천장돌파-키치-프린팅-루즈티셔츠-3-color/6702/category/46/display/1/\n",
      "[65, 69]\n",
      "['어깨71/가슴64/암홀21.5/팔기장49/팔단면16.5', '소매단면13.5/밑단64/총장72', '']\n",
      "https://www.slowand.com//product/4만장돌파무료배송-slowmade-올웨어-소프트-유넥티셔츠-6-color/5096/category/46/display/1/\n",
      "[157, 160]\n",
      "['어깨44.5/가슴50.5/암홀25/팔기장58/팔단면17.5/소매단면11.5/밑단51.5/총장61.5', '']\n",
      "https://www.slowand.com//product/6만장돌파-slowmade-탄탄핏-세미크롭-반팔티셔츠-7-color-여름크롭티셔츠반팔크롭티/4249/category/46/display/1/\n",
      "[102, 105]\n",
      "['어깨40.5/가슴52/암홀23/팔기장18/팔단면18/밑단53/총장52', '']\n",
      "https://www.slowand.com//product/심플레터링-오버핏-반팔티셔츠-2-color-프리오더-510일-소요/7695/category/46/display/1/\n",
      "[44, 47]\n",
      "['어깨51.5/가슴59/암홀24.5/팔기장22.5', '소매단면21/밑단60/총장73']\n",
      "https://www.slowand.com//product/기획특가-모먼-레터링-반팔티셔츠-3-color/7596/category/46/display/1/\n",
      "[45, 48]\n",
      "['어깨44/가슴47.5/암홀19/팔기장16', '소매단면17/밑단48/총장62']\n",
      "https://www.slowand.com//product/1천장돌파오늘출발🚚-slowmade-세로니팅-반오픈-버튼티셔츠-4-color/7593/category/46/display/1/\n",
      "[64, 67]\n",
      "['어깨37/가슴40/암홀16.5/팔기장12', '소매단면15/밑단42/총장45.5']\n",
      "https://www.slowand.com//product/테이-쫀쫀-골지티셔츠-5-color/7551/category/46/display/1/\n",
      "[61, 64]\n",
      "['어깨32/가슴35/암홀17/팔기장20', '소매단면13/밑단35/총장54']\n",
      "https://www.slowand.com//product/반팔버전-로제-오프숄더-하프티셔츠-4-color-프리오더-아이보리-510일-소요/7542/category/46/display/1/\n",
      "[44, 47]\n",
      "['어깨41/가슴39/암홀18/팔기장16', '소매단면15/밑단35.5/총장50-54']\n",
      "https://www.slowand.com//product/1천장돌파-빈티지-샌드프린팅-반팔티셔츠-3-color/7541/category/46/display/1/\n",
      "[35, 38]\n",
      "['어깨45/가슴53/암홀20.5/팔기장19', '소매단면17/밑단53/총장47']\n",
      "https://www.slowand.com//product/배색-크롭-레터링티셔츠-3-color/7507/category/46/display/1/\n",
      "[57, 60]\n",
      "['가슴43/팔기장25.5/소매단면17/밑단38/총장44', '']\n",
      "https://www.slowand.com//product/1천장돌파-반팔ver-사선-버트닝-스퀘어티셔츠-3-color/7449/category/46/display/1/\n",
      "[47, 50]\n",
      "['어깨32.5/가슴34/암홀16/팔기장18.5', '소매단면11/밑단32/총장43,41(앞,뒤)']\n",
      "https://www.slowand.com//product/심플리-단색레터링-반팔티셔츠-2-color/7448/category/46/display/1/\n",
      "[49, 52]\n",
      "['어깨29.5/가슴37/암홀20/팔기장17', '소매단면14/밑단39/총장43']\n",
      "https://www.slowand.com//product/여리핏-레이스-버튼티셔츠-4-color/7435/category/46/display/1/\n",
      "[51, 55]\n",
      "['어깨35.5/가슴40/암홀18.5/팔기장61', '팔단면11/소매단면9/밑단40/총장54', '']\n",
      "https://www.slowand.com//product/1천장돌파기획특가-레이어드-슬림탑-티셔츠-3-color/7402/category/46/display/1/\n",
      "[49, 51]\n",
      "['어깨39/가슴40/암홀20/팔기장16/소매단면15.5/밑단32/총장51']\n",
      "https://www.slowand.com//product/여리핏-슬리브리스티셔츠-세트탑-3-color/7342/category/46/display/1/\n",
      "[50, 51]\n",
      "[]\n",
      "https://www.slowand.com//product/무료배송발레코어룩🩰-slowmade-폴드-여리핏-랩티셔츠-4-color/7312/category/46/display/1/\n",
      "[66, 70]\n",
      "['어깨38/가슴35/암홀19.5/팔기장62.5', '팔단면12.5/소매단면10/밑단36.5/총장55', '']\n",
      "https://www.slowand.com//product/오늘출발🚚두장이상-무료배송-slowmade-윈터즈-파스텔-히트티셔츠-7-color/6951/category/46/display/1/\n",
      "[91, 94]\n",
      "['어깨35/가슴37/암홀17/팔기장55/팔단면11.5/소매단면9/밑단38/총장56', '']\n",
      "https://www.slowand.com//product/저스트-기모-반팔티셔츠-3-color/6934/category/46/display/1/\n",
      "[42, 45]\n",
      "['어깨42/가슴50.5/암홀22/팔기장21.5/소매단면17.5/밑단52.5/총장63', '']\n",
      "https://www.slowand.com//product/7천장돌파-slowmade-프롬-탄탄핏-레이어드티셔츠-4-color/6735/category/46/display/1/\n",
      "[63, 66]\n",
      "['어깨44.5/가슴53/암홀22/팔기장50.5/소매단면18.5/밑단54/총장62', '']\n"
     ]
    }
   ],
   "source": [
    "for product_li in products_li:\n",
    "    product_url = \"https://www.slowand.com/\" + product_li.select_one(\"div.thumbnail > div.prdImg > a\")[\"href\"]\n",
    "    print(product_url)\n",
    "    thumbnail_img_url = product_li.select_one(\"div.thumbnail > div.prdImg > a > img\")[\"src\"]\n",
    "\n",
    "    response = requests.get(product_url, headers={\"User-Agent\": \"Mozilla/5.0\"})\n",
    "    html = response.text\n",
    "    soup = BeautifulSoup(html, \"html.parser\")\n",
    "\n",
    "    product_dict = {}\n",
    "    product_dict['price'] = int(re.search(r'\\d+', soup.select_one(\"strong#span_product_price_text\").text.strip().replace(\",\", \"\")).group())\n",
    "    product_dict['name'] = soup.select_one(\"div.infoArea > h2\").text.strip()\n",
    "    product_dict['gender'] = \"F\"\n",
    "    product_dict['sub_category_id'] = 9\n",
    "    product_dict['category_id'] = constants.SUB2CAT[product_dict['sub_category_id']]\n",
    "    product_dict['url'] = product_url\n",
    "    product_dict['mall_id'] = constants.SLOWAND_ID\n",
    "    text = list(filter(lambda x: x.select_one(\"strong > span\").text == '상품간략설명', product_li.select(\"div.description > ul.xans-element-.xans-product.xans-product-listitem.spec > li\")))[0].select(\"span\")[1].find_all(string=True)\n",
    "    text = '\\n'.join(list(map(lambda x: x.strip(), text)))\n",
    "\n",
    "    print(size_text(soup))"
   ]
  },
  {
   "cell_type": "code",
   "execution_count": 42,
   "metadata": {},
   "outputs": [],
   "source": [
    "pattern = r'(\\d+\\.\\d+)\\(최소\\)\\/(\\d+)\\(최대\\)'\n",
    "\n",
    "def replace_average(match):\n",
    "    min_value = float(match.group(1))\n",
    "    max_value = float(match.group(2))\n",
    "    average = (min_value + max_value) / 2\n",
    "    return str(average)"
   ]
  },
  {
   "cell_type": "code",
   "execution_count": 43,
   "metadata": {},
   "outputs": [],
   "source": [
    "input_text = '43.5(최소)/49(최대)'\n",
    "input_text = re.sub(pattern, replace_average, input_text)"
   ]
  },
  {
   "cell_type": "code",
   "execution_count": 39,
   "metadata": {},
   "outputs": [
    {
     "data": {
      "text/plain": [
       "46.25"
      ]
     },
     "execution_count": 39,
     "metadata": {},
     "output_type": "execute_result"
    }
   ],
   "source": [
    "(43.5 + 49) / 2"
   ]
  },
  {
   "cell_type": "code",
   "execution_count": 44,
   "metadata": {},
   "outputs": [
    {
     "data": {
      "text/plain": [
       "'46.25'"
      ]
     },
     "execution_count": 44,
     "metadata": {},
     "output_type": "execute_result"
    }
   ],
   "source": [
    "input_text"
   ]
  }
 ],
 "metadata": {
  "kernelspec": {
   "display_name": "crawling-env",
   "language": "python",
   "name": "python3"
  },
  "language_info": {
   "codemirror_mode": {
    "name": "ipython",
    "version": 3
   },
   "file_extension": ".py",
   "mimetype": "text/x-python",
   "name": "python",
   "nbconvert_exporter": "python",
   "pygments_lexer": "ipython3",
   "version": "3.8.17"
  },
  "orig_nbformat": 4
 },
 "nbformat": 4,
 "nbformat_minor": 2
}
