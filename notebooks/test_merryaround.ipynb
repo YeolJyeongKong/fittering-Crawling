{
 "cells": [
  {
   "cell_type": "code",
   "execution_count": 1,
   "metadata": {},
   "outputs": [],
   "source": [
    "import os\n",
    "import re\n",
    "from bs4 import BeautifulSoup\n",
    "import requests\n",
    "import pandas as pd\n",
    "import numpy as np\n",
    "import boto3\n",
    "import pyrootutils\n",
    "\n",
    "pyrootutils.setup_root(os.curdir, indicator=\".project-root\", pythonpath=True)\n",
    "from extras import constants, paths\n",
    "from aws import rds, s3\n",
    "from dailyjou.utils import search, utils"
   ]
  },
  {
   "cell_type": "markdown",
   "metadata": {},
   "source": [
    "## 티셔츠 크롤링"
   ]
  },
  {
   "cell_type": "code",
   "execution_count": 2,
   "metadata": {},
   "outputs": [],
   "source": [
    "page_url = \"http://merryaround.co.kr/category/tee/140/?page=1\""
   ]
  },
  {
   "cell_type": "code",
   "execution_count": 3,
   "metadata": {},
   "outputs": [],
   "source": [
    "response = requests.get(page_url, headers={\"User-Agent\": \"Mozilla/5.0\"})\n",
    "html = response.text\n",
    "soup = BeautifulSoup(html, \"html.parser\")"
   ]
  },
  {
   "cell_type": "code",
   "execution_count": 4,
   "metadata": {},
   "outputs": [
    {
     "data": {
      "text/plain": [
       "30"
      ]
     },
     "execution_count": 4,
     "metadata": {},
     "output_type": "execute_result"
    }
   ],
   "source": [
    "products_li = soup.select('div.xans-element-.xans-product.xans-product-listnormal.ec-base-product > ul.prdList.grid3 > [id^=\"anchorBoxId_\"]')\n",
    "len(products_li)"
   ]
  },
  {
   "cell_type": "code",
   "execution_count": 5,
   "metadata": {},
   "outputs": [],
   "source": [
    "product_li = products_li[0]"
   ]
  },
  {
   "cell_type": "code",
   "execution_count": 6,
   "metadata": {},
   "outputs": [
    {
     "data": {
      "text/plain": [
       "'https://merryaround.co.kr/product/mlabel-슬림-골지-스퀘어-cd/25271/category/140/display/1/'"
      ]
     },
     "execution_count": 6,
     "metadata": {},
     "output_type": "execute_result"
    }
   ],
   "source": [
    "product_url = \"https://merryaround.co.kr\" + product_li.select_one(\"div.box > div.thumbnail > div.prdImg > a\")[\"href\"]\n",
    "product_url"
   ]
  },
  {
   "cell_type": "code",
   "execution_count": 7,
   "metadata": {},
   "outputs": [
    {
     "data": {
      "text/plain": [
       "'https://merryaround.co.kr/web/product/medium/202310/4309549c297689b45fb63930dcf907df.gif'"
      ]
     },
     "execution_count": 7,
     "metadata": {},
     "output_type": "execute_result"
    }
   ],
   "source": [
    "thumbnail_img_url = \"https:\" + product_li.select_one(\"div.box > div.thumbnail > div.prdImg > a > img\")[\"src\"]\n",
    "thumbnail_img_url"
   ]
  },
  {
   "cell_type": "markdown",
   "metadata": {},
   "source": [
    "### 상품 상세 정보"
   ]
  },
  {
   "cell_type": "code",
   "execution_count": 32,
   "metadata": {},
   "outputs": [],
   "source": [
    "product_url = \"https://merryaround.co.kr/product/%EB%A7%88%EC%9D%BC-%EB%B3%B4%ED%8A%B8%EB%84%A5-tee/22303/category/140/display/1/\""
   ]
  },
  {
   "cell_type": "code",
   "execution_count": 33,
   "metadata": {},
   "outputs": [],
   "source": [
    "response = requests.get(product_url, headers={\"User-Agent\": \"Mozilla/5.0\"})\n",
    "html = response.text\n",
    "soup = BeautifulSoup(html, \"html.parser\")\n",
    "product_dict = {}"
   ]
  },
  {
   "cell_type": "markdown",
   "metadata": {},
   "source": [
    "#### product disabled"
   ]
  },
  {
   "cell_type": "code",
   "execution_count": 34,
   "metadata": {},
   "outputs": [],
   "source": [
    "product_dict['disabled'] = \"FALSE\""
   ]
  },
  {
   "cell_type": "markdown",
   "metadata": {},
   "source": [
    "#### product price"
   ]
  },
  {
   "cell_type": "code",
   "execution_count": 35,
   "metadata": {},
   "outputs": [],
   "source": [
    "price_lst = list(filter(lambda x: x['rel'] == \"할인판매가\", soup.select_one(\"div.infowrap\").select('div.xans-element-.xans-product.xans-product-detaildesign > table > tbody > tr')))\n",
    "if not price_lst:\n",
    "    price_lst = list(filter(lambda x: x['rel'] == \"판매가\", soup.select_one(\"div.infowrap\").select('div.xans-element-.xans-product.xans-product-detaildesign > table > tbody > tr')))"
   ]
  },
  {
   "cell_type": "code",
   "execution_count": 36,
   "metadata": {},
   "outputs": [],
   "source": [
    "price = int(''.join(re.findall(r'\\d+', price_lst[0].select_one(\"td\").text)))\n",
    "product_dict['price'] = price"
   ]
  },
  {
   "cell_type": "markdown",
   "metadata": {},
   "source": [
    "#### product text"
   ]
  },
  {
   "cell_type": "code",
   "execution_count": 39,
   "metadata": {},
   "outputs": [
    {
     "data": {
      "text/plain": [
       "[]"
      ]
     },
     "execution_count": 39,
     "metadata": {},
     "output_type": "execute_result"
    }
   ],
   "source": [
    "soup.select_one(\"ul.sect.deco2\").select(\"p\")"
   ]
  },
  {
   "cell_type": "code",
   "execution_count": 41,
   "metadata": {},
   "outputs": [
    {
     "name": "stdout",
     "output_type": "stream",
     "text": [
      "None\n"
     ]
    }
   ],
   "source": [
    "text = None\n",
    "for p in soup.select_one(\"ul.sect.deco2\").select(\"p\"):\n",
    "    text = p.find_all(string=True)\n",
    "    if text:\n",
    "        break\n",
    "\n",
    "# text = '\\n'.join(text)\n",
    "print(text)"
   ]
  },
  {
   "cell_type": "markdown",
   "metadata": {},
   "source": [
    "#### product size"
   ]
  },
  {
   "cell_type": "code",
   "execution_count": 14,
   "metadata": {},
   "outputs": [
    {
     "data": {
      "text/plain": [
       "{'FREE': '어깨31.5 가슴37.5 암홀20 소매단면13 소매길이60.5 총장53.5 밑단35.5'}"
      ]
     },
     "execution_count": 14,
     "metadata": {},
     "output_type": "execute_result"
    }
   ],
   "source": [
    "string_lst = soup.select_one(\"ul.sect.deco3 > div > div\").find_all(string=True)\n",
    "size_text_dict = {}\n",
    "flag = 0\n",
    "for i, string in enumerate(string_lst):\n",
    "    string = string.strip()\n",
    "    if flag and string == '':\n",
    "        break\n",
    "    if flag:\n",
    "        size_split = string.split('/')\n",
    "        # print(size_split)\n",
    "        if len(size_split) == 1:\n",
    "            size_name = 'FREE'\n",
    "            size_value_string = size_split[0]\n",
    "        else:\n",
    "            size_name, size_value_string = size_split\n",
    "        size_text_dict[size_name] = size_value_string.strip()\n",
    "    if string == 'Size':\n",
    "        flag = 1\n",
    "    \n",
    "size_text_dict"
   ]
  },
  {
   "cell_type": "code",
   "execution_count": 16,
   "metadata": {},
   "outputs": [],
   "source": [
    "def df2size_dict_lst(size_text_dict, category_id):\n",
    "    size_dict_lst = []\n",
    "    for name in size_text_dict:\n",
    "        matches = re.findall(r'(\\D+)(\\d+\\.\\d+|\\d+)', size_text_dict[name])\n",
    "        cat_size_dict_ori = {key.strip(): float(value) for key, value in matches}\n",
    "\n",
    "        size_dict = {\n",
    "            \"name\": name,\n",
    "            \"product_id\": \"NULL\",\n",
    "            \"top_id\": \"NULL\",\n",
    "            \"outer_id\": \"NULL\",\n",
    "            \"bottom_id\": \"NULL\",\n",
    "            \"dress_id\": \"NULL\",\n",
    "        }\n",
    "\n",
    "        cat_size_dict = {}\n",
    "\n",
    "        if category_id == 2:\n",
    "            for col, key in constants.MERRYAROUND_TOP_SIZE_COL2KEY.items():\n",
    "                if col not in cat_size_dict_ori:\n",
    "                    cat_size_dict[key] = \"NULL\"\n",
    "                else:\n",
    "                    cat_size_dict[key] = float(cat_size_dict_ori[col])\n",
    "            size_dict_lst += [[size_dict, cat_size_dict]]\n",
    "        elif category_id == 4:\n",
    "            for col, key in constants.LOOKPLE_BOTTOM_SIZE_COL2KEY.items():\n",
    "                if col not in row.index:\n",
    "                    cat_size_dict[key] = \"NULL\"\n",
    "                else:\n",
    "                    cat_size_dict[key] = float(row[col])\n",
    "            size_dict_lst += [[size_dict, cat_size_dict]]\n",
    "        elif category_id == 3:\n",
    "            for col, key in constants.LOOKPLE_DRESS_SIZE_COL2KEY.items():\n",
    "                if col not in row.index:\n",
    "                    cat_size_dict[key] = \"NULL\"\n",
    "                else:\n",
    "                    cat_size_dict[key] = float(row[col])\n",
    "            size_dict_lst += [[size_dict, cat_size_dict]]\n",
    "        elif category_id == 1:\n",
    "            for col, key in constants.LOOKPLE_OUTER_SIZE_COL2KEY.items():\n",
    "                if col not in row.index:\n",
    "                    cat_size_dict[key] = \"NULL\"\n",
    "                else:\n",
    "                    cat_size_dict[key] = float(row[col])\n",
    "            size_dict_lst += [[size_dict, cat_size_dict]]\n",
    "    return size_dict_lst"
   ]
  },
  {
   "cell_type": "code",
   "execution_count": 17,
   "metadata": {},
   "outputs": [
    {
     "data": {
      "text/plain": [
       "[[{'name': 'FREE',\n",
       "   'product_id': 'NULL',\n",
       "   'top_id': 'NULL',\n",
       "   'outer_id': 'NULL',\n",
       "   'bottom_id': 'NULL',\n",
       "   'dress_id': 'NULL'},\n",
       "  {'full': 53.5, 'shoulder': 31.5, 'chest': 37.5, 'sleeve': 60.5}]]"
      ]
     },
     "execution_count": 17,
     "metadata": {},
     "output_type": "execute_result"
    }
   ],
   "source": [
    "df2size_dict_lst(size_text_dict, 2)"
   ]
  },
  {
   "cell_type": "markdown",
   "metadata": {},
   "source": [
    "#### product name"
   ]
  },
  {
   "cell_type": "code",
   "execution_count": 18,
   "metadata": {},
   "outputs": [],
   "source": [
    "product_dict['name'] = soup.select_one(\"div.headingArea > h2\").text"
   ]
  },
  {
   "cell_type": "markdown",
   "metadata": {},
   "source": [
    "#### product gender"
   ]
  },
  {
   "cell_type": "code",
   "execution_count": 19,
   "metadata": {},
   "outputs": [],
   "source": [
    "product_dict['gender'] = \"F\""
   ]
  },
  {
   "cell_type": "markdown",
   "metadata": {},
   "source": [
    "#### product subcategory_id"
   ]
  },
  {
   "cell_type": "code",
   "execution_count": 20,
   "metadata": {},
   "outputs": [],
   "source": [
    "product_dict['sub_category_id'] = 9"
   ]
  },
  {
   "cell_type": "markdown",
   "metadata": {},
   "source": [
    "#### product category_id"
   ]
  },
  {
   "cell_type": "code",
   "execution_count": 21,
   "metadata": {},
   "outputs": [],
   "source": [
    "product_dict['category_id'] = constants.SUB2CAT[product_dict['sub_category_id']]"
   ]
  },
  {
   "cell_type": "markdown",
   "metadata": {},
   "source": [
    "#### product url"
   ]
  },
  {
   "cell_type": "code",
   "execution_count": 22,
   "metadata": {},
   "outputs": [],
   "source": [
    "product_dict['url'] = product_url"
   ]
  },
  {
   "cell_type": "markdown",
   "metadata": {},
   "source": [
    "#### product mall_id"
   ]
  },
  {
   "cell_type": "code",
   "execution_count": 23,
   "metadata": {},
   "outputs": [],
   "source": [
    "product_dict['mall_id'] = constants.MERRYAROUND_ID"
   ]
  },
  {
   "cell_type": "markdown",
   "metadata": {},
   "source": [
    "### img_url_lst"
   ]
  },
  {
   "cell_type": "code",
   "execution_count": 24,
   "metadata": {},
   "outputs": [],
   "source": [
    "img_url_lst = [constants.MERRYAROUND_ROOT_URL + img_tag['src'].replace(' ', '%20') for img_tag in soup.select_one(\"div#prdDetail\").select(\"img\")]"
   ]
  },
  {
   "cell_type": "code",
   "execution_count": 25,
   "metadata": {},
   "outputs": [
    {
     "data": {
      "text/plain": [
       "['https://merryaround.co.kr/web/2022bong2/20230918_dufl_up2.jpg',\n",
       " 'https://merryaround.co.kr/web/2022bong2/231012_tmffla_st.jpg',\n",
       " 'https://merryaround.co.kr/web/2022jiwon/J231012_3_01_%20(5).jpg',\n",
       " 'https://merryaround.co.kr/web/2022jiwon/J231012_3_01_%20(6).jpg',\n",
       " 'https://merryaround.co.kr/web/2022jiwon/J231012_3_01_%20(7).jpg',\n",
       " 'https://merryaround.co.kr/web/2022jiwon/J231012_3_01_%20(1).jpg',\n",
       " 'https://merryaround.co.kr/web/2022jiwon/J231012_3_01_%20(2).jpg',\n",
       " 'https://merryaround.co.kr/web/2022jiwon/J231012_3_01_%20(3).jpg',\n",
       " 'https://merryaround.co.kr/web/2022jiwon/J231012_3_01_%20(4).jpg',\n",
       " 'https://merryaround.co.kr/web/2022jiwon/J231012_4_01_%20(5).jpg',\n",
       " 'https://merryaround.co.kr/web/2022jiwon/J231012_4_01_%20(6).jpg',\n",
       " 'https://merryaround.co.kr/web/2022jiwon/J231012_4_01_%20(7).jpg',\n",
       " 'https://merryaround.co.kr/web/2022jiwon/J231012_4_01_%20(1).jpg',\n",
       " 'https://merryaround.co.kr/web/2022jiwon/J231012_1_01_%20(4).jpg',\n",
       " 'https://merryaround.co.kr/web/2022jiwon/J231012_1_01_%20(5).jpg',\n",
       " 'https://merryaround.co.kr/web/2022jiwon/J231012_1_01_%20(6).jpg',\n",
       " 'https://merryaround.co.kr/web/2022jiwon/J231012_1_01_%20(1).jpg',\n",
       " 'https://merryaround.co.kr/web/2022jiwon/J231012_1_01_%20(2).jpg',\n",
       " 'https://merryaround.co.kr/web/2022jiwon/J231012_1_01_%20(3).jpg',\n",
       " 'https://merryaround.co.kr/web/2022bong2/20230918_dufl_de.jpg']"
      ]
     },
     "execution_count": 25,
     "metadata": {},
     "output_type": "execute_result"
    }
   ],
   "source": [
    "img_url_lst"
   ]
  },
  {
   "cell_type": "code",
   "execution_count": null,
   "metadata": {},
   "outputs": [],
   "source": []
  }
 ],
 "metadata": {
  "kernelspec": {
   "display_name": "crawling-env",
   "language": "python",
   "name": "python3"
  },
  "language_info": {
   "codemirror_mode": {
    "name": "ipython",
    "version": 3
   },
   "file_extension": ".py",
   "mimetype": "text/x-python",
   "name": "python",
   "nbconvert_exporter": "python",
   "pygments_lexer": "ipython3",
   "version": "3.8.17"
  },
  "orig_nbformat": 4
 },
 "nbformat": 4,
 "nbformat_minor": 2
}
