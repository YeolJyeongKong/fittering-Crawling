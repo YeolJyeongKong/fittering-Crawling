{
 "cells": [
  {
   "cell_type": "code",
   "execution_count": 1,
   "metadata": {},
   "outputs": [],
   "source": [
    "import os\n",
    "import pymysql\n",
    "import pyrootutils\n",
    "import pandas as pd\n",
    "\n",
    "pyrootutils.setup_root(os.curdir, indicator=\".project-root\", pythonpath=True)\n",
    "from Lambda.product_db_range import rds_info\n",
    "import json\n",
    "import boto3\n",
    "\n",
    "conn = pymysql.connect(\n",
    "    host=rds_info.db_host,\n",
    "    user=rds_info.db_username,\n",
    "    passwd=rds_info.db_password,\n",
    "    db=rds_info.db_name,\n",
    "    port=rds_info.db_port,\n",
    ")"
   ]
  },
  {
   "cell_type": "code",
   "execution_count": 9,
   "metadata": {},
   "outputs": [],
   "source": [
    "cursor = conn.cursor()\n",
    "query = \"\"\"\n",
    "SELECT * FROM PRODUCT WHERE PRODUCT_ID BETWEEN 1 AND 5;\n",
    "\"\"\"\n",
    "cursor.execute(query)\n",
    "products = cursor.fetchall()"
   ]
  },
  {
   "cell_type": "code",
   "execution_count": 10,
   "metadata": {},
   "outputs": [
    {
     "data": {
      "text/plain": [
       "(1,\n",
       " 88200,\n",
       " '다이브 하프 셔츠 CLEAR BLACK',\n",
       " 'M',\n",
       " 2,\n",
       " 7,\n",
       " 'https://lmood.co.kr/product/detail.html?product_no=2867&cate_no=198&display_group=1',\n",
       " 1,\n",
       " '2023-08-13 00:24:27.txt')"
      ]
     },
     "execution_count": 10,
     "metadata": {},
     "output_type": "execute_result"
    }
   ],
   "source": [
    "product = products[0]\n",
    "product"
   ]
  },
  {
   "cell_type": "code",
   "execution_count": 14,
   "metadata": {},
   "outputs": [],
   "source": [
    "query = f\"\"\"\n",
    "SELECT * FROM MALL WHERE MALL_ID={product[7]};\n",
    "\"\"\"\n",
    "cursor.execute(query)\n",
    "mall = cursor.fetchall()"
   ]
  },
  {
   "cell_type": "code",
   "execution_count": 16,
   "metadata": {},
   "outputs": [
    {
     "data": {
      "text/plain": [
       "(1,\n",
       " '엘무드',\n",
       " 'https://lmood.co.kr/index.html',\n",
       " '엘무드(LMOOD)는 미니멀과 컴포트를 중점으로 이 시대 트렌드를 반영한 컨템포러리 감성 브랜드입니다.',\n",
       " '2023-08-13 00:24:23.jpg')"
      ]
     },
     "execution_count": 16,
     "metadata": {},
     "output_type": "execute_result"
    }
   ],
   "source": [
    "mall[0]"
   ]
  },
  {
   "cell_type": "code",
   "execution_count": 19,
   "metadata": {},
   "outputs": [
    {
     "data": {
      "text/plain": [
       "((1, '44', 1, 1, None, None, None, 1, 75.0, 53.0, 60.5, 24.5),\n",
       " (2, '46', 1, 2, None, None, None, 2, 76.0, 54.5, 63.0, 25.5),\n",
       " (3, '48', 1, 3, None, None, None, 3, 77.0, 56.0, 65.5, 26.5))"
      ]
     },
     "execution_count": 19,
     "metadata": {},
     "output_type": "execute_result"
    }
   ],
   "source": [
    "if product[4] == 2: # top\n",
    "    query = f\"\"\"\n",
    "    SELECT * FROM SIZE \n",
    "    JOIN TOP_SIZE ON SIZE.TOP_ID = TOP_SIZE.TOP_ID\n",
    "    WHERE PRODUCT_ID = {product[0]};\n",
    "    \"\"\"\n",
    "    cursor.execute(query)\n",
    "sizes = cursor.fetchall()\n",
    "sizes"
   ]
  },
  {
   "cell_type": "code",
   "execution_count": 11,
   "metadata": {},
   "outputs": [
    {
     "data": {
      "text/plain": [
       "((1, '2023-08-13 00:24:27.jpg', 1, 1),\n",
       " (2, '2023-08-13 00:24:27.jpg', 1, 0),\n",
       " (3, '2023-08-13 00:24:28.jpg', 1, 0),\n",
       " (4, '2023-08-13 00:24:28.jpg', 1, 0),\n",
       " (5, '2023-08-13 00:24:29.jpg', 1, 0),\n",
       " (6, '2023-08-13 00:24:29.jpg', 1, 0),\n",
       " (7, '2023-08-13 00:24:30.jpg', 1, 0),\n",
       " (8, '2023-08-13 00:24:30.jpg', 1, 0),\n",
       " (9, '2023-08-13 00:24:30.jpg', 1, 0),\n",
       " (10, '2023-08-13 00:24:31.jpg', 1, 0),\n",
       " (11, '2023-08-13 00:24:31.jpg', 1, 0))"
      ]
     },
     "execution_count": 11,
     "metadata": {},
     "output_type": "execute_result"
    }
   ],
   "source": [
    "query = f\"\"\"\n",
    "SELECT * FROM IMAGEPATH\n",
    "WHERE PRODUCT_ID = {product[0]}\n",
    "\"\"\"\n",
    "cursor.execute(query)\n",
    "image_paths = cursor.fetchall()\n",
    "image_paths[]"
   ]
  },
  {
   "cell_type": "code",
   "execution_count": 12,
   "metadata": {},
   "outputs": [],
   "source": [
    "def handler(event, context):\n",
    "    product_range = event['range']\n",
    "    cursor = conn.cursor()\n",
    "    query = f\"\"\"\n",
    "    SELECT * FROM PRODUCT WHERE PRODUCT_ID BETWEEN {product_range[0]} AND {product_range[1]};\n",
    "    \"\"\"\n",
    "    cursor.execute(query)\n",
    "    products = cursor.fetchall()\n",
    "\n",
    "    body = []\n",
    "    for product in products:\n",
    "        row = {}\n",
    "        row['product'] = {key: value for key, value in zip(rds_info.product_keys, product)}\n",
    "\n",
    "        query = f\"\"\"\n",
    "        SELECT * FROM MALL WHERE MALL_ID={row['product']['mall_id']};\n",
    "        \"\"\"\n",
    "        cursor.execute(query)\n",
    "        mall = cursor.fetchall()[0]\n",
    "        row['mall'] = {key: value for key, value in zip(rds_info.mall_keys, mall)}\n",
    "\n",
    "        if row['product']['category_id'] == 1:\n",
    "            query = f\"\"\"\n",
    "            SELECT * FROM SIZE \n",
    "            JOIN OUTER_SIZE ON SIZE.OUTER_ID = OUTER_SIZE.OUTER_ID\n",
    "            WHERE PRODUCT_ID = {row['product']['product_id']};\n",
    "            \"\"\"\n",
    "            cursor.execute(query)\n",
    "            sizes = cursor.fetchall()\n",
    "            \n",
    "            row['size'] = []\n",
    "            for size in sizes:\n",
    "                size_dict = {key: value for key, value in zip(rds_info.outer_keys, size[-4:])}\n",
    "                size_dict['name'] = size[1]\n",
    "                row['size'] += [size_dict]\n",
    "            \n",
    "        \n",
    "        if row['product']['category_id'] == 2:\n",
    "            query = f\"\"\"\n",
    "            SELECT * FROM SIZE \n",
    "            JOIN TOP_SIZE ON SIZE.TOP_ID = TOP_SIZE.TOP_ID\n",
    "            WHERE PRODUCT_ID = {row['product']['product_id']};\n",
    "            \"\"\"\n",
    "            cursor.execute(query)\n",
    "            sizes = cursor.fetchall()\n",
    "            \n",
    "            row['size'] = []\n",
    "            for size in sizes:\n",
    "                size_dict = {key: value for key, value in zip(rds_info.top_keys, size[-4:])}\n",
    "                size_dict['name'] = size[1]\n",
    "                row['size'] += [size_dict]\n",
    "        \n",
    "\n",
    "        if row['product']['category_id'] == 3:\n",
    "            query = f\"\"\"\n",
    "            SELECT * FROM SIZE \n",
    "            JOIN DRESS_SIZE ON SIZE.DRESS_ID = DRESS_SIZE.DRESS_ID\n",
    "            WHERE PRODUCT_ID = {row['product']['product_id']};\n",
    "            \"\"\"\n",
    "            cursor.execute(query)\n",
    "            sizes = cursor.fetchall()\n",
    "            \n",
    "            row['size'] = []\n",
    "            for size in sizes:\n",
    "                size_dict = {key: value for key, value in zip(rds_info.dress_keys, size[-9:])}\n",
    "                size_dict['name'] = size[1]\n",
    "                row['size'] += [size_dict]\n",
    "\n",
    "        \n",
    "        if row['product']['category_id'] == 3:\n",
    "            query = f\"\"\"\n",
    "            SELECT * FROM SIZE \n",
    "            JOIN BOTTOM_SIZE ON SIZE.BOTTOM_ID = BOTTOM_SIZE.BOTTOM_ID\n",
    "            WHERE PRODUCT_ID = {row['product']['product_id']};\n",
    "            \"\"\"\n",
    "            cursor.execute(query)\n",
    "            sizes = cursor.fetchall()\n",
    "            \n",
    "            row['size'] = []\n",
    "            for size in sizes:\n",
    "                size_dict = {key: value for key, value in zip(rds_info.bottom_keys, size[-6:])}\n",
    "                size_dict['name'] = size[1]\n",
    "                row['size'] += [size_dict]\n",
    "\n",
    "        \n",
    "        query = f\"\"\"\n",
    "        SELECT * FROM IMAGEPATH\n",
    "        WHERE PRODUCT_ID = {row['product']['product_id']} AND THUMBNAIL = 1;\n",
    "        \"\"\"\n",
    "        cursor.execute(query)\n",
    "\n",
    "        row['imagepath'] = []\n",
    "        row['imagepath'] += [cursor.fetchall()[0][1]]\n",
    "        \n",
    "        query = f\"\"\"\n",
    "        SELECT * FROM IMAGEPATH\n",
    "        WHERE PRODUCT_ID = {row['product']['product_id']} AND NOT THUMBNAIL = 1;\n",
    "        \"\"\"\n",
    "        cursor.execute(query)\n",
    "        row['imagepath'] += [imagepath[1] for imagepath in cursor.fetchall()]\n",
    "\n",
    "        body += [row]\n",
    "\n",
    "    return body"
   ]
  },
  {
   "cell_type": "code",
   "execution_count": 20,
   "metadata": {},
   "outputs": [],
   "source": [
    "event = {'range': (1, 5)}\n",
    "response = json.dumps(handler(event, None)[0])"
   ]
  },
  {
   "cell_type": "code",
   "execution_count": 15,
   "metadata": {},
   "outputs": [],
   "source": [
    "json.loads()"
   ]
  },
  {
   "cell_type": "code",
   "execution_count": 17,
   "metadata": {},
   "outputs": [
    {
     "name": "stdout",
     "output_type": "stream",
     "text": [
      "엘무드(LMOOD)는 미니멀과 컴포트를 중점으로 이 시대 트렌드를 반영한 컨템포러리 감성 브랜드입니다.\n"
     ]
    }
   ],
   "source": [
    "print(a)"
   ]
  }
 ],
 "metadata": {
  "kernelspec": {
   "display_name": "crawling-env",
   "language": "python",
   "name": "python3"
  },
  "language_info": {
   "codemirror_mode": {
    "name": "ipython",
    "version": 3
   },
   "file_extension": ".py",
   "mimetype": "text/x-python",
   "name": "python",
   "nbconvert_exporter": "python",
   "pygments_lexer": "ipython3",
   "version": "3.8.17"
  },
  "orig_nbformat": 4
 },
 "nbformat": 4,
 "nbformat_minor": 2
}
