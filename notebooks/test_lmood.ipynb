{
 "cells": [
  {
   "cell_type": "code",
   "execution_count": 1,
   "metadata": {},
   "outputs": [],
   "source": [
    "import re\n",
    "import os\n",
    "import logging\n",
    "import sys\n",
    "import json\n",
    "import base64\n",
    "import requests\n",
    "from bs4 import BeautifulSoup\n",
    "import pymysql\n",
    "import aiohttp\n",
    "import asyncio\n",
    "from collections import defaultdict\n",
    "import pyrootutils\n",
    "import pandas as pd\n",
    "\n",
    "pyrootutils.setup_root(os.curdir, indicator=\".project-root\", pythonpath=True)\n",
    "from aws import connect, rds_insert, s3_upload\n",
    "from extras import constants, paths\n",
    "from lmood.utils import search, category, utils"
   ]
  },
  {
   "cell_type": "code",
   "execution_count": 2,
   "metadata": {},
   "outputs": [],
   "source": [
    "json_path = '/Users/sinjeong-yeol/Documents/aws/crawling-db.json'\n",
    "with open(json_path) as f:\n",
    "    json_object = json.load(f)"
   ]
  },
  {
   "cell_type": "code",
   "execution_count": 3,
   "metadata": {},
   "outputs": [],
   "source": [
    "page_url = constants.LMOOD_PAGE_URL + \"&page=1\""
   ]
  },
  {
   "cell_type": "code",
   "execution_count": 4,
   "metadata": {},
   "outputs": [
    {
     "data": {
      "text/plain": [
       "('https://lmood.co.kr/product/detail.html?product_no=2867&cate_no=198&display_group=1',\n",
       " 'https://lmood.co.kr/web/product/medium/202304/de909ee6d9895c08004617cfa4487a90.jpg')"
      ]
     },
     "execution_count": 4,
     "metadata": {},
     "output_type": "execute_result"
    }
   ],
   "source": [
    "product_li = search.get_product_li(page_url)\n",
    "product_url, thumbnail_image_url = search.get_url(product_li[0])\n",
    "product_url, thumbnail_image_url"
   ]
  },
  {
   "cell_type": "code",
   "execution_count": 5,
   "metadata": {},
   "outputs": [],
   "source": [
    "response = requests.get(product_url, headers={\"User-Agent\": \"Mozilla/5.0\"})\n",
    "html = response.text\n",
    "soup = BeautifulSoup(html, \"html.parser\")\n",
    "name = soup.select('h3.product-name')[0].get_text().strip()"
   ]
  },
  {
   "cell_type": "code",
   "execution_count": 6,
   "metadata": {},
   "outputs": [
    {
     "data": {
      "text/plain": [
       "'₩88,200'"
      ]
     },
     "execution_count": 6,
     "metadata": {},
     "output_type": "execute_result"
    }
   ],
   "source": [
    "soup.select('div#span_prd_price_sale_text')[0].get_text().strip()"
   ]
  },
  {
   "cell_type": "code",
   "execution_count": 7,
   "metadata": {},
   "outputs": [
    {
     "data": {
      "text/plain": [
       "7"
      ]
     },
     "execution_count": 7,
     "metadata": {},
     "output_type": "execute_result"
    }
   ],
   "source": [
    "category.classify(name)"
   ]
  },
  {
   "cell_type": "code",
   "execution_count": 8,
   "metadata": {},
   "outputs": [],
   "source": [
    "data = soup.find('p', {\"class\": \"ko\"}).find_all(string=True)\n",
    "data = '\\n'.join(list(map(lambda x: x.strip(), data)))"
   ]
  },
  {
   "cell_type": "code",
   "execution_count": 9,
   "metadata": {},
   "outputs": [],
   "source": [
    "table = soup.select('div.guideBoard > table')[0]"
   ]
  },
  {
   "cell_type": "code",
   "execution_count": 11,
   "metadata": {},
   "outputs": [
    {
     "data": {
      "text/plain": [
       "['https://lmood.co.kr/renewal/23/HS/02_DROP/DIVE%20HALF%20SHIRTS/CLEAR%20BLACK/1-1.jpg',\n",
       " 'https://lmood.co.kr/renewal/23/HS/02_DROP/DIVE%20HALF%20SHIRTS/CLEAR%20BLACK/2-1.jpg',\n",
       " 'https://lmood.co.kr/renewal/23/HS/02_DROP/DIVE%20HALF%20SHIRTS/CLEAR%20BLACK/3-1.jpg',\n",
       " 'https://lmood.co.kr/renewal/23/HS/02_DROP/DIVE%20HALF%20SHIRTS/CLEAR%20BLACK/4-1.jpg',\n",
       " 'https://lmood.co.kr/renewal/23/HS/02_DROP/DIVE%20HALF%20SHIRTS/CLEAR%20BLACK/5-1.jpg',\n",
       " 'https://lmood.co.kr/renewal/23/HS/02_DROP/DIVE%20HALF%20SHIRTS/CLEAR%20BLACK/1-1.jpg',\n",
       " 'https://lmood.co.kr/renewal/23/HS/02_DROP/DIVE%20HALF%20SHIRTS/CLEAR%20BLACK/2-1.jpg',\n",
       " 'https://lmood.co.kr/renewal/23/HS/02_DROP/DIVE%20HALF%20SHIRTS/CLEAR%20BLACK/3-1.jpg',\n",
       " 'https://lmood.co.kr/renewal/23/HS/02_DROP/DIVE%20HALF%20SHIRTS/CLEAR%20BLACK/4-1.jpg',\n",
       " 'https://lmood.co.kr/renewal/23/HS/02_DROP/DIVE%20HALF%20SHIRTS/CLEAR%20BLACK/5-1.jpg']"
      ]
     },
     "execution_count": 11,
     "metadata": {},
     "output_type": "execute_result"
    }
   ],
   "source": [
    "search.crawling_image(soup)"
   ]
  },
  {
   "cell_type": "markdown",
   "metadata": {},
   "source": [
    "## test"
   ]
  },
  {
   "cell_type": "code",
   "execution_count": 1,
   "metadata": {},
   "outputs": [],
   "source": [
    "import os\n",
    "import pyrootutils\n",
    "\n",
    "pyrootutils.setup_root(os.curdir, indicator=\".project-root\", pythonpath=True)\n",
    "from lmood.utils import utils, search, category\n",
    "from extras import constants, paths\n",
    "from aws import connect, rds_insert, s3_upload"
   ]
  },
  {
   "cell_type": "code",
   "execution_count": 2,
   "metadata": {},
   "outputs": [],
   "source": [
    "s3 = connect.connect_s3()\n",
    "conn, cursor = connect.connect_RDS()"
   ]
  },
  {
   "cell_type": "code",
   "execution_count": 3,
   "metadata": {},
   "outputs": [],
   "source": [
    "product_li = search.get_product_li(constants.LMOOD_PAGE_URL + \"&page=1\")[0]"
   ]
  },
  {
   "cell_type": "code",
   "execution_count": 4,
   "metadata": {},
   "outputs": [],
   "source": [
    "product_url, thumbnail_image_url = search.get_url(product_li)"
   ]
  },
  {
   "cell_type": "code",
   "execution_count": 5,
   "metadata": {},
   "outputs": [],
   "source": [
    "product_id, img_url_lst = search.crawling_product(product_url, s3, conn, cursor)"
   ]
  },
  {
   "cell_type": "code",
   "execution_count": 6,
   "metadata": {},
   "outputs": [],
   "source": [
    "search.s3_rds_image(product_id, thumbnail_image_url, img_url_lst, s3, conn, cursor)"
   ]
  },
  {
   "cell_type": "code",
   "execution_count": 7,
   "metadata": {},
   "outputs": [],
   "source": [
    "connect.close_RDS(conn, cursor)"
   ]
  }
 ],
 "metadata": {
  "kernelspec": {
   "display_name": "crawling-env",
   "language": "python",
   "name": "python3"
  },
  "language_info": {
   "codemirror_mode": {
    "name": "ipython",
    "version": 3
   },
   "file_extension": ".py",
   "mimetype": "text/x-python",
   "name": "python",
   "nbconvert_exporter": "python",
   "pygments_lexer": "ipython3",
   "version": "3.8.17"
  },
  "orig_nbformat": 4
 },
 "nbformat": 4,
 "nbformat_minor": 2
}
