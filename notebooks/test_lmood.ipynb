{
 "cells": [
  {
   "cell_type": "code",
   "execution_count": 9,
   "metadata": {},
   "outputs": [],
   "source": [
    "import logging\n",
    "import sys\n",
    "import json\n",
    "import base64\n",
    "import requests\n",
    "from bs4 import BeautifulSoup\n",
    "import pymysql\n",
    "import aiohttp\n",
    "import asyncio"
   ]
  },
  {
   "cell_type": "code",
   "execution_count": 16,
   "metadata": {},
   "outputs": [],
   "source": [
    "json_path = '/Users/sinjeong-yeol/Documents/aws/crawling-db.json'\n",
    "with open(json_path) as f:\n",
    "    json_object = json.load(f)"
   ]
  },
  {
   "cell_type": "code",
   "execution_count": 17,
   "metadata": {},
   "outputs": [],
   "source": [
    "def connect_RDS(host, port, username, password, database):\n",
    "    try :\n",
    "        conn = pymysql.connect(host=host, user=username, passwd=password, db=database, \n",
    "        \tport=port, use_unicode=True, charset='utf8')\n",
    "        cursor = conn.cursor()\n",
    "    \n",
    "    except :\n",
    "        logging.error(\"RDS에 연결되지 않았습니다.\")\n",
    "        sys.exit(1)\n",
    "\n",
    "    return conn, cursor"
   ]
  },
  {
   "cell_type": "code",
   "execution_count": 18,
   "metadata": {},
   "outputs": [],
   "source": [
    "conn, cursor = connect_RDS(\n",
    "    **json_object\n",
    ")"
   ]
  },
  {
   "cell_type": "code",
   "execution_count": 19,
   "metadata": {},
   "outputs": [],
   "source": [
    "query = '''\n",
    "CREATE TABLE PRODUCT_TABLE (\n",
    "seq INT NOT NULL AUTO_INCREMENT, \n",
    "mb_id VARCHAR(20), \n",
    "PRIMARY KEY(seq)\n",
    ") \n",
    "'''"
   ]
  },
  {
   "cell_type": "code",
   "execution_count": null,
   "metadata": {},
   "outputs": [],
   "source": []
  },
  {
   "cell_type": "code",
   "execution_count": 20,
   "metadata": {},
   "outputs": [
    {
     "data": {
      "text/plain": [
       "0"
      ]
     },
     "execution_count": 20,
     "metadata": {},
     "output_type": "execute_result"
    }
   ],
   "source": [
    "cursor.execute(query)"
   ]
  },
  {
   "cell_type": "code",
   "execution_count": 21,
   "metadata": {},
   "outputs": [],
   "source": [
    "conn.commit()"
   ]
  },
  {
   "cell_type": "code",
   "execution_count": 22,
   "metadata": {},
   "outputs": [],
   "source": [
    "cursor.close()\n",
    "conn.close()"
   ]
  },
  {
   "cell_type": "code",
   "execution_count": 25,
   "metadata": {},
   "outputs": [
    {
     "data": {
      "text/plain": [
       "2"
      ]
     },
     "execution_count": 25,
     "metadata": {},
     "output_type": "execute_result"
    }
   ],
   "source": [
    "conn, cursor = connect_RDS(\n",
    "    **json_object\n",
    ")\n",
    "query = '''\n",
    "DESC PRODUCT_TABLE\n",
    "'''\n",
    "cursor.execute(query)"
   ]
  },
  {
   "cell_type": "code",
   "execution_count": 26,
   "metadata": {},
   "outputs": [
    {
     "data": {
      "text/plain": [
       "(('seq', 'int', 'NO', 'PRI', None, 'auto_increment'),\n",
       " ('mb_id', 'varchar(20)', 'YES', '', None, ''))"
      ]
     },
     "execution_count": 26,
     "metadata": {},
     "output_type": "execute_result"
    }
   ],
   "source": [
    "cursor.fetchall()"
   ]
  },
  {
   "cell_type": "code",
   "execution_count": 14,
   "metadata": {},
   "outputs": [],
   "source": [
    "url = 'https://lmood.co.kr/product/list.html?cate_no=234&page=1'\n",
    "# url = 'https://google.com'\n",
    "response = requests.get(url, headers={\"User-Agent\": \"Mozilla/5.0\"})"
   ]
  },
  {
   "cell_type": "code",
   "execution_count": 15,
   "metadata": {},
   "outputs": [],
   "source": [
    "html = response.text"
   ]
  },
  {
   "cell_type": "code",
   "execution_count": 16,
   "metadata": {},
   "outputs": [
    {
     "data": {
      "text/plain": [
       "200"
      ]
     },
     "execution_count": 16,
     "metadata": {},
     "output_type": "execute_result"
    }
   ],
   "source": [
    "response.status_code"
   ]
  },
  {
   "cell_type": "code",
   "execution_count": 18,
   "metadata": {},
   "outputs": [],
   "source": [
    "soup = BeautifulSoup(html, 'html.parser')"
   ]
  },
  {
   "cell_type": "code",
   "execution_count": 24,
   "metadata": {},
   "outputs": [],
   "source": [
    "page1_a_lst = soup.select('#contents > div.xans-element-.xans-product.xans-product-listnormal.shop-wrap > ul > li:nth-child(1) > div.thumbnail-info > p > a')"
   ]
  },
  {
   "cell_type": "code",
   "execution_count": 26,
   "metadata": {},
   "outputs": [
    {
     "data": {
      "text/plain": [
       "'/product/detail.html?product_no=2827&cate_no=234&display_group=1'"
      ]
     },
     "execution_count": 26,
     "metadata": {},
     "output_type": "execute_result"
    }
   ],
   "source": [
    "page1_a_lst[0].attrs['href']"
   ]
  },
  {
   "cell_type": "code",
   "execution_count": 27,
   "metadata": {},
   "outputs": [
    {
     "data": {
      "text/plain": [
       "[<a href=\"/product/detail.html?product_no=2827&amp;cate_no=234&amp;display_group=1\"><span style=\"font-size:11px;color:#000000;\">타잔 크로셰 하프 슬리브 니트 DUSTY CREAM</span></a>,\n",
       " <a href=\"/product/detail.html?product_no=2771&amp;cate_no=234&amp;display_group=1\"><span style=\"font-size:11px;color:#000000;\">슬러브 스쿱넥 하프 슬리브 티셔츠 WHITE</span></a>,\n",
       " <a href=\"/product/detail.html?product_no=2835&amp;cate_no=234&amp;display_group=1\"><span style=\"font-size:11px;color:#000000;\">뱅! 루즈 카라 하프 슬리브 니트 TWEED COOKIE</span></a>,\n",
       " <a href=\"/product/detail.html?product_no=2853&amp;cate_no=234&amp;display_group=1\"><span style=\"font-size:11px;color:#000000;\">링클 PK 하프 슬리브 티셔츠 OLIVE GREEN</span></a>,\n",
       " <a href=\"/product/detail.html?product_no=2830&amp;cate_no=234&amp;display_group=1\"><span style=\"font-size:11px;color:#000000;\">브레이드 PK 카라 하프 슬리브 니트 DUSTY CREAM</span></a>,\n",
       " <a href=\"/product/detail.html?product_no=2826&amp;cate_no=234&amp;display_group=1\"><span style=\"font-size:11px;color:#000000;\">타잔 크로셰 하프 슬리브 니트 BLACK</span></a>,\n",
       " <a href=\"/product/detail.html?product_no=2854&amp;cate_no=234&amp;display_group=1\"><span style=\"font-size:11px;color:#000000;\">링클 PK 하프 슬리브 티셔츠 NAVY</span></a>,\n",
       " <a href=\"/product/detail.html?product_no=2828&amp;cate_no=234&amp;display_group=1\"><span style=\"font-size:11px;color:#000000;\">타잔 크로셰 하프 슬리브 니트 MUD KHAKI</span></a>,\n",
       " <a href=\"/product/detail.html?product_no=2770&amp;cate_no=234&amp;display_group=1\"><span style=\"font-size:11px;color:#000000;\">슬러브 스쿱넥 하프 슬리브 티셔츠 BLACK</span></a>,\n",
       " <a href=\"/product/detail.html?product_no=2833&amp;cate_no=234&amp;display_group=1\"><span style=\"font-size:11px;color:#000000;\">뱅! 루즈 카라 하프 슬리브 니트 TILL NAVY</span></a>,\n",
       " <a href=\"/product/detail.html?product_no=2832&amp;cate_no=234&amp;display_group=1\"><span style=\"font-size:11px;color:#000000;\">뱅! 루즈 카라 하프 슬리브 니트 TWEED VANILLA</span></a>,\n",
       " <a href=\"/product/detail.html?product_no=2831&amp;cate_no=234&amp;display_group=1\"><span style=\"font-size:11px;color:#000000;\">브레이드 PK 카라 하프 슬리브 니트 DRY ROSE</span></a>]"
      ]
     },
     "execution_count": 27,
     "metadata": {},
     "output_type": "execute_result"
    }
   ],
   "source": [
    "soup.select('#contents > div.xans-element-.xans-product.xans-product-listnormal.shop-wrap > ul > li > div.thumbnail-info > p > a')"
   ]
  },
  {
   "cell_type": "code",
   "execution_count": null,
   "metadata": {},
   "outputs": [],
   "source": [
    "def get"
   ]
  },
  {
   "cell_type": "code",
   "execution_count": null,
   "metadata": {},
   "outputs": [],
   "source": [
    "def get_href_lst"
   ]
  }
 ],
 "metadata": {
  "kernelspec": {
   "display_name": "crawling-env",
   "language": "python",
   "name": "python3"
  },
  "language_info": {
   "codemirror_mode": {
    "name": "ipython",
    "version": 3
   },
   "file_extension": ".py",
   "mimetype": "text/x-python",
   "name": "python",
   "nbconvert_exporter": "python",
   "pygments_lexer": "ipython3",
   "version": "3.8.17"
  },
  "orig_nbformat": 4
 },
 "nbformat": 4,
 "nbformat_minor": 2
}
