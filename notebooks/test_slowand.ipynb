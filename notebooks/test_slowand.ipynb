{
 "cells": [
  {
   "cell_type": "code",
   "execution_count": 1,
   "metadata": {},
   "outputs": [],
   "source": [
    "import os\n",
    "import re\n",
    "from bs4 import BeautifulSoup\n",
    "import requests\n",
    "import pandas as pd\n",
    "import numpy as np\n",
    "import boto3\n",
    "import pyrootutils\n",
    "\n",
    "pyrootutils.setup_root(os.curdir, indicator=\".project-root\", pythonpath=True)\n",
    "from extras import constants, paths\n",
    "from aws import rds, s3"
   ]
  },
  {
   "cell_type": "markdown",
   "metadata": {},
   "source": [
    "## 티셔츠 크롤링"
   ]
  },
  {
   "cell_type": "markdown",
   "metadata": {},
   "source": [
    "### 썸네일 이미지 & 상품 url"
   ]
  },
  {
   "cell_type": "code",
   "execution_count": 2,
   "metadata": {},
   "outputs": [],
   "source": [
    "page_url = \"https://www.slowand.com/category/%ED%8B%B0%EC%85%94%EC%B8%A0/46/?page=1\""
   ]
  },
  {
   "cell_type": "code",
   "execution_count": 3,
   "metadata": {},
   "outputs": [],
   "source": [
    "response = requests.get(page_url, headers={\"User-Agent\": \"Mozilla/5.0\"})\n",
    "html = response.text\n",
    "soup = BeautifulSoup(html, \"html.parser\")"
   ]
  },
  {
   "cell_type": "code",
   "execution_count": 4,
   "metadata": {},
   "outputs": [],
   "source": [
    "products_li = soup.select('[id^=\"anchorBoxId_\"]')"
   ]
  },
  {
   "cell_type": "code",
   "execution_count": 42,
   "metadata": {},
   "outputs": [],
   "source": [
    "def size_check(p):\n",
    "    try:\n",
    "        if \"SIZE\" in p.select_one(\"u\").text:\n",
    "            return True\n",
    "        elif \"FITTING\" in p.select_one(\"u\").text:\n",
    "            return True\n",
    "        else:\n",
    "            return False\n",
    "    except:\n",
    "        return False\n",
    "def size_text(soup):\n",
    "    p_lst = soup.select(\"div.cont > p\")\n",
    "    idxs = []\n",
    "    for i, p in enumerate(p_lst):\n",
    "        if size_check(p):\n",
    "            idxs.append(i)\n",
    "            if len(idxs) == 2:\n",
    "                break\n",
    "    print(idxs)\n",
    "    return list(map(lambda x: x.text.strip(), p_lst[idxs[0]+1:idxs[1]]))"
   ]
  },
  {
   "cell_type": "code",
   "execution_count": 33,
   "metadata": {},
   "outputs": [
    {
     "data": {
      "text/plain": [
       "'https://www.slowand.com//product/무료배송질좋은기본티-slowmade-프리미엄-오가닉코튼-무지티셔츠-11-color/4606/category/46/display/2/'"
      ]
     },
     "execution_count": 33,
     "metadata": {},
     "output_type": "execute_result"
    }
   ],
   "source": [
    "product_url"
   ]
  },
  {
   "cell_type": "code",
   "execution_count": 43,
   "metadata": {},
   "outputs": [
    {
     "name": "stdout",
     "output_type": "stream",
     "text": [
      "https://www.slowand.com//product/어텀베스트-5무료배송-slowmade-니트라이크-여리핏-골지티셔츠-5-color-프리오더-510일-소요/7720/category/46/display/2/\n",
      "[63, 66]\n",
      "['어깨32/가슴34/암홀18/팔기장58/팔단면8.5/소매단면9/밑단36/총장56', '']\n",
      "https://www.slowand.com//product/무료배송2만장돌파-slowmade-솔트-클린-반팔티셔츠-스탠다드핏루즈핏-7-color-반팔크롭티여름반팔여름티셔츠/7466/category/46/display/2/\n",
      "[94, 100]\n",
      "['스탠다드핏-어깨36.5/가슴46/암홀18.5', '팔기장17.5/소매단면15.5/밑단46.5/총장51', '루즈핏-어깨41/가슴52/암홀22.5', '팔기장23/소매단면18/밑단53/총장61.5', '']\n",
      "https://www.slowand.com//product/가을베스트무료배송-slowmade-여리핏-소프트-골지티셔츠-7-color-프리오더-510일-소요/6801/category/46/display/2/\n",
      "[64, 68]\n",
      "['어깨34/가슴44/암홀19/팔기장57/팔단면12.5', '소매단면9.5/밑단44/총장53', '']\n",
      "https://www.slowand.com//product/무료배송질좋은기본티-slowmade-프리미엄-오가닉코튼-무지티셔츠-11-color/4606/category/46/display/2/\n",
      "[91, 93]\n",
      "['어깨50/가슴52.5/암홀23/팔기장53.5/팔단면17.5/소매단면14/밑단52/총장62']\n",
      "https://www.slowand.com//product/기획특가-slowmade-심플베이직-슬림무지티셔츠-6-color-프리오더-510일-소요/4467/category/46/display/2/\n",
      "[94, 97]\n",
      "['어깨36.5/가슴40/암홀20/팔기장61/팔단면11/밑단42/총장64', '']\n",
      "https://www.slowand.com//product/무료배송1만장돌파-slowmade-소프트-여리핏-하프티셔츠-4-color/6750/category/46/display/2/\n",
      "[53, 56]\n",
      "['어깨36/가슴37.5/암홀18.5/팔기장15.5/소매단면14/밑단37/총장55', '']\n",
      "https://www.slowand.com//product/베스트재입고무료배송-slowmade-온드-절개트임-슬림티셔츠-5-color/7242/category/46/display/2/\n",
      "[106, 109]\n",
      "['어깨32.5/가슴33/암홀17.5/팔기장60/팔단면10/소매단면8.5', '밑단33.5/트임7/총장53']\n",
      "https://www.slowand.com//product/베스트재입고무료배송-slowmade-프리미엄-데일리-긴팔티셔츠-7-color/5795/category/46/display/2/\n",
      "[224, 228]\n",
      "['어깨42.5/가슴50/암홀21/팔기장58.5/팔단면15', '소매단면11/밑단50/총장60', '']\n",
      "https://www.slowand.com//product/무료배송탄탄베이스티-유스-탄탄핏-하프티셔츠-5-color/7231/category/46/display/2/\n",
      "[63, 65]\n",
      "['어깨36.5/가슴46/암홀19/팔기장14.5/소매단면16/밑단46/총장59.5']\n",
      "https://www.slowand.com//product/무료배송발레코어룩🩰-slowmade-폴드-여리핏-랩티셔츠-4-color/7312/category/46/display/2/\n",
      "[66, 70]\n",
      "['어깨38/가슴35/암홀19.5/팔기장62.5', '팔단면12.5/소매단면10/밑단36.5/총장55', '']\n",
      "https://www.slowand.com//product/무료배송2만장돌파-slowmade-솔트-클린-반팔티셔츠-스탠다드핏루즈핏-7-color-반팔크롭티여름반팔여름티셔츠/7466/category/46/display/1/\n",
      "[94, 100]\n",
      "['스탠다드핏-어깨36.5/가슴46/암홀18.5', '팔기장17.5/소매단면15.5/밑단46.5/총장51', '루즈핏-어깨41/가슴52/암홀22.5', '팔기장23/소매단면18/밑단53/총장61.5', '']\n",
      "https://www.slowand.com//product/무료배송탄탄베이스티-유스-탄탄핏-하프티셔츠-5-color/7231/category/46/display/1/\n",
      "[63, 65]\n",
      "['어깨36.5/가슴46/암홀19/팔기장14.5/소매단면16/밑단46/총장59.5']\n",
      "https://www.slowand.com//product/어텀베스트-5무료배송-slowmade-니트라이크-여리핏-골지티셔츠-5-color-프리오더-510일-소요/7720/category/46/display/1/\n",
      "[63, 66]\n",
      "['어깨32/가슴34/암홀18/팔기장58/팔단면8.5/소매단면9/밑단36/총장56', '']\n",
      "https://www.slowand.com//product/오늘출발🚚두장이상-무료배송-slowmade-여리핏-사이드-셔링티셔츠-5-color/7261/category/46/display/1/\n",
      "[83, 87]\n",
      "['어깨35.5/가슴35.5/암홀17.5/팔기장59.5', '팔단면10.5/소매단면9.5/밑단35/총장48', '']\n",
      "https://www.slowand.com//product/베스트재입고무료배송-slowmade-온드-절개트임-슬림티셔츠-5-color/7242/category/46/display/1/\n",
      "[106, 109]\n",
      "['어깨32.5/가슴33/암홀17.5/팔기장60/팔단면10/소매단면8.5', '밑단33.5/트임7/총장53']\n",
      "https://www.slowand.com//product/베스트재입고무료배송-slowmade-프리미엄-데일리-긴팔티셔츠-7-color/5795/category/46/display/1/\n",
      "[224, 228]\n",
      "['어깨42.5/가슴50/암홀21/팔기장58.5/팔단면15', '소매단면11/밑단50/총장60', '']\n",
      "https://www.slowand.com//product/오늘출발🚚-slowmade-여리핏-데일리-유넥티셔츠-5-color/5033/category/46/display/1/\n",
      "[89, 92]\n",
      "['어깨35/가슴40.5/암홀20.5/팔기장62.5/팔단면12/소매단면10/밑단41/총장59.5', '']\n",
      "https://www.slowand.com//product/마가렛-썸머-긴팔티셔츠-2-color/7668/category/46/display/1/\n",
      "[42, 45]\n",
      "['어깨61/가슴65/암홀24.5/팔기장51/팔단면20.5', '소매단면11.5/밑단66/트임7.5/총장68']\n",
      "https://www.slowand.com//product/무료배송1만장돌파-slowmade-소프트-여리핏-하프티셔츠-4-color/6750/category/46/display/1/\n",
      "[53, 56]\n",
      "['어깨36/가슴37.5/암홀18.5/팔기장15.5/소매단면14/밑단37/총장55', '']\n",
      "https://www.slowand.com//product/🌸요청재입고1만장돌파-2-type-쫀쫀크롭-티셔츠-4-color/6442/category/46/display/1/\n",
      "[78, 81]\n",
      "['어깨32/가슴34/암홀16/팔기장13/소매단면12/밑단30/총장40', '']\n",
      "https://www.slowand.com//product/3천장돌파-데어-라운드-와플티셔츠-4-color/6246/category/46/display/1/\n",
      "[65, 68]\n",
      "['어깨39.5/가슴46/암홀22/팔기장15.5/소매단면17/밑단48/총장56', '']\n",
      "https://www.slowand.com//product/질좋은-반팔티5만장돌파-slowmade-프리미엄-데일리-무지티셔츠-7-color-여름티여름반팔티/5475/category/46/display/1/\n",
      "[89, 93]\n",
      "['어깨42/가슴49.5/암홀21/팔기장18.5/팔단면18', '소매단면17/밑단49.5/총장60', '']\n",
      "https://www.slowand.com//product/버터-레터링-루즈티셔츠-3-color-프리오더-510일-소요/7708/category/46/display/1/\n",
      "[43, 47]\n",
      "['어깨55/가슴57/암홀21/팔기장50.5', '팔단면17/소매단면14.5/밑단58.5/총장66', '']\n",
      "https://www.slowand.com//product/오늘출발🚚기획특가-slowmade-썸머즈-베스킨-니트티셔츠-4-color/7680/category/46/display/1/\n",
      "[56, 59]\n",
      "['어깨35.5/가슴43/암홀19.5/팔기장14.5', '소매단면15/밑단40/총장52']\n",
      "https://www.slowand.com//product/오늘출발🚚무료배송-slowmade-sweet-키치하트티셔츠-4-color/7634/category/46/display/1/\n",
      "[65, 68]\n",
      "['어깨38/가슴38/암홀19/팔기장13', '소매단면13/밑단38.5/총장48']\n",
      "https://www.slowand.com//product/컨투어링-스퀘어-슬림티셔츠-3-color/7195/category/46/display/1/\n",
      "[46, 49]\n",
      "['어깨33/가슴30/암홀20/팔기장57.5/팔단면9.5', '소매단면8/밑단29.5/총장53']\n",
      "https://www.slowand.com//product/가을베스트무료배송-slowmade-여리핏-소프트-골지티셔츠-7-color-프리오더-510일-소요/6801/category/46/display/1/\n",
      "[64, 68]\n",
      "['어깨34/가슴44/암홀19/팔기장57/팔단면12.5', '소매단면9.5/밑단44/총장53', '']\n",
      "https://www.slowand.com//product/3천장돌파-키치-프린팅-루즈티셔츠-3-color/6702/category/46/display/1/\n",
      "[65, 69]\n",
      "['어깨71/가슴64/암홀21.5/팔기장49/팔단면16.5', '소매단면13.5/밑단64/총장72', '']\n",
      "https://www.slowand.com//product/4만장돌파무료배송-slowmade-올웨어-소프트-유넥티셔츠-6-color/5096/category/46/display/1/\n",
      "[157, 160]\n",
      "['어깨44.5/가슴50.5/암홀25/팔기장58/팔단면17.5/소매단면11.5/밑단51.5/총장61.5', '']\n",
      "https://www.slowand.com//product/6만장돌파-slowmade-탄탄핏-세미크롭-반팔티셔츠-7-color-여름크롭티셔츠반팔크롭티/4249/category/46/display/1/\n",
      "[102, 105]\n",
      "['어깨40.5/가슴52/암홀23/팔기장18/팔단면18/밑단53/총장52', '']\n",
      "https://www.slowand.com//product/심플레터링-오버핏-반팔티셔츠-2-color-프리오더-510일-소요/7695/category/46/display/1/\n",
      "[44, 47]\n",
      "['어깨51.5/가슴59/암홀24.5/팔기장22.5', '소매단면21/밑단60/총장73']\n",
      "https://www.slowand.com//product/기획특가-모먼-레터링-반팔티셔츠-3-color/7596/category/46/display/1/\n",
      "[45, 48]\n",
      "['어깨44/가슴47.5/암홀19/팔기장16', '소매단면17/밑단48/총장62']\n",
      "https://www.slowand.com//product/1천장돌파오늘출발🚚-slowmade-세로니팅-반오픈-버튼티셔츠-4-color/7593/category/46/display/1/\n",
      "[64, 67]\n",
      "['어깨37/가슴40/암홀16.5/팔기장12', '소매단면15/밑단42/총장45.5']\n",
      "https://www.slowand.com//product/테이-쫀쫀-골지티셔츠-5-color/7551/category/46/display/1/\n",
      "[61, 64]\n",
      "['어깨32/가슴35/암홀17/팔기장20', '소매단면13/밑단35/총장54']\n",
      "https://www.slowand.com//product/반팔버전-로제-오프숄더-하프티셔츠-4-color-프리오더-아이보리-510일-소요/7542/category/46/display/1/\n",
      "[44, 47]\n",
      "['어깨41/가슴39/암홀18/팔기장16', '소매단면15/밑단35.5/총장50-54']\n",
      "https://www.slowand.com//product/1천장돌파-빈티지-샌드프린팅-반팔티셔츠-3-color/7541/category/46/display/1/\n",
      "[35, 38]\n",
      "['어깨45/가슴53/암홀20.5/팔기장19', '소매단면17/밑단53/총장47']\n",
      "https://www.slowand.com//product/배색-크롭-레터링티셔츠-3-color/7507/category/46/display/1/\n",
      "[57, 60]\n",
      "['가슴43/팔기장25.5/소매단면17/밑단38/총장44', '']\n",
      "https://www.slowand.com//product/1천장돌파-반팔ver-사선-버트닝-스퀘어티셔츠-3-color/7449/category/46/display/1/\n",
      "[47, 50]\n",
      "['어깨32.5/가슴34/암홀16/팔기장18.5', '소매단면11/밑단32/총장43,41(앞,뒤)']\n",
      "https://www.slowand.com//product/심플리-단색레터링-반팔티셔츠-2-color/7448/category/46/display/1/\n",
      "[49, 52]\n",
      "['어깨29.5/가슴37/암홀20/팔기장17', '소매단면14/밑단39/총장43']\n",
      "https://www.slowand.com//product/여리핏-레이스-버튼티셔츠-4-color/7435/category/46/display/1/\n",
      "[51, 55]\n",
      "['어깨35.5/가슴40/암홀18.5/팔기장61', '팔단면11/소매단면9/밑단40/총장54', '']\n",
      "https://www.slowand.com//product/1천장돌파기획특가-레이어드-슬림탑-티셔츠-3-color/7402/category/46/display/1/\n",
      "[49, 51]\n",
      "['어깨39/가슴40/암홀20/팔기장16/소매단면15.5/밑단32/총장51']\n",
      "https://www.slowand.com//product/여리핏-슬리브리스티셔츠-세트탑-3-color/7342/category/46/display/1/\n",
      "[50, 51]\n",
      "[]\n",
      "https://www.slowand.com//product/무료배송발레코어룩🩰-slowmade-폴드-여리핏-랩티셔츠-4-color/7312/category/46/display/1/\n",
      "[66, 70]\n",
      "['어깨38/가슴35/암홀19.5/팔기장62.5', '팔단면12.5/소매단면10/밑단36.5/총장55', '']\n",
      "https://www.slowand.com//product/오늘출발🚚두장이상-무료배송-slowmade-윈터즈-파스텔-히트티셔츠-7-color/6951/category/46/display/1/\n",
      "[91, 94]\n",
      "['어깨35/가슴37/암홀17/팔기장55/팔단면11.5/소매단면9/밑단38/총장56', '']\n",
      "https://www.slowand.com//product/저스트-기모-반팔티셔츠-3-color/6934/category/46/display/1/\n",
      "[42, 45]\n",
      "['어깨42/가슴50.5/암홀22/팔기장21.5/소매단면17.5/밑단52.5/총장63', '']\n",
      "https://www.slowand.com//product/7천장돌파-slowmade-프롬-탄탄핏-레이어드티셔츠-4-color/6735/category/46/display/1/\n",
      "[63, 66]\n",
      "['어깨44.5/가슴53/암홀22/팔기장50.5/소매단면18.5/밑단54/총장62', '']\n"
     ]
    }
   ],
   "source": [
    "for product_li in products_li:\n",
    "    product_url = \"https://www.slowand.com/\" + product_li.select_one(\"div.thumbnail > div.prdImg > a\")[\"href\"]\n",
    "    print(product_url)\n",
    "    thumbnail_img_url = product_li.select_one(\"div.thumbnail > div.prdImg > a > img\")[\"src\"]\n",
    "\n",
    "    response = requests.get(product_url, headers={\"User-Agent\": \"Mozilla/5.0\"})\n",
    "    html = response.text\n",
    "    soup = BeautifulSoup(html, \"html.parser\")\n",
    "\n",
    "    product_dict = {}\n",
    "    product_dict['price'] = int(re.search(r'\\d+', soup.select_one(\"strong#span_product_price_text\").text.strip().replace(\",\", \"\")).group())\n",
    "    product_dict['name'] = soup.select_one(\"div.infoArea > h2\").text.strip()\n",
    "    product_dict['gender'] = \"F\"\n",
    "    product_dict['sub_category_id'] = 9\n",
    "    product_dict['category_id'] = constants.SUB2CAT[product_dict['sub_category_id']]\n",
    "    product_dict['url'] = product_url\n",
    "    product_dict['mall_id'] = constants.SLOWAND_ID\n",
    "    text = list(filter(lambda x: x.select_one(\"strong > span\").text == '상품간략설명', product_li.select(\"div.description > ul.xans-element-.xans-product.xans-product-listitem.spec > li\")))[0].select(\"span\")[1].find_all(string=True)\n",
    "    text = '\\n'.join(list(map(lambda x: x.strip(), text)))\n",
    "\n",
    "    print(size_text(soup))"
   ]
  },
  {
   "cell_type": "code",
   "execution_count": 5,
   "metadata": {},
   "outputs": [],
   "source": [
    "product_li = products_li[3]"
   ]
  },
  {
   "cell_type": "code",
   "execution_count": 6,
   "metadata": {},
   "outputs": [
    {
     "data": {
      "text/plain": [
       "'https://www.slowand.com//product/가을베스트무료배송-slowmade-여리핏-소프트-골지티셔츠-7-color-프리오더-510일-소요/6801/category/46/display/2/'"
      ]
     },
     "execution_count": 6,
     "metadata": {},
     "output_type": "execute_result"
    }
   ],
   "source": [
    "product_url = \"https://www.slowand.com/\" + product_li.select_one(\"div.thumbnail > div.prdImg > a\")[\"href\"]\n",
    "product_url"
   ]
  },
  {
   "cell_type": "code",
   "execution_count": 7,
   "metadata": {},
   "outputs": [
    {
     "data": {
      "text/plain": [
       "'https://cafe24img.poxo.com/anne2173/web/product/medium/202308/4339c61148378493434728b75094e715.gif'"
      ]
     },
     "execution_count": 7,
     "metadata": {},
     "output_type": "execute_result"
    }
   ],
   "source": [
    "thumbnail_img_url = product_li.select_one(\"div.thumbnail > div.prdImg > a > img\")[\"src\"]\n",
    "thumbnail_img_url"
   ]
  },
  {
   "cell_type": "code",
   "execution_count": 8,
   "metadata": {},
   "outputs": [],
   "source": [
    "s3_access_key = pd.read_csv(paths.S3_ACCESS_KEY_PATH)\n",
    "s3_obj = boto3.client(\n",
    "    \"s3\",\n",
    "    aws_access_key_id=s3_access_key[\"Access key ID\"].values[0],\n",
    "    aws_secret_access_key=s3_access_key[\"Secret access key\"].values[0],\n",
    "    region_name=\"ap-northeast-2\",\n",
    ")"
   ]
  },
  {
   "cell_type": "code",
   "execution_count": 9,
   "metadata": {},
   "outputs": [
    {
     "data": {
      "text/plain": [
       "{'ResponseMetadata': {'RequestId': 'R8QN0SBMPAXH0G1D',\n",
       "  'HostId': 'P0YFnvAmqoLqSvDM3umATDtgH8K33qmVAJFCM4fPBICqM7gXKelzpqll5niY1EtfRhIqVVJk8hU=',\n",
       "  'HTTPStatusCode': 200,\n",
       "  'HTTPHeaders': {'x-amz-id-2': 'P0YFnvAmqoLqSvDM3umATDtgH8K33qmVAJFCM4fPBICqM7gXKelzpqll5niY1EtfRhIqVVJk8hU=',\n",
       "   'x-amz-request-id': 'R8QN0SBMPAXH0G1D',\n",
       "   'date': 'Tue, 05 Sep 2023 12:40:59 GMT',\n",
       "   'x-amz-server-side-encryption': 'AES256',\n",
       "   'etag': '\"c3a93af0e1a1794055d81753a0c0c2bd\"',\n",
       "   'server': 'AmazonS3',\n",
       "   'content-length': '0'},\n",
       "  'RetryAttempts': 0},\n",
       " 'ETag': '\"c3a93af0e1a1794055d81753a0c0c2bd\"',\n",
       " 'ServerSideEncryption': 'AES256'}"
      ]
     },
     "execution_count": 9,
     "metadata": {},
     "output_type": "execute_result"
    }
   ],
   "source": [
    "from PIL import Image\n",
    "response = requests.get(thumbnail_img_url, headers=constants.HEADER)\n",
    "gif_image = response.content\n",
    "s3_obj.put_object(\n",
    "    Bucket=\"fittering-ml-test-bucket\",\n",
    "    Key=\"test.gif\",\n",
    "    Body=gif_image,\n",
    "    ContentType=\"image/jpg\",\n",
    ")"
   ]
  },
  {
   "cell_type": "code",
   "execution_count": 10,
   "metadata": {},
   "outputs": [],
   "source": [
    "test_gif = Image.open(\n",
    "    s3_obj.get_object(Bucket=\"fittering-ml-test-bucket\", Key=\"test.gif\")[\"Body\"]\n",
    ")"
   ]
  },
  {
   "cell_type": "code",
   "execution_count": 11,
   "metadata": {},
   "outputs": [],
   "source": [
    "imgs = []\n",
    "for frame_n in range(test_gif.n_frames):\n",
    "    test_gif.seek(frame_n)\n",
    "    imgs += [test_gif.convert(\"RGB\")]"
   ]
  },
  {
   "cell_type": "markdown",
   "metadata": {},
   "source": [
    "### 상품 상세 정보"
   ]
  },
  {
   "cell_type": "code",
   "execution_count": 12,
   "metadata": {},
   "outputs": [],
   "source": [
    "response = requests.get(product_url, headers={\"User-Agent\": \"Mozilla/5.0\"})\n",
    "html = response.text\n",
    "soup = BeautifulSoup(html, \"html.parser\")\n",
    "product_dict = {}"
   ]
  },
  {
   "cell_type": "markdown",
   "metadata": {},
   "source": [
    "#### product price"
   ]
  },
  {
   "cell_type": "code",
   "execution_count": 13,
   "metadata": {},
   "outputs": [],
   "source": [
    "product_dict['price'] = int(re.search(r'\\d+', soup.select_one(\"strong#span_product_price_text\").text.strip().replace(\",\", \"\")).group())"
   ]
  },
  {
   "cell_type": "markdown",
   "metadata": {},
   "source": [
    "#### product name"
   ]
  },
  {
   "cell_type": "code",
   "execution_count": 14,
   "metadata": {},
   "outputs": [],
   "source": [
    "product_dict['name'] = soup.select_one(\"div.infoArea > h2\").text.strip()"
   ]
  },
  {
   "cell_type": "markdown",
   "metadata": {},
   "source": [
    "#### product gender"
   ]
  },
  {
   "cell_type": "code",
   "execution_count": 15,
   "metadata": {},
   "outputs": [],
   "source": [
    "product_dict['gender'] = \"F\""
   ]
  },
  {
   "cell_type": "markdown",
   "metadata": {},
   "source": [
    "#### product subcategory_id"
   ]
  },
  {
   "cell_type": "code",
   "execution_count": 16,
   "metadata": {},
   "outputs": [],
   "source": [
    "product_dict['sub_category_id'] = 9"
   ]
  },
  {
   "cell_type": "markdown",
   "metadata": {},
   "source": [
    "#### product category_id"
   ]
  },
  {
   "cell_type": "code",
   "execution_count": 17,
   "metadata": {},
   "outputs": [],
   "source": [
    "product_dict['category_id'] = constants.SUB2CAT[product_dict['sub_category_id']]"
   ]
  },
  {
   "cell_type": "markdown",
   "metadata": {},
   "source": [
    "#### product url"
   ]
  },
  {
   "cell_type": "code",
   "execution_count": 18,
   "metadata": {},
   "outputs": [],
   "source": [
    "product_dict['url'] = product_url"
   ]
  },
  {
   "cell_type": "markdown",
   "metadata": {},
   "source": [
    "#### product mall_id"
   ]
  },
  {
   "cell_type": "code",
   "execution_count": 19,
   "metadata": {},
   "outputs": [],
   "source": [
    "product_dict['mall_id'] = constants.SLOWAND_ID"
   ]
  },
  {
   "cell_type": "markdown",
   "metadata": {},
   "source": [
    "#### product text"
   ]
  },
  {
   "cell_type": "code",
   "execution_count": 20,
   "metadata": {},
   "outputs": [
    {
     "data": {
      "text/plain": [
       "'상품간략설명'"
      ]
     },
     "execution_count": 20,
     "metadata": {},
     "output_type": "execute_result"
    }
   ],
   "source": [
    "products_li[0].select(\"div.description > ul.xans-element-.xans-product.xans-product-listitem.spec > li\")[1].select_one(\"strong > span\").text"
   ]
  },
  {
   "cell_type": "code",
   "execution_count": 21,
   "metadata": {},
   "outputs": [
    {
     "name": "stdout",
     "output_type": "stream",
     "text": [
      "많은 분들의 최애티셔츠♥ 재입고!\n",
      "어깨를 타고 툭 흐르듯 떨어지는 소재감에\n",
      "가장 여리여리하게 슬림해 보이는 핏감\n",
      "소장가치 있는 색감들을 담았어요!\n"
     ]
    }
   ],
   "source": [
    "text = list(filter(lambda x: x.select_one(\"strong > span\").text == '상품간략설명', product_li.select(\"div.description > ul.xans-element-.xans-product.xans-product-listitem.spec > li\")))[0].select(\"span\")[1].find_all(string=True)\n",
    "text = '\\n'.join(list(map(lambda x: x.strip(), text)))\n",
    "print(text)"
   ]
  },
  {
   "cell_type": "code",
   "execution_count": 22,
   "metadata": {},
   "outputs": [],
   "source": [
    "with open(\"test.txt\", \"w\") as f:\n",
    "    f.write(soup.prettify())"
   ]
  },
  {
   "cell_type": "code",
   "execution_count": 23,
   "metadata": {},
   "outputs": [],
   "source": [
    "def size_check(p):\n",
    "    try:\n",
    "        if \"SIZE\" in p.select_one(\"span > font > strong > u\").text:\n",
    "            return True\n",
    "        elif \"FITTING\" in p.select_one(\"span > font > strong > u\").text:\n",
    "            return True\n",
    "        else:\n",
    "            return False\n",
    "    except:\n",
    "        return False"
   ]
  },
  {
   "cell_type": "code",
   "execution_count": 24,
   "metadata": {},
   "outputs": [],
   "source": [
    "def size_text(soup):\n",
    "    p_lst = soup.select(\"div.cont > p\")\n",
    "    idxs = []\n",
    "    for i, p in enumerate(p_lst):\n",
    "        if size_check(p):\n",
    "            idxs.append(i)\n",
    "            if len(idxs) == 2:\n",
    "                break\n",
    "    print(idxs)\n",
    "    return list(map(lambda x: x.select_one(\"span\").text.strip(), p_lst[idxs[0]+1:idxs[1]]))"
   ]
  },
  {
   "cell_type": "code",
   "execution_count": 25,
   "metadata": {},
   "outputs": [
    {
     "name": "stdout",
     "output_type": "stream",
     "text": [
      "[64, 68]\n"
     ]
    },
    {
     "data": {
      "text/plain": [
       "['어깨34/가슴44/암홀19/팔기장57/팔단면12.5', '소매단면9.5/밑단44/총장53', '']"
      ]
     },
     "execution_count": 25,
     "metadata": {},
     "output_type": "execute_result"
    }
   ],
   "source": [
    "size_text(soup)"
   ]
  }
 ],
 "metadata": {
  "kernelspec": {
   "display_name": "crawling-env",
   "language": "python",
   "name": "python3"
  },
  "language_info": {
   "codemirror_mode": {
    "name": "ipython",
    "version": 3
   },
   "file_extension": ".py",
   "mimetype": "text/x-python",
   "name": "python",
   "nbconvert_exporter": "python",
   "pygments_lexer": "ipython3",
   "version": "3.8.17"
  },
  "orig_nbformat": 4
 },
 "nbformat": 4,
 "nbformat_minor": 2
}
