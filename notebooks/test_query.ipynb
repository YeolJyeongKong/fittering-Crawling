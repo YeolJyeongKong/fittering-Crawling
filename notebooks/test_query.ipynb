{
 "cells": [
  {
   "cell_type": "markdown",
   "metadata": {},
   "source": [
    "# query check"
   ]
  },
  {
   "cell_type": "code",
   "execution_count": 3,
   "metadata": {},
   "outputs": [],
   "source": [
    "import pyrootutils\n",
    "import os \n",
    "\n",
    "pyrootutils.setup_root(os.curdir, indicator=\".project-root\", pythonpath=True)\n",
    "from aws import connect, rds_insert, s3_upload"
   ]
  },
  {
   "cell_type": "markdown",
   "metadata": {},
   "source": [
    " ## insert mall"
   ]
  },
  {
   "cell_type": "code",
   "execution_count": null,
   "metadata": {},
   "outputs": [],
   "source": [
    "conn, cursor = connect.connect_RDS()\n",
    "product_dict = {\n",
    "    \"price\": 88200,\n",
    "    \"name\": \"타잔 크로셰 하프 슬리브 니트 DUSTY CREAM\",\n",
    "    \"gender\": \"M\",\n",
    "    \"category_id\": 2,\n",
    "    \"sub_category_id\": 9,\n",
    "    \"url\": \"https://lmood.co.kr/product/detail.html?product_no=2827&cate_no=234&display_group=1\",\n",
    "    \"mall_id\": 2,\n",
    "}\n",
    "rds_insert.insert_product(conn, cursor, product_dict)\n",
    "connect.close_RDS(conn, cursor)"
   ]
  },
  {
   "cell_type": "markdown",
   "metadata": {},
   "source": [
    "## insert product"
   ]
  },
  {
   "cell_type": "code",
   "execution_count": null,
   "metadata": {},
   "outputs": [],
   "source": [
    "conn, cursor = connect.connect_RDS()\n",
    "mall_dict = {\n",
    "    \"name\": \"엘무드\",\n",
    "    \"url\": \"https://lmood.co.kr/index.html\",\n",
    "    \"description\": \"엘무드(LMOOD)는 미니멀과 컴포트를 중점으로 이 시대 트렌드를 반영한 컨템포러리 감성 브랜드입니다.\",\n",
    "    \"image\": \"asdf;alsdkjfaslkdfj;l\",\n",
    "}\n",
    "rds_insert.insert_mall(conn, cursor, mall_dict)\n",
    "connect.close_RDS(conn, cursor)"
   ]
  },
  {
   "cell_type": "code",
   "execution_count": null,
   "metadata": {},
   "outputs": [],
   "source": []
  }
 ],
 "metadata": {
  "kernelspec": {
   "display_name": "crawling-env",
   "language": "python",
   "name": "python3"
  },
  "language_info": {
   "codemirror_mode": {
    "name": "ipython",
    "version": 3
   },
   "file_extension": ".py",
   "mimetype": "text/x-python",
   "name": "python",
   "nbconvert_exporter": "python",
   "pygments_lexer": "ipython3",
   "version": "3.8.17"
  },
  "orig_nbformat": 4
 },
 "nbformat": 4,
 "nbformat_minor": 2
}
