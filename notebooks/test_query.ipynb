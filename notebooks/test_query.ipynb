{
 "cells": [
  {
   "cell_type": "markdown",
   "metadata": {},
   "source": [
    "# query check"
   ]
  },
  {
   "cell_type": "code",
   "execution_count": 14,
   "metadata": {},
   "outputs": [],
   "source": [
    "import pyrootutils\n",
    "import os \n",
    "from collections import defaultdict\n",
    "\n",
    "pyrootutils.setup_root(os.curdir, indicator=\".project-root\", pythonpath=True)\n",
    "from aws import connect, rds_insert, s3_upload"
   ]
  },
  {
   "cell_type": "markdown",
   "metadata": {},
   "source": [
    "## connect rds"
   ]
  },
  {
   "cell_type": "code",
   "execution_count": 9,
   "metadata": {},
   "outputs": [],
   "source": [
    "conn, cursor = connect.connect_RDS()"
   ]
  },
  {
   "cell_type": "markdown",
   "metadata": {},
   "source": [
    " ## insert mall"
   ]
  },
  {
   "cell_type": "code",
   "execution_count": 10,
   "metadata": {},
   "outputs": [
    {
     "data": {
      "text/plain": [
       "1"
      ]
     },
     "execution_count": 10,
     "metadata": {},
     "output_type": "execute_result"
    }
   ],
   "source": [
    "mall_dict = {\n",
    "    \"name\": \"엘무드\",\n",
    "    \"url\": \"https://lmood.co.kr/index.html\",\n",
    "    \"description\": \"엘무드(LMOOD)는 미니멀과 컴포트를 중점으로 이 시대 트렌드를 반영한 컨템포러리 감성 브랜드입니다.\",\n",
    "    \"image\": \"asdf;alsdkjfaslkdfj;l\",\n",
    "}\n",
    "mall_id = rds_insert.insert_mall(conn, cursor, mall_dict)\n",
    "mall_id"
   ]
  },
  {
   "cell_type": "markdown",
   "metadata": {},
   "source": [
    "## insert product"
   ]
  },
  {
   "cell_type": "code",
   "execution_count": 11,
   "metadata": {},
   "outputs": [
    {
     "data": {
      "text/plain": [
       "1"
      ]
     },
     "execution_count": 11,
     "metadata": {},
     "output_type": "execute_result"
    }
   ],
   "source": [
    "product_dict = {\n",
    "    \"price\": 88200,\n",
    "    \"name\": \"타잔 크로셰 하프 슬리브 니트 DUSTY CREAM\",\n",
    "    \"gender\": \"M\",\n",
    "    \"category_id\": 2,\n",
    "    \"sub_category_id\": 9,\n",
    "    \"url\": \"https://lmood.co.kr/product/detail.html?product_no=2827&cate_no=234&display_group=1\",\n",
    "    \"mall_id\": mall_id,\n",
    "}\n",
    "product_id = rds_insert.insert_product(conn, cursor, product_dict)\n",
    "product_id"
   ]
  },
  {
   "cell_type": "markdown",
   "metadata": {},
   "source": [
    "## insert top_size"
   ]
  },
  {
   "cell_type": "code",
   "execution_count": 12,
   "metadata": {},
   "outputs": [
    {
     "data": {
      "text/plain": [
       "1"
      ]
     },
     "execution_count": 12,
     "metadata": {},
     "output_type": "execute_result"
    }
   ],
   "source": [
    "top_size_dict = {\n",
    "    'full': 64,\n",
    "    'shoulder': 51, \n",
    "    'chest': 58,\n",
    "    'sleeve': 24.5\n",
    "}\n",
    "top_size_id = rds_insert.insert_top_size(conn, cursor, top_size_dict)\n",
    "top_size_id"
   ]
  },
  {
   "cell_type": "markdown",
   "metadata": {},
   "source": [
    "## insert outer_size"
   ]
  },
  {
   "cell_type": "code",
   "execution_count": null,
   "metadata": {},
   "outputs": [],
   "source": [
    "outer_size_dict = {\n",
    "    'full': ,\n",
    "    'shoulder': , \n",
    "    'chest': ,\n",
    "    'sleeve': \n",
    "}\n",
    "outer_size_id = rds_insert.insert_outer_size(conn, cursor, outer_size_dict)\n",
    "outer_size_id"
   ]
  },
  {
   "cell_type": "markdown",
   "metadata": {},
   "source": [
    "## insert bottom_size"
   ]
  },
  {
   "cell_type": "code",
   "execution_count": null,
   "metadata": {},
   "outputs": [],
   "source": [
    "bottom_size_dict = {\n",
    "    'full': ,\n",
    "    'waist': , \n",
    "    'thigh': ,\n",
    "    'rise': ,\n",
    "    'bottom_width': ,\n",
    "    'hip_width':  \n",
    "}\n",
    "bottom_size_id = rds_insert.insert_bottom_size(conn, cursor, bottom_size_dict)\n",
    "bottom_size_id"
   ]
  },
  {
   "cell_type": "markdown",
   "metadata": {},
   "source": [
    "## insert dress_size"
   ]
  },
  {
   "cell_type": "code",
   "execution_count": null,
   "metadata": {},
   "outputs": [],
   "source": [
    "dress_size_dict = {\n",
    "    'full': ,\n",
    "    'shoulder': , \n",
    "    'waist': ,\n",
    "    'thigh': ,\n",
    "    'arm_hall': ,\n",
    "    'hip': ,\n",
    "    'sleeve': ,\n",
    "    'sleeve_width': ,\n",
    "    'bottom_width':   \n",
    "}\n",
    "dress_size_id = rds_insert.insert_dress_size(conn, cursor, dress_size_dict)\n",
    "dress_size_id"
   ]
  },
  {
   "cell_type": "markdown",
   "metadata": {},
   "source": [
    "## insert size"
   ]
  },
  {
   "cell_type": "code",
   "execution_count": 15,
   "metadata": {},
   "outputs": [
    {
     "data": {
      "text/plain": [
       "1"
      ]
     },
     "execution_count": 15,
     "metadata": {},
     "output_type": "execute_result"
    }
   ],
   "source": [
    "size_dict = {\n",
    "    'name': '44', \n",
    "    'product_id': product_id,\n",
    "    'top_id': top_size_id, \n",
    "    'outer_id': 'NULL',\n",
    "    'bottom_id': 'NULL',\n",
    "    'dress_id': 'NULL'\n",
    "}\n",
    "size_id = rds_insert.insert_size(conn, cursor, size_dict)\n",
    "size_id "
   ]
  },
  {
   "cell_type": "markdown",
   "metadata": {},
   "source": [
    "## close rds"
   ]
  },
  {
   "cell_type": "code",
   "execution_count": 16,
   "metadata": {},
   "outputs": [],
   "source": [
    "connect.close_RDS(conn, cursor)"
   ]
  }
 ],
 "metadata": {
  "kernelspec": {
   "display_name": "crawling-env",
   "language": "python",
   "name": "python3"
  },
  "language_info": {
   "codemirror_mode": {
    "name": "ipython",
    "version": 3
   },
   "file_extension": ".py",
   "mimetype": "text/x-python",
   "name": "python",
   "nbconvert_exporter": "python",
   "pygments_lexer": "ipython3",
   "version": "3.8.17"
  },
  "orig_nbformat": 4
 },
 "nbformat": 4,
 "nbformat_minor": 2
}
