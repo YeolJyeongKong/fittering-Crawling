{
 "cells": [
  {
   "cell_type": "code",
   "execution_count": 1,
   "metadata": {},
   "outputs": [],
   "source": [
    "import os\n",
    "import pandas as pd\n",
    "import requests\n",
    "from bs4 import BeautifulSoup\n",
    "import pyrootutils\n",
    "\n",
    "pyrootutils.setup_root(os.curdir, indicator=\".project-root\", pythonpath=True)\n",
    "from lmood.utils import search, utils\n",
    "from extras import constants\n",
    "from aws import rds, s3"
   ]
  },
  {
   "cell_type": "code",
   "execution_count": 6,
   "metadata": {},
   "outputs": [],
   "source": [
    "s3_obj = s3.connect()\n",
    "conn, cursor = rds.connect()"
   ]
  },
  {
   "cell_type": "code",
   "execution_count": 11,
   "metadata": {},
   "outputs": [
    {
     "data": {
      "text/plain": [
       "(380, 11)"
      ]
     },
     "execution_count": 11,
     "metadata": {},
     "output_type": "execute_result"
    }
   ],
   "source": [
    "query = f\"\"\"\n",
    "    SELECT * FROM PRODUCT\n",
    "\"\"\"\n",
    "cursor.execute(query)\n",
    "products = cursor.fetchall()\n",
    "products_df = pd.DataFrame(products)\n",
    "products_df.shape"
   ]
  },
  {
   "cell_type": "code",
   "execution_count": 8,
   "metadata": {},
   "outputs": [
    {
     "data": {
      "text/plain": [
       "(599, 7)"
      ]
     },
     "execution_count": 8,
     "metadata": {},
     "output_type": "execute_result"
    }
   ],
   "source": [
    "query = f\"\"\"\n",
    "    SELECT * FROM SIZE\n",
    "\"\"\"\n",
    "cursor.execute(query)\n",
    "sizes = cursor.fetchall()\n",
    "sizes_df = pd.DataFrame(sizes)\n",
    "sizes_df.shape"
   ]
  },
  {
   "cell_type": "code",
   "execution_count": 21,
   "metadata": {},
   "outputs": [],
   "source": [
    "rds.close(conn, cursor)"
   ]
  },
  {
   "cell_type": "code",
   "execution_count": 16,
   "metadata": {},
   "outputs": [],
   "source": [
    "time_str = \"2023-08-30 20:00:00\"\n",
    "from datetime import datetime\n",
    "now = datetime.strptime(time_str, \"%Y-%m-%d %H:%M:%S\")"
   ]
  },
  {
   "cell_type": "code",
   "execution_count": 21,
   "metadata": {},
   "outputs": [
    {
     "data": {
      "text/plain": [
       "True"
      ]
     },
     "execution_count": 21,
     "metadata": {},
     "output_type": "execute_result"
    }
   ],
   "source": [
    "now > old"
   ]
  },
  {
   "cell_type": "code",
   "execution_count": 20,
   "metadata": {},
   "outputs": [
    {
     "data": {
      "text/plain": [
       "(Timestamp('2023-08-30 19:52:50'), datetime.datetime(2023, 8, 30, 20, 0))"
      ]
     },
     "execution_count": 20,
     "metadata": {},
     "output_type": "execute_result"
    }
   ],
   "source": [
    "old, now"
   ]
  },
  {
   "cell_type": "code",
   "execution_count": 17,
   "metadata": {},
   "outputs": [],
   "source": [
    "old = products_df.loc[0, 'T']"
   ]
  },
  {
   "cell_type": "code",
   "execution_count": 29,
   "metadata": {},
   "outputs": [],
   "source": [
    "# product_url = \"https://lmood.co.kr/product/detail.html?product_no=2433&cate_no=198&display_group=1\" # 사이즈 아무것도 없는거\n",
    "# product_url = \"https://lmood.co.kr/product/detail.html?product_no=2933&cate_no=198&display_group=1\" # 사이즈 세개 다 있는 거\n",
    "# product_url = \"https://lmood.co.kr/product/detail.html?product_no=2867&cate_no=198&display_group=1\" # 사이즈 두개 있는 거\n",
    "product_url = \"https://lmood.co.kr/product/detail.html?product_no=2317&cate_no=198&display_group=1\" # 사이즈 하나가 매진"
   ]
  },
  {
   "cell_type": "code",
   "execution_count": 13,
   "metadata": {},
   "outputs": [],
   "source": [
    "product_url = \"https://lmood.co.kr/product/detail.html?product_no=2225&cate_no=198&display_group=1\""
   ]
  },
  {
   "cell_type": "code",
   "execution_count": 114,
   "metadata": {},
   "outputs": [
    {
     "data": {
      "text/plain": [
       "[0,\n",
       " 1,\n",
       " 2,\n",
       " 3,\n",
       " 4,\n",
       " 5,\n",
       " 6,\n",
       " 7,\n",
       " 8,\n",
       " 9,\n",
       " 10,\n",
       " 11,\n",
       " 12,\n",
       " 13,\n",
       " 14,\n",
       " 15,\n",
       " 16,\n",
       " 17,\n",
       " 18,\n",
       " 19,\n",
       " 20,\n",
       " 21,\n",
       " 22,\n",
       " 23,\n",
       " 24,\n",
       " 25,\n",
       " 26,\n",
       " 27,\n",
       " 28,\n",
       " 29,\n",
       " 30,\n",
       " 31,\n",
       " 32,\n",
       " 33,\n",
       " 34,\n",
       " 35,\n",
       " 36,\n",
       " 37,\n",
       " 38,\n",
       " 39,\n",
       " 40,\n",
       " 41,\n",
       " 42,\n",
       " 43,\n",
       " 44,\n",
       " 45,\n",
       " 46,\n",
       " 47,\n",
       " 48,\n",
       " 49,\n",
       " 50,\n",
       " 51,\n",
       " 52,\n",
       " 53,\n",
       " 54,\n",
       " 55,\n",
       " 56,\n",
       " 57,\n",
       " 58,\n",
       " 59,\n",
       " 60,\n",
       " 61,\n",
       " 62,\n",
       " 63,\n",
       " 64,\n",
       " 65,\n",
       " 66,\n",
       " 67,\n",
       " 68,\n",
       " 69,\n",
       " 70,\n",
       " 71,\n",
       " 72,\n",
       " 73,\n",
       " 74,\n",
       " 75,\n",
       " 76,\n",
       " 77,\n",
       " 78,\n",
       " 79,\n",
       " 80,\n",
       " 81,\n",
       " 82,\n",
       " 83,\n",
       " 84,\n",
       " 85,\n",
       " 86,\n",
       " 87,\n",
       " 88,\n",
       " 89,\n",
       " 90,\n",
       " 91,\n",
       " 92,\n",
       " 93,\n",
       " 94,\n",
       " 95,\n",
       " 96,\n",
       " 97,\n",
       " 98,\n",
       " 99,\n",
       " 100,\n",
       " 101,\n",
       " 102,\n",
       " 103,\n",
       " 104,\n",
       " 105,\n",
       " 106,\n",
       " 107,\n",
       " 108,\n",
       " 109,\n",
       " 110,\n",
       " 111,\n",
       " 112,\n",
       " 113,\n",
       " 114,\n",
       " 115,\n",
       " 116,\n",
       " 117,\n",
       " 118,\n",
       " 119,\n",
       " 120,\n",
       " 121,\n",
       " 122,\n",
       " 123,\n",
       " 124,\n",
       " 125,\n",
       " 126,\n",
       " 127,\n",
       " 128,\n",
       " 129,\n",
       " 130,\n",
       " 131,\n",
       " 132,\n",
       " 133,\n",
       " 134,\n",
       " 135,\n",
       " 136,\n",
       " 137,\n",
       " 138,\n",
       " 139,\n",
       " 140,\n",
       " 141,\n",
       " 142,\n",
       " 143,\n",
       " 144,\n",
       " 145,\n",
       " 146,\n",
       " 147,\n",
       " 148,\n",
       " 149,\n",
       " 150,\n",
       " 151,\n",
       " 152,\n",
       " 153,\n",
       " 154,\n",
       " 155,\n",
       " 156,\n",
       " 157,\n",
       " 158,\n",
       " 159,\n",
       " 160,\n",
       " 161,\n",
       " 162,\n",
       " 163,\n",
       " 164,\n",
       " 165,\n",
       " 166,\n",
       " 167,\n",
       " 168,\n",
       " 169,\n",
       " 170,\n",
       " 171,\n",
       " 172,\n",
       " 173,\n",
       " 174,\n",
       " 175,\n",
       " 176,\n",
       " 177,\n",
       " 178,\n",
       " 179,\n",
       " 180,\n",
       " 181,\n",
       " 182,\n",
       " 183,\n",
       " 184,\n",
       " 185,\n",
       " 186,\n",
       " 187,\n",
       " 188,\n",
       " 189,\n",
       " 190,\n",
       " 191,\n",
       " 192,\n",
       " 193,\n",
       " 194,\n",
       " 195,\n",
       " 196,\n",
       " 197,\n",
       " 198,\n",
       " 199,\n",
       " 200,\n",
       " 201,\n",
       " 202,\n",
       " 203,\n",
       " 204,\n",
       " 205,\n",
       " 206,\n",
       " 207,\n",
       " 208,\n",
       " 209,\n",
       " 210,\n",
       " 211,\n",
       " 212,\n",
       " 213,\n",
       " 214,\n",
       " 215,\n",
       " 216,\n",
       " 217,\n",
       " 218,\n",
       " 219,\n",
       " 220,\n",
       " 221,\n",
       " 222,\n",
       " 223,\n",
       " 224,\n",
       " 225,\n",
       " 226,\n",
       " 227,\n",
       " 228,\n",
       " 229,\n",
       " 230,\n",
       " 231,\n",
       " 232,\n",
       " 233,\n",
       " 234,\n",
       " 235,\n",
       " 236,\n",
       " 237,\n",
       " 238,\n",
       " 239,\n",
       " 240,\n",
       " 241,\n",
       " 242,\n",
       " 243,\n",
       " 244,\n",
       " 245,\n",
       " 246,\n",
       " 247,\n",
       " 248,\n",
       " 249,\n",
       " 250,\n",
       " 251,\n",
       " 252,\n",
       " 253,\n",
       " 254,\n",
       " 255,\n",
       " 256,\n",
       " 257,\n",
       " 258,\n",
       " 259,\n",
       " 260,\n",
       " 261,\n",
       " 262,\n",
       " 263,\n",
       " 264,\n",
       " 265,\n",
       " 266,\n",
       " 267,\n",
       " 268,\n",
       " 269,\n",
       " 270,\n",
       " 271,\n",
       " 272,\n",
       " 273,\n",
       " 274,\n",
       " 275,\n",
       " 276,\n",
       " 277,\n",
       " 278,\n",
       " 279,\n",
       " 280,\n",
       " 281,\n",
       " 282,\n",
       " 283,\n",
       " 284,\n",
       " 285,\n",
       " 286,\n",
       " 287,\n",
       " 288,\n",
       " 289,\n",
       " 290,\n",
       " 291,\n",
       " 292,\n",
       " 293,\n",
       " 294,\n",
       " 295,\n",
       " 296,\n",
       " 297,\n",
       " 298,\n",
       " 299,\n",
       " 300,\n",
       " 301,\n",
       " 302,\n",
       " 303,\n",
       " 304,\n",
       " 305,\n",
       " 306,\n",
       " 307,\n",
       " 308,\n",
       " 309,\n",
       " 310,\n",
       " 311,\n",
       " 312,\n",
       " 313,\n",
       " 314,\n",
       " 315,\n",
       " 316,\n",
       " 317,\n",
       " 318,\n",
       " 319,\n",
       " 320,\n",
       " 321,\n",
       " 322,\n",
       " 323,\n",
       " 324,\n",
       " 325,\n",
       " 326,\n",
       " 327,\n",
       " 328,\n",
       " 329,\n",
       " 330,\n",
       " 331,\n",
       " 332,\n",
       " 333,\n",
       " 334,\n",
       " 335,\n",
       " 336,\n",
       " 337,\n",
       " 338,\n",
       " 339,\n",
       " 340,\n",
       " 341,\n",
       " 342,\n",
       " 343,\n",
       " 344,\n",
       " 345,\n",
       " 346,\n",
       " 347,\n",
       " 348,\n",
       " 349,\n",
       " 350,\n",
       " 351,\n",
       " 352,\n",
       " 353,\n",
       " 354,\n",
       " 355,\n",
       " 356,\n",
       " 357,\n",
       " 358,\n",
       " 359,\n",
       " 360,\n",
       " 361,\n",
       " 362,\n",
       " 363,\n",
       " 364,\n",
       " 365,\n",
       " 366,\n",
       " 367,\n",
       " 368,\n",
       " 369,\n",
       " 370,\n",
       " 371,\n",
       " 372,\n",
       " 373,\n",
       " 374,\n",
       " 375,\n",
       " 376,\n",
       " 377,\n",
       " 378,\n",
       " 379,\n",
       " 380,\n",
       " 381,\n",
       " 382]"
      ]
     },
     "execution_count": 114,
     "metadata": {},
     "output_type": "execute_result"
    }
   ],
   "source": [
    "list(products_df.index)"
   ]
  },
  {
   "cell_type": "code",
   "execution_count": 108,
   "metadata": {},
   "outputs": [
    {
     "data": {
      "text/html": [
       "<div>\n",
       "<style scoped>\n",
       "    .dataframe tbody tr th:only-of-type {\n",
       "        vertical-align: middle;\n",
       "    }\n",
       "\n",
       "    .dataframe tbody tr th {\n",
       "        vertical-align: top;\n",
       "    }\n",
       "\n",
       "    .dataframe thead th {\n",
       "        text-align: right;\n",
       "    }\n",
       "</style>\n",
       "<table border=\"1\" class=\"dataframe\">\n",
       "  <thead>\n",
       "    <tr style=\"text-align: right;\">\n",
       "      <th></th>\n",
       "      <th>product_id</th>\n",
       "      <th>price</th>\n",
       "      <th>name</th>\n",
       "      <th>gender</th>\n",
       "      <th>category_id</th>\n",
       "      <th>sub_category_id</th>\n",
       "      <th>url</th>\n",
       "      <th>MALL_ID</th>\n",
       "      <th>DESCRIPTION_PATH</th>\n",
       "    </tr>\n",
       "  </thead>\n",
       "  <tbody>\n",
       "    <tr>\n",
       "      <th>379</th>\n",
       "      <td>569</td>\n",
       "      <td>268200</td>\n",
       "      <td>빅맘 헤링본 싱글 코트 BROWN</td>\n",
       "      <td>M</td>\n",
       "      <td>1</td>\n",
       "      <td>2</td>\n",
       "      <td>https://lmood.co.kr/product/detail.html?produc...</td>\n",
       "      <td>1</td>\n",
       "      <td>2023-08-29_21:02:46.txt</td>\n",
       "    </tr>\n",
       "    <tr>\n",
       "      <th>380</th>\n",
       "      <td>570</td>\n",
       "      <td>268200</td>\n",
       "      <td>빅맘 헤링본 싱글 코트 BROWN</td>\n",
       "      <td>M</td>\n",
       "      <td>1</td>\n",
       "      <td>2</td>\n",
       "      <td>https://lmood.co.kr/product/detail.html?produc...</td>\n",
       "      <td>1</td>\n",
       "      <td>2023-08-29_21:09:23.txt</td>\n",
       "    </tr>\n",
       "    <tr>\n",
       "      <th>381</th>\n",
       "      <td>571</td>\n",
       "      <td>268200</td>\n",
       "      <td>빅맘 헤링본 싱글 코트 BROWN</td>\n",
       "      <td>M</td>\n",
       "      <td>1</td>\n",
       "      <td>2</td>\n",
       "      <td>https://lmood.co.kr/product/detail.html?produc...</td>\n",
       "      <td>1</td>\n",
       "      <td>2023-08-29_21:12:35.txt</td>\n",
       "    </tr>\n",
       "    <tr>\n",
       "      <th>382</th>\n",
       "      <td>572</td>\n",
       "      <td>268200</td>\n",
       "      <td>빅맘 헤링본 싱글 코트 BROWN</td>\n",
       "      <td>M</td>\n",
       "      <td>1</td>\n",
       "      <td>2</td>\n",
       "      <td>https://lmood.co.kr/product/detail.html?produc...</td>\n",
       "      <td>1</td>\n",
       "      <td>2023-08-29_21:27:10.txt</td>\n",
       "    </tr>\n",
       "  </tbody>\n",
       "</table>\n",
       "</div>"
      ],
      "text/plain": [
       "     product_id   price                name gender  category_id  \\\n",
       "379         569  268200  빅맘 헤링본 싱글 코트 BROWN      M            1   \n",
       "380         570  268200  빅맘 헤링본 싱글 코트 BROWN      M            1   \n",
       "381         571  268200  빅맘 헤링본 싱글 코트 BROWN      M            1   \n",
       "382         572  268200  빅맘 헤링본 싱글 코트 BROWN      M            1   \n",
       "\n",
       "     sub_category_id                                                url  \\\n",
       "379                2  https://lmood.co.kr/product/detail.html?produc...   \n",
       "380                2  https://lmood.co.kr/product/detail.html?produc...   \n",
       "381                2  https://lmood.co.kr/product/detail.html?produc...   \n",
       "382                2  https://lmood.co.kr/product/detail.html?produc...   \n",
       "\n",
       "     MALL_ID         DESCRIPTION_PATH  \n",
       "379        1  2023-08-29_21:02:46.txt  \n",
       "380        1  2023-08-29_21:09:23.txt  \n",
       "381        1  2023-08-29_21:12:35.txt  \n",
       "382        1  2023-08-29_21:27:10.txt  "
      ]
     },
     "execution_count": 108,
     "metadata": {},
     "output_type": "execute_result"
    }
   ],
   "source": [
    "product_url = \"https://lmood.co.kr/product/detail.html?product_no=2225&cate_no=198&display_group=1\"\n",
    "products_df[products_df[\"url\"] == product_url]"
   ]
  },
  {
   "cell_type": "code",
   "execution_count": 34,
   "metadata": {},
   "outputs": [],
   "source": [
    "product_id = products_df[products_df[\"url\"] == product_url][\n",
    "    \"product_id\"\n",
    "].values[0]\n",
    "new_sizes_name = search.get_product_size_name(product_url)\n",
    "old_sizes_df = rds.get_product_size_df(cursor, product_id)\n",
    "size_df = search.get_product_all_size_df(product_url)\n",
    "category_id = products_df[products_df[\"url\"] == product_url][\"category_id\"].values[0]"
   ]
  },
  {
   "cell_type": "code",
   "execution_count": 35,
   "metadata": {},
   "outputs": [
    {
     "data": {
      "text/html": [
       "<div>\n",
       "<style scoped>\n",
       "    .dataframe tbody tr th:only-of-type {\n",
       "        vertical-align: middle;\n",
       "    }\n",
       "\n",
       "    .dataframe tbody tr th {\n",
       "        vertical-align: top;\n",
       "    }\n",
       "\n",
       "    .dataframe thead th {\n",
       "        text-align: right;\n",
       "    }\n",
       "</style>\n",
       "<table border=\"1\" class=\"dataframe\">\n",
       "  <thead>\n",
       "    <tr style=\"text-align: right;\">\n",
       "      <th></th>\n",
       "      <th>SIZE_ID</th>\n",
       "      <th>NAME</th>\n",
       "      <th>PRODUCT_ID</th>\n",
       "      <th>TOP_ID</th>\n",
       "      <th>OUTER_ID</th>\n",
       "      <th>BOTTOM_ID</th>\n",
       "      <th>DRESS_ID</th>\n",
       "    </tr>\n",
       "  </thead>\n",
       "  <tbody>\n",
       "    <tr>\n",
       "      <th>0</th>\n",
       "      <td>2</td>\n",
       "      <td>46</td>\n",
       "      <td>1</td>\n",
       "      <td>2</td>\n",
       "      <td>None</td>\n",
       "      <td>None</td>\n",
       "      <td>None</td>\n",
       "    </tr>\n",
       "    <tr>\n",
       "      <th>1</th>\n",
       "      <td>3</td>\n",
       "      <td>48</td>\n",
       "      <td>1</td>\n",
       "      <td>3</td>\n",
       "      <td>None</td>\n",
       "      <td>None</td>\n",
       "      <td>None</td>\n",
       "    </tr>\n",
       "  </tbody>\n",
       "</table>\n",
       "</div>"
      ],
      "text/plain": [
       "   SIZE_ID NAME  PRODUCT_ID  TOP_ID OUTER_ID BOTTOM_ID DRESS_ID\n",
       "0        2   46           1       2     None      None     None\n",
       "1        3   48           1       3     None      None     None"
      ]
     },
     "execution_count": 35,
     "metadata": {},
     "output_type": "execute_result"
    }
   ],
   "source": [
    "old_sizes_df.head()"
   ]
  },
  {
   "cell_type": "code",
   "execution_count": 17,
   "metadata": {},
   "outputs": [],
   "source": [
    "new_sizes_name_set = set(new_sizes_name)\n",
    "old_sizes_name_set = set(old_sizes_df['NAME'].values)\n",
    "\n",
    "add_sizes_name_lst = list(new_sizes_name_set - old_sizes_name_set)\n",
    "rm_sizes_name_lst = list(old_sizes_name_set - new_sizes_name_set)\n",
    "\n",
    "if not old_sizes_name_set:\n",
    "    rds.delete_ImagePath(cursor, product_id)\n",
    "    for rm_size_name in list(old_sizes_name_set):\n",
    "        size_id = old_sizes_df[old_sizes_df['NAME'] == rm_size_name]['SIZE_ID'].values[0]\n",
    "        if category_id == 1:\n",
    "            category_size_id = old_sizes_df[old_sizes_df['NAME'] == rm_size_name]['OUTER_ID'].values[0]\n",
    "        elif category_id == 2:\n",
    "            category_size_id = old_sizes_df[old_sizes_df['NAME'] == rm_size_name]['TOP_ID'].values[0]\n",
    "        elif category_id == 4:\n",
    "            category_size_id = old_sizes_df[old_sizes_df['NAME'] == rm_size_name]['BOTTOM_ID'].values[0]\n",
    "        rds.delete_size(cursor, size_id, category_id, category_size_id)\n",
    "    rds.delete_product(cursor, product_id)\n",
    "\n",
    "if add_sizes_name_lst:\n",
    "    for add_size_name in add_sizes_name_lst:\n",
    "        row = size_df.loc[add_size_name]\n",
    "        rds.insert_cat_size(conn, cursor, row, category_id, product_id)\n",
    "\n",
    "if rm_sizes_name_lst:\n",
    "    for rm_size_name in rm_sizes_name_lst:\n",
    "        size_id = old_sizes_df[old_sizes_df['NAME'] == rm_size_name]['SIZE_ID'].values[0]\n",
    "        if category_id == 1:\n",
    "            category_size_id = old_sizes_df[old_sizes_df['NAME'] == rm_size_name]['OUTER_ID'].values[0]\n",
    "        elif category_id == 2:\n",
    "            category_size_id = old_sizes_df[old_sizes_df['NAME'] == rm_size_name]['TOP_ID'].values[0]\n",
    "        elif category_id == 4:\n",
    "            category_size_id = old_sizes_df[old_sizes_df['NAME'] == rm_size_name]['BOTTOM_ID'].values[0]\n",
    "        rds.delete_size(cursor, size_id, category_id, category_size_id)"
   ]
  },
  {
   "cell_type": "code",
   "execution_count": 18,
   "metadata": {},
   "outputs": [],
   "source": [
    "rds.close(conn, cursor)"
   ]
  },
  {
   "cell_type": "code",
   "execution_count": 96,
   "metadata": {},
   "outputs": [
    {
     "data": {
      "text/html": [
       "<div>\n",
       "<style scoped>\n",
       "    .dataframe tbody tr th:only-of-type {\n",
       "        vertical-align: middle;\n",
       "    }\n",
       "\n",
       "    .dataframe tbody tr th {\n",
       "        vertical-align: top;\n",
       "    }\n",
       "\n",
       "    .dataframe thead th {\n",
       "        text-align: right;\n",
       "    }\n",
       "</style>\n",
       "<table border=\"1\" class=\"dataframe\">\n",
       "  <thead>\n",
       "    <tr style=\"text-align: right;\">\n",
       "      <th></th>\n",
       "      <th>SIZE_ID</th>\n",
       "      <th>NAME</th>\n",
       "      <th>PRODUCT_ID</th>\n",
       "      <th>TOP_ID</th>\n",
       "      <th>OUTER_ID</th>\n",
       "      <th>BOTTOM_ID</th>\n",
       "      <th>DRESS_ID</th>\n",
       "    </tr>\n",
       "  </thead>\n",
       "  <tbody>\n",
       "    <tr>\n",
       "      <th>0</th>\n",
       "      <td>2</td>\n",
       "      <td>46</td>\n",
       "      <td>1</td>\n",
       "      <td>2</td>\n",
       "      <td>None</td>\n",
       "      <td>None</td>\n",
       "      <td>None</td>\n",
       "    </tr>\n",
       "    <tr>\n",
       "      <th>1</th>\n",
       "      <td>3</td>\n",
       "      <td>48</td>\n",
       "      <td>1</td>\n",
       "      <td>3</td>\n",
       "      <td>None</td>\n",
       "      <td>None</td>\n",
       "      <td>None</td>\n",
       "    </tr>\n",
       "  </tbody>\n",
       "</table>\n",
       "</div>"
      ],
      "text/plain": [
       "   SIZE_ID NAME  PRODUCT_ID  TOP_ID OUTER_ID BOTTOM_ID DRESS_ID\n",
       "0        2   46           1       2     None      None     None\n",
       "1        3   48           1       3     None      None     None"
      ]
     },
     "execution_count": 96,
     "metadata": {},
     "output_type": "execute_result"
    }
   ],
   "source": [
    "old_sizes_df = rds.get_product_size_df(cursor, product_id=1)\n",
    "old_sizes_df"
   ]
  },
  {
   "cell_type": "code",
   "execution_count": 98,
   "metadata": {},
   "outputs": [],
   "source": [
    "old_sizes_df = pd.DataFrame(columns=['SIZE_ID', 'NAME', 'PRODUCT_ID', 'TOP_ID', 'OUTER_ID', 'BOTTOM_ID', 'DRESS_ID'])"
   ]
  },
  {
   "cell_type": "code",
   "execution_count": 100,
   "metadata": {},
   "outputs": [
    {
     "data": {
      "text/plain": [
       "array([], dtype=object)"
      ]
     },
     "execution_count": 100,
     "metadata": {},
     "output_type": "execute_result"
    }
   ],
   "source": [
    "old_sizes_df[\"NAME\"].values"
   ]
  },
  {
   "cell_type": "code",
   "execution_count": 94,
   "metadata": {},
   "outputs": [
    {
     "data": {
      "text/plain": [
       "True"
      ]
     },
     "execution_count": 94,
     "metadata": {},
     "output_type": "execute_result"
    }
   ],
   "source": [
    "old_sizes_df = rds.get_product_size_df(cursor, product_id=1000)\n",
    "old_sizes_df.empty"
   ]
  },
  {
   "cell_type": "code",
   "execution_count": 102,
   "metadata": {},
   "outputs": [
    {
     "data": {
      "text/plain": [
       "[]"
      ]
     },
     "execution_count": 102,
     "metadata": {},
     "output_type": "execute_result"
    }
   ],
   "source": [
    "product_url = \"https://lmood.co.kr/product/detail.html?product_no=2751&cate_no=198&display_group=1\"\n",
    "response = requests.get(product_url, headers={\"User-Agent\": \"Mozilla/5.0\"})\n",
    "html = response.text\n",
    "soup = BeautifulSoup(html, \"html.parser\")\n",
    "\n",
    "list(\n",
    "    filter(\n",
    "        lambda li: li.select(\"label\")[0].text == \"사이즈\",\n",
    "        soup.select(\n",
    "            \"li.xans-element-.xans-product.xans-product-option.xans-record-\"\n",
    "        ),\n",
    "    )\n",
    ")"
   ]
  },
  {
   "cell_type": "code",
   "execution_count": 101,
   "metadata": {},
   "outputs": [
    {
     "ename": "IndexError",
     "evalue": "list index out of range",
     "output_type": "error",
     "traceback": [
      "\u001b[0;31m---------------------------------------------------------------------------\u001b[0m",
      "\u001b[0;31mIndexError\u001b[0m                                Traceback (most recent call last)",
      "Cell \u001b[0;32mIn[101], line 12\u001b[0m\n\u001b[1;32m      9\u001b[0m \u001b[39mif\u001b[39;00m new_price \u001b[39m!=\u001b[39m old_price:\n\u001b[1;32m     10\u001b[0m     rds\u001b[39m.\u001b[39mupdate_price(cursor, product_url, new_price)\n\u001b[0;32m---> 12\u001b[0m new_sizes_name \u001b[39m=\u001b[39m search\u001b[39m.\u001b[39;49mget_product_size_name(product_url)\n\u001b[1;32m     13\u001b[0m old_sizes_df \u001b[39m=\u001b[39m rds\u001b[39m.\u001b[39mget_product_size_df(cursor, product_id)\n\u001b[1;32m     14\u001b[0m size_df \u001b[39m=\u001b[39m search\u001b[39m.\u001b[39mget_product_all_size_df(product_url)\n",
      "File \u001b[0;32m~/VScodeProjects/fittering-Crawling/lmood/utils/search.py:43\u001b[0m, in \u001b[0;36mget_product_size_name\u001b[0;34m(product_url)\u001b[0m\n\u001b[1;32m     37\u001b[0m html \u001b[39m=\u001b[39m response\u001b[39m.\u001b[39mtext\n\u001b[1;32m     38\u001b[0m soup \u001b[39m=\u001b[39m BeautifulSoup(html, \u001b[39m\"\u001b[39m\u001b[39mhtml.parser\u001b[39m\u001b[39m\"\u001b[39m)\n\u001b[1;32m     40\u001b[0m sizes_name \u001b[39m=\u001b[39m \u001b[39mlist\u001b[39m(\n\u001b[1;32m     41\u001b[0m     \u001b[39mmap\u001b[39m(\n\u001b[1;32m     42\u001b[0m         \u001b[39mlambda\u001b[39;00m x: x\u001b[39m.\u001b[39mtext,\n\u001b[0;32m---> 43\u001b[0m         \u001b[39mlist\u001b[39;49m(\n\u001b[1;32m     44\u001b[0m             \u001b[39mfilter\u001b[39;49m(\n\u001b[1;32m     45\u001b[0m                 \u001b[39mlambda\u001b[39;49;00m li: li\u001b[39m.\u001b[39;49mselect(\u001b[39m\"\u001b[39;49m\u001b[39mlabel\u001b[39;49m\u001b[39m\"\u001b[39;49m)[\u001b[39m0\u001b[39;49m]\u001b[39m.\u001b[39;49mtext \u001b[39m==\u001b[39;49m \u001b[39m\"\u001b[39;49m\u001b[39m사이즈\u001b[39;49m\u001b[39m\"\u001b[39;49m,\n\u001b[1;32m     46\u001b[0m                 soup\u001b[39m.\u001b[39;49mselect(\n\u001b[1;32m     47\u001b[0m                     \u001b[39m\"\u001b[39;49m\u001b[39mli.xans-element-.xans-product.xans-product-option.xans-record-\u001b[39;49m\u001b[39m\"\u001b[39;49m\n\u001b[1;32m     48\u001b[0m                 ),\n\u001b[1;32m     49\u001b[0m             )\n\u001b[1;32m     50\u001b[0m         )[\u001b[39m0\u001b[39;49m]\u001b[39m.\u001b[39mselect(\u001b[39m\"\u001b[39m\u001b[39mli\u001b[39m\u001b[39m\"\u001b[39m),\n\u001b[1;32m     51\u001b[0m     )\n\u001b[1;32m     52\u001b[0m )\n\u001b[1;32m     53\u001b[0m \u001b[39mreturn\u001b[39;00m sizes_name\n",
      "\u001b[0;31mIndexError\u001b[0m: list index out of range"
     ]
    }
   ],
   "source": [
    "product_url = \"https://lmood.co.kr/product/detail.html?product_no=2751&cate_no=198&display_group=1\"\n",
    "product_id = products_df[products_df[\"url\"] == product_url][\n",
    "                    \"product_id\"\n",
    "].values[0]\n",
    "new_price = search.get_product_price(product_url)\n",
    "old_price = products_df[products_df[\"url\"] == product_url][\n",
    "    \"price\"\n",
    "].values[0]\n",
    "if new_price != old_price:\n",
    "    rds.update_price(cursor, product_url, new_price)\n",
    "\n",
    "new_sizes_name = search.get_product_size_name(product_url)\n",
    "old_sizes_df = rds.get_product_size_df(cursor, product_id)\n",
    "size_df = search.get_product_all_size_df(product_url)\n",
    "category_id = products_df[products_df[\"url\"] == product_url][\n",
    "    \"category_id\"\n",
    "].values[0]\n",
    "rds.update_size(\n",
    "    conn,\n",
    "    cursor,\n",
    "    new_sizes_name,\n",
    "    old_sizes_df,\n",
    "    size_df,\n",
    "    category_id,\n",
    "    product_id,\n",
    ")"
   ]
  },
  {
   "cell_type": "code",
   "execution_count": 15,
   "metadata": {},
   "outputs": [],
   "source": [
    "new_sizes_name = search.get_product_size_name(product_url)"
   ]
  },
  {
   "cell_type": "code",
   "execution_count": 31,
   "metadata": {},
   "outputs": [
    {
     "ename": "SelectorSyntaxError",
     "evalue": "Invalid character '|' position 3\n  line 1:\nli | li.ec-product-disabled\n   ^",
     "output_type": "error",
     "traceback": [
      "\u001b[0;31m---------------------------------------------------------------------------\u001b[0m",
      "\u001b[0;31mSelectorSyntaxError\u001b[0m                       Traceback (most recent call last)",
      "Cell \u001b[0;32mIn[31], line 7\u001b[0m\n\u001b[1;32m      2\u001b[0m html \u001b[39m=\u001b[39m response\u001b[39m.\u001b[39mtext\n\u001b[1;32m      3\u001b[0m soup \u001b[39m=\u001b[39m BeautifulSoup(html, \u001b[39m\"\u001b[39m\u001b[39mhtml.parser\u001b[39m\u001b[39m\"\u001b[39m)\n\u001b[1;32m      4\u001b[0m \u001b[39mlist\u001b[39m(\n\u001b[1;32m      5\u001b[0m         \u001b[39mmap\u001b[39m(\n\u001b[1;32m      6\u001b[0m             \u001b[39mlambda\u001b[39;00m x: x\u001b[39m.\u001b[39mtext,\n\u001b[0;32m----> 7\u001b[0m             \u001b[39mlist\u001b[39;49m(\n\u001b[1;32m      8\u001b[0m                 \u001b[39mfilter\u001b[39;49m(\n\u001b[1;32m      9\u001b[0m                     \u001b[39mlambda\u001b[39;49;00m li: li\u001b[39m.\u001b[39;49mselect(\u001b[39m\"\u001b[39;49m\u001b[39mlabel\u001b[39;49m\u001b[39m\"\u001b[39;49m)[\u001b[39m0\u001b[39;49m]\u001b[39m.\u001b[39;49mtext \u001b[39m==\u001b[39;49m \u001b[39m\"\u001b[39;49m\u001b[39m사이즈\u001b[39;49m\u001b[39m\"\u001b[39;49m,\n\u001b[1;32m     10\u001b[0m                     soup\u001b[39m.\u001b[39;49mselect(\n\u001b[1;32m     11\u001b[0m                         \u001b[39m\"\u001b[39;49m\u001b[39mli.xans-element-.xans-product.xans-product-option.xans-record-\u001b[39;49m\u001b[39m\"\u001b[39;49m\n\u001b[1;32m     12\u001b[0m                     ),\n\u001b[1;32m     13\u001b[0m                 )\n\u001b[1;32m     14\u001b[0m             )[\u001b[39m0\u001b[39;49m]\u001b[39m.\u001b[39;49mselect(\u001b[39m\"\u001b[39;49m\u001b[39mli | li.ec-product-disabled\u001b[39;49m\u001b[39m\"\u001b[39;49m),\n\u001b[1;32m     15\u001b[0m         )\n\u001b[1;32m     16\u001b[0m     )\n",
      "File \u001b[0;32m~/anaconda3/envs/crawling-env/lib/python3.8/site-packages/bs4/element.py:2111\u001b[0m, in \u001b[0;36mTag.select\u001b[0;34m(self, selector, namespaces, limit, **kwargs)\u001b[0m\n\u001b[1;32m   2091\u001b[0m \u001b[39mdef\u001b[39;00m \u001b[39mselect\u001b[39m(\u001b[39mself\u001b[39m, selector, namespaces\u001b[39m=\u001b[39m\u001b[39mNone\u001b[39;00m, limit\u001b[39m=\u001b[39m\u001b[39mNone\u001b[39;00m, \u001b[39m*\u001b[39m\u001b[39m*\u001b[39mkwargs):\n\u001b[1;32m   2092\u001b[0m \u001b[39m    \u001b[39m\u001b[39m\"\"\"Perform a CSS selection operation on the current element.\u001b[39;00m\n\u001b[1;32m   2093\u001b[0m \n\u001b[1;32m   2094\u001b[0m \u001b[39m    This uses the SoupSieve library.\u001b[39;00m\n\u001b[0;32m   (...)\u001b[0m\n\u001b[1;32m   2109\u001b[0m \u001b[39m    :rtype: bs4.element.ResultSet\u001b[39;00m\n\u001b[1;32m   2110\u001b[0m \u001b[39m    \"\"\"\u001b[39;00m\n\u001b[0;32m-> 2111\u001b[0m     \u001b[39mreturn\u001b[39;00m \u001b[39mself\u001b[39;49m\u001b[39m.\u001b[39;49mcss\u001b[39m.\u001b[39;49mselect(selector, namespaces, limit, \u001b[39m*\u001b[39;49m\u001b[39m*\u001b[39;49mkwargs)\n",
      "File \u001b[0;32m~/anaconda3/envs/crawling-env/lib/python3.8/site-packages/bs4/css.py:162\u001b[0m, in \u001b[0;36mCSS.select\u001b[0;34m(self, select, namespaces, limit, flags, **kwargs)\u001b[0m\n\u001b[1;32m    158\u001b[0m \u001b[39mif\u001b[39;00m limit \u001b[39mis\u001b[39;00m \u001b[39mNone\u001b[39;00m:\n\u001b[1;32m    159\u001b[0m     limit \u001b[39m=\u001b[39m \u001b[39m0\u001b[39m\n\u001b[1;32m    161\u001b[0m \u001b[39mreturn\u001b[39;00m \u001b[39mself\u001b[39m\u001b[39m.\u001b[39m_rs(\n\u001b[0;32m--> 162\u001b[0m     \u001b[39mself\u001b[39;49m\u001b[39m.\u001b[39;49mapi\u001b[39m.\u001b[39;49mselect(\n\u001b[1;32m    163\u001b[0m         select, \u001b[39mself\u001b[39;49m\u001b[39m.\u001b[39;49mtag, \u001b[39mself\u001b[39;49m\u001b[39m.\u001b[39;49m_ns(namespaces, select), limit, flags,\n\u001b[1;32m    164\u001b[0m         \u001b[39m*\u001b[39;49m\u001b[39m*\u001b[39;49mkwargs\n\u001b[1;32m    165\u001b[0m     )\n\u001b[1;32m    166\u001b[0m )\n",
      "File \u001b[0;32m~/anaconda3/envs/crawling-env/lib/python3.8/site-packages/soupsieve/__init__.py:147\u001b[0m, in \u001b[0;36mselect\u001b[0;34m(select, tag, namespaces, limit, flags, custom, **kwargs)\u001b[0m\n\u001b[1;32m    135\u001b[0m \u001b[39mdef\u001b[39;00m \u001b[39mselect\u001b[39m(\n\u001b[1;32m    136\u001b[0m     select: \u001b[39mstr\u001b[39m,\n\u001b[1;32m    137\u001b[0m     tag: \u001b[39m'\u001b[39m\u001b[39mbs4.Tag\u001b[39m\u001b[39m'\u001b[39m,\n\u001b[0;32m   (...)\u001b[0m\n\u001b[1;32m    143\u001b[0m     \u001b[39m*\u001b[39m\u001b[39m*\u001b[39mkwargs: Any\n\u001b[1;32m    144\u001b[0m ) \u001b[39m-\u001b[39m\u001b[39m>\u001b[39m \u001b[39mlist\u001b[39m[\u001b[39m'\u001b[39m\u001b[39mbs4.Tag\u001b[39m\u001b[39m'\u001b[39m]:\n\u001b[1;32m    145\u001b[0m \u001b[39m    \u001b[39m\u001b[39m\"\"\"Select the specified tags.\"\"\"\u001b[39;00m\n\u001b[0;32m--> 147\u001b[0m     \u001b[39mreturn\u001b[39;00m \u001b[39mcompile\u001b[39;49m(select, namespaces, flags, \u001b[39m*\u001b[39;49m\u001b[39m*\u001b[39;49mkwargs)\u001b[39m.\u001b[39mselect(tag, limit)\n",
      "File \u001b[0;32m~/anaconda3/envs/crawling-env/lib/python3.8/site-packages/soupsieve/__init__.py:65\u001b[0m, in \u001b[0;36mcompile\u001b[0;34m(pattern, namespaces, flags, custom, **kwargs)\u001b[0m\n\u001b[1;32m     62\u001b[0m         \u001b[39mraise\u001b[39;00m \u001b[39mValueError\u001b[39;00m(\u001b[39m\"\u001b[39m\u001b[39mCannot process \u001b[39m\u001b[39m'\u001b[39m\u001b[39mcustom\u001b[39m\u001b[39m'\u001b[39m\u001b[39m argument on a compiled selector list\u001b[39m\u001b[39m\"\u001b[39m)\n\u001b[1;32m     63\u001b[0m     \u001b[39mreturn\u001b[39;00m pattern\n\u001b[0;32m---> 65\u001b[0m \u001b[39mreturn\u001b[39;00m cp\u001b[39m.\u001b[39;49m_cached_css_compile(\n\u001b[1;32m     66\u001b[0m     pattern,\n\u001b[1;32m     67\u001b[0m     ct\u001b[39m.\u001b[39;49mNamespaces(namespaces) \u001b[39mif\u001b[39;49;00m namespaces \u001b[39mis\u001b[39;49;00m \u001b[39mnot\u001b[39;49;00m \u001b[39mNone\u001b[39;49;00m \u001b[39melse\u001b[39;49;00m namespaces,\n\u001b[1;32m     68\u001b[0m     ct\u001b[39m.\u001b[39;49mCustomSelectors(custom) \u001b[39mif\u001b[39;49;00m custom \u001b[39mis\u001b[39;49;00m \u001b[39mnot\u001b[39;49;00m \u001b[39mNone\u001b[39;49;00m \u001b[39melse\u001b[39;49;00m custom,\n\u001b[1;32m     69\u001b[0m     flags\n\u001b[1;32m     70\u001b[0m )\n",
      "File \u001b[0;32m~/anaconda3/envs/crawling-env/lib/python3.8/site-packages/soupsieve/css_parser.py:219\u001b[0m, in \u001b[0;36m_cached_css_compile\u001b[0;34m(pattern, namespaces, custom, flags)\u001b[0m\n\u001b[1;32m    214\u001b[0m \u001b[39m\u001b[39m\u001b[39m\"\"\"Cached CSS compile.\"\"\"\u001b[39;00m\n\u001b[1;32m    216\u001b[0m custom_selectors \u001b[39m=\u001b[39m process_custom(custom)\n\u001b[1;32m    217\u001b[0m \u001b[39mreturn\u001b[39;00m cm\u001b[39m.\u001b[39mSoupSieve(\n\u001b[1;32m    218\u001b[0m     pattern,\n\u001b[0;32m--> 219\u001b[0m     CSSParser(\n\u001b[1;32m    220\u001b[0m         pattern,\n\u001b[1;32m    221\u001b[0m         custom\u001b[39m=\u001b[39;49mcustom_selectors,\n\u001b[1;32m    222\u001b[0m         flags\u001b[39m=\u001b[39;49mflags\n\u001b[1;32m    223\u001b[0m     )\u001b[39m.\u001b[39;49mprocess_selectors(),\n\u001b[1;32m    224\u001b[0m     namespaces,\n\u001b[1;32m    225\u001b[0m     custom,\n\u001b[1;32m    226\u001b[0m     flags\n\u001b[1;32m    227\u001b[0m )\n",
      "File \u001b[0;32m~/anaconda3/envs/crawling-env/lib/python3.8/site-packages/soupsieve/css_parser.py:1145\u001b[0m, in \u001b[0;36mCSSParser.process_selectors\u001b[0;34m(self, index, flags)\u001b[0m\n\u001b[1;32m   1142\u001b[0m \u001b[39mdef\u001b[39;00m \u001b[39mprocess_selectors\u001b[39m(\u001b[39mself\u001b[39m, index: \u001b[39mint\u001b[39m \u001b[39m=\u001b[39m \u001b[39m0\u001b[39m, flags: \u001b[39mint\u001b[39m \u001b[39m=\u001b[39m \u001b[39m0\u001b[39m) \u001b[39m-\u001b[39m\u001b[39m>\u001b[39m ct\u001b[39m.\u001b[39mSelectorList:\n\u001b[1;32m   1143\u001b[0m \u001b[39m    \u001b[39m\u001b[39m\"\"\"Process selectors.\"\"\"\u001b[39;00m\n\u001b[0;32m-> 1145\u001b[0m     \u001b[39mreturn\u001b[39;00m \u001b[39mself\u001b[39;49m\u001b[39m.\u001b[39;49mparse_selectors(\u001b[39mself\u001b[39;49m\u001b[39m.\u001b[39;49mselector_iter(\u001b[39mself\u001b[39;49m\u001b[39m.\u001b[39;49mpattern), index, flags)\n",
      "File \u001b[0;32m~/anaconda3/envs/crawling-env/lib/python3.8/site-packages/soupsieve/css_parser.py:981\u001b[0m, in \u001b[0;36mCSSParser.parse_selectors\u001b[0;34m(self, iselector, index, flags)\u001b[0m\n\u001b[1;32m    979\u001b[0m \u001b[39mtry\u001b[39;00m:\n\u001b[1;32m    980\u001b[0m     \u001b[39mwhile\u001b[39;00m \u001b[39mTrue\u001b[39;00m:\n\u001b[0;32m--> 981\u001b[0m         key, m \u001b[39m=\u001b[39m \u001b[39mnext\u001b[39;49m(iselector)\n\u001b[1;32m    983\u001b[0m         \u001b[39m# Handle parts\u001b[39;00m\n\u001b[1;32m    984\u001b[0m         \u001b[39mif\u001b[39;00m key \u001b[39m==\u001b[39m \u001b[39m\"\u001b[39m\u001b[39mat_rule\u001b[39m\u001b[39m\"\u001b[39m:\n",
      "File \u001b[0;32m~/anaconda3/envs/crawling-env/lib/python3.8/site-packages/soupsieve/css_parser.py:1138\u001b[0m, in \u001b[0;36mCSSParser.selector_iter\u001b[0;34m(self, pattern)\u001b[0m\n\u001b[1;32m   1136\u001b[0m         \u001b[39melse\u001b[39;00m:\n\u001b[1;32m   1137\u001b[0m             msg \u001b[39m=\u001b[39m \u001b[39m\"\u001b[39m\u001b[39mInvalid character \u001b[39m\u001b[39m{!r}\u001b[39;00m\u001b[39m position \u001b[39m\u001b[39m{}\u001b[39;00m\u001b[39m\"\u001b[39m\u001b[39m.\u001b[39mformat(c, index)\n\u001b[0;32m-> 1138\u001b[0m         \u001b[39mraise\u001b[39;00m SelectorSyntaxError(msg, \u001b[39mself\u001b[39m\u001b[39m.\u001b[39mpattern, index)\n\u001b[1;32m   1139\u001b[0m \u001b[39mif\u001b[39;00m \u001b[39mself\u001b[39m\u001b[39m.\u001b[39mdebug:  \u001b[39m# pragma: no cover\u001b[39;00m\n\u001b[1;32m   1140\u001b[0m     \u001b[39mprint\u001b[39m(\u001b[39m'\u001b[39m\u001b[39m## END PARSING\u001b[39m\u001b[39m'\u001b[39m)\n",
      "\u001b[0;31mSelectorSyntaxError\u001b[0m: Invalid character '|' position 3\n  line 1:\nli | li.ec-product-disabled\n   ^"
     ]
    }
   ],
   "source": [
    "response = requests.get(product_url, headers={\"User-Agent\": \"Mozilla/5.0\"})\n",
    "html = response.text\n",
    "soup = BeautifulSoup(html, \"html.parser\")\n",
    "list(\n",
    "        map(\n",
    "            lambda x: x.text,\n",
    "            list(\n",
    "                filter(\n",
    "                    lambda li: li.select(\"label\")[0].text == \"사이즈\",\n",
    "                    soup.select(\n",
    "                        \"li.xans-element-.xans-product.xans-product-option.xans-record-\"\n",
    "                    ),\n",
    "                )\n",
    "            )[0].select(\"li | li.ec-product-disabled\"),\n",
    "        )\n",
    "    )"
   ]
  },
  {
   "cell_type": "code",
   "execution_count": 81,
   "metadata": {},
   "outputs": [],
   "source": [
    "# product_url = \"https://lmood.co.kr/product/detail.html?product_no=2433&cate_no=198&display_group=1\" # 사이즈 아무것도 없는거\n",
    "# product_url = \"https://lmood.co.kr/product/detail.html?product_no=2933&cate_no=198&display_group=1\" # 사이즈 세개 다 있는 거\n",
    "# product_url = \"https://lmood.co.kr/product/detail.html?product_no=2867&cate_no=198&display_group=1\" # 사이즈 두개 있는 거\n",
    "product_url = \"https://lmood.co.kr/product/detail.html?product_no=2317&cate_no=198&display_group=1\" # 사이즈 하나가 매진\n",
    "# product_url = \"https://lmood.co.kr/product/detail.html?product_no=2225&cate_no=198&display_group=1\" # 사이즈 두개 있는데 태그가 li\n",
    "\n",
    "# response = requests.get(product_url, headers={\"User-Agent\": \"Mozilla/5.0\"})\n",
    "# html = response.text\n",
    "# soup = BeautifulSoup(html, \"html.parser\")\n",
    "# filter(lambda: , list(\n",
    "#     filter(\n",
    "#         lambda li: li.select(\"label\")[0].text == \"사이즈\",\n",
    "#         soup.select(\n",
    "#             \"li.xans-element-.xans-product.xans-product-option.xans-record-\"\n",
    "#         ),\n",
    "#     )\n",
    "# )[0].select(\"li\"))"
   ]
  },
  {
   "cell_type": "code",
   "execution_count": 79,
   "metadata": {},
   "outputs": [],
   "source": [
    "#contents > div.xans-element-.xans-product.xans-product-detail.section.product-wrap > div.row.product-header > div.col.col50.floatright > div.product-option > ul > li:nth-child(1)"
   ]
  },
  {
   "cell_type": "code",
   "execution_count": 84,
   "metadata": {},
   "outputs": [
    {
     "data": {
      "text/plain": [
       "[<li class=\"cate-shop\">\n",
       " <a class=\"shop-trigger\">Shop</a>\n",
       " <div class=\"category-sub category-sub-shop\">\n",
       " <h3>Shop</h3>\n",
       " <div class=\"category-sub-box\">\n",
       " <ul><!--<li><a href=\"/product/list.html?cate_no=195\">23SS</a></li>\n",
       "                                                 <li><a href=\"/product/list.html?cate_no=192\">22FW</a></li>--></ul><ul><li><a href=\"/product/list.html?cate_no=292\">New Arrivals</a>\n",
       " </li></ul><ul><li><a href=\"/product/list.html?cate_no=198\">View All</a></li>\n",
       " <li><a href=\"/product/list.html?cate_no=188\">Outwears</a></li>\n",
       " <li><a href=\"/product/list.html?cate_no=191\">Knitwears</a></li>\n",
       " <li><a href=\"/product/list.html?cate_no=190\">Tops</a></li>\n",
       " <li><a href=\"/product/list.html?cate_no=193\">Bottoms</a></li>\n",
       " </ul><ul><!--<li><a href=\"/product/list.html?cate_no=271\">OUTLET</a></li>--></ul></div>\n",
       " </div>\n",
       " </li>,\n",
       " <li><a href=\"/product/list.html?cate_no=292\">New Arrivals</a>\n",
       " </li>,\n",
       " <li><a href=\"/product/list.html?cate_no=198\">View All</a></li>,\n",
       " <li><a href=\"/product/list.html?cate_no=188\">Outwears</a></li>,\n",
       " <li><a href=\"/product/list.html?cate_no=191\">Knitwears</a></li>,\n",
       " <li><a href=\"/product/list.html?cate_no=190\">Tops</a></li>,\n",
       " <li><a href=\"/product/list.html?cate_no=193\">Bottoms</a></li>,\n",
       " <li class=\"cate-collection\">\n",
       " <a class=\"collection-trigger\">Collection</a>\n",
       " <div class=\"category-sub category-sub-collection\">\n",
       " <h3>Collection</h3>\n",
       " <div class=\"xans-element- xans-product xans-product-listnormal category-sub-box\"><!--\n",
       " \t\t\t\t\t\t\t\t\t\t\t\t\t$cate_no = 280\n",
       " \t\t\t\t\t\t\t\t\t\t\t\t-->\n",
       " <ul class=\"archive-list\">\n",
       " <li class=\"xans-record-\"><a href=\"/product/collection.html?product_no=2984&amp;cate_no=280&amp;display_group=1\"><span style=\"font-size:11px;color:#000000;\">2023_FALL_[PONT-NEUF : THE BRIDGE]</span></a></li>\n",
       " <li class=\"xans-record-\"><a href=\"/product/collection.html?product_no=2887&amp;cate_no=280&amp;display_group=1\"><span style=\"font-size:11px;color:#000000;\">2023_HS_[SUN AT NOON]</span></a></li>\n",
       " <li class=\"xans-record-\"><a href=\"/product/collection.html?product_no=2852&amp;cate_no=280&amp;display_group=1\"><span style=\"font-size:11px;color:#000000;\">2023_SS_[SHINY STAIN]</span></a></li>\n",
       " <li class=\"xans-record-\"><a href=\"/product/collection.html?product_no=2724&amp;cate_no=280&amp;display_group=1\"><span style=\"font-size:11px;color:#000000;\">2022_Drive to_1.80</span></a></li>\n",
       " <li class=\"xans-record-\"><a href=\"/product/collection.html?product_no=2484&amp;cate_no=280&amp;display_group=1\"><span style=\"font-size:11px;color:#000000;\">2022_SUMMER RHAPSODY</span></a></li>\n",
       " <li class=\"xans-record-\"><a href=\"/product/collection.html?product_no=2483&amp;cate_no=280&amp;display_group=1\"><span style=\"font-size:11px;color:#000000;\">2022_WONDERWALL</span></a></li>\n",
       " <li class=\"xans-record-\"><a href=\"/product/collection.html?product_no=2482&amp;cate_no=280&amp;display_group=1\"><span style=\"font-size:11px;color:#000000;\">2021_Urban Orchestra_SNOW DESERT</span></a></li>\n",
       " <li class=\"xans-record-\"><a href=\"/product/collection.html?product_no=2481&amp;cate_no=280&amp;display_group=1\"><span style=\"font-size:11px;color:#000000;\">2021_Urban Orchestra</span></a></li>\n",
       " <li class=\"xans-record-\"><a href=\"/product/collection.html?product_no=2480&amp;cate_no=280&amp;display_group=1\"><span style=\"font-size:11px;color:#000000;\">2021_Mondrian's field</span></a></li>\n",
       " <li class=\"xans-record-\"><a href=\"/product/collection.html?product_no=2479&amp;cate_no=280&amp;display_group=1\"><span style=\"font-size:11px;color:#000000;\">2021_The Neon Contemp</span></a></li>\n",
       " <li class=\"xans-record-\"><a href=\"/product/collection.html?product_no=2478&amp;cate_no=280&amp;display_group=1\"><span style=\"font-size:11px;color:#000000;\">2020_Outer plant_part.2</span></a></li>\n",
       " <li class=\"xans-record-\"><a href=\"/product/collection.html?product_no=2477&amp;cate_no=280&amp;display_group=1\"><span style=\"font-size:11px;color:#000000;\">2020_Outer plant_part.1</span></a></li>\n",
       " <li class=\"xans-record-\"><a href=\"/product/collection.html?product_no=2476&amp;cate_no=280&amp;display_group=1\"><span style=\"font-size:11px;color:#000000;\">2020_Concrete plant</span></a></li>\n",
       " <li class=\"xans-record-\"><a href=\"/product/collection.html?product_no=2475&amp;cate_no=280&amp;display_group=1\"><span style=\"font-size:11px;color:#000000;\">2020_Glitch</span></a></li>\n",
       " </ul>\n",
       " </div>\n",
       " </div>\n",
       " </li>,\n",
       " <li class=\"xans-record-\"><a href=\"/product/collection.html?product_no=2984&amp;cate_no=280&amp;display_group=1\"><span style=\"font-size:11px;color:#000000;\">2023_FALL_[PONT-NEUF : THE BRIDGE]</span></a></li>,\n",
       " <li class=\"xans-record-\"><a href=\"/product/collection.html?product_no=2887&amp;cate_no=280&amp;display_group=1\"><span style=\"font-size:11px;color:#000000;\">2023_HS_[SUN AT NOON]</span></a></li>,\n",
       " <li class=\"xans-record-\"><a href=\"/product/collection.html?product_no=2852&amp;cate_no=280&amp;display_group=1\"><span style=\"font-size:11px;color:#000000;\">2023_SS_[SHINY STAIN]</span></a></li>,\n",
       " <li class=\"xans-record-\"><a href=\"/product/collection.html?product_no=2724&amp;cate_no=280&amp;display_group=1\"><span style=\"font-size:11px;color:#000000;\">2022_Drive to_1.80</span></a></li>,\n",
       " <li class=\"xans-record-\"><a href=\"/product/collection.html?product_no=2484&amp;cate_no=280&amp;display_group=1\"><span style=\"font-size:11px;color:#000000;\">2022_SUMMER RHAPSODY</span></a></li>,\n",
       " <li class=\"xans-record-\"><a href=\"/product/collection.html?product_no=2483&amp;cate_no=280&amp;display_group=1\"><span style=\"font-size:11px;color:#000000;\">2022_WONDERWALL</span></a></li>,\n",
       " <li class=\"xans-record-\"><a href=\"/product/collection.html?product_no=2482&amp;cate_no=280&amp;display_group=1\"><span style=\"font-size:11px;color:#000000;\">2021_Urban Orchestra_SNOW DESERT</span></a></li>,\n",
       " <li class=\"xans-record-\"><a href=\"/product/collection.html?product_no=2481&amp;cate_no=280&amp;display_group=1\"><span style=\"font-size:11px;color:#000000;\">2021_Urban Orchestra</span></a></li>,\n",
       " <li class=\"xans-record-\"><a href=\"/product/collection.html?product_no=2480&amp;cate_no=280&amp;display_group=1\"><span style=\"font-size:11px;color:#000000;\">2021_Mondrian's field</span></a></li>,\n",
       " <li class=\"xans-record-\"><a href=\"/product/collection.html?product_no=2479&amp;cate_no=280&amp;display_group=1\"><span style=\"font-size:11px;color:#000000;\">2021_The Neon Contemp</span></a></li>,\n",
       " <li class=\"xans-record-\"><a href=\"/product/collection.html?product_no=2478&amp;cate_no=280&amp;display_group=1\"><span style=\"font-size:11px;color:#000000;\">2020_Outer plant_part.2</span></a></li>,\n",
       " <li class=\"xans-record-\"><a href=\"/product/collection.html?product_no=2477&amp;cate_no=280&amp;display_group=1\"><span style=\"font-size:11px;color:#000000;\">2020_Outer plant_part.1</span></a></li>,\n",
       " <li class=\"xans-record-\"><a href=\"/product/collection.html?product_no=2476&amp;cate_no=280&amp;display_group=1\"><span style=\"font-size:11px;color:#000000;\">2020_Concrete plant</span></a></li>,\n",
       " <li class=\"xans-record-\"><a href=\"/product/collection.html?product_no=2475&amp;cate_no=280&amp;display_group=1\"><span style=\"font-size:11px;color:#000000;\">2020_Glitch</span></a></li>,\n",
       " <li class=\"cate-editorials\">\n",
       " <a href=\"/product/editorials.html?cate_no=276\">Editorials</a>\n",
       " </li>,\n",
       " <li class=\"cate-information\">\n",
       " <a href=\"/information.html\">information</a>\n",
       " </li>,\n",
       " <li>\n",
       " <a class=\"category-sub-shop-trigger\" href=\"#\">Shop</a>\n",
       " <div class=\"category-sub-mobile category-sub-shop\">\n",
       " <a class=\"category-sub-back\"><i class=\"fa fa-angle-left\"></i> Back to Menu</a>\n",
       " <div class=\"category-sub-box\">\n",
       " <ul><!--<<li><a href=\"/product/list.html?cate_no=195\">23SS</a></li>\n",
       "                                                 <li><a href=\"/product/list.html?cate_no=192\">22FW</a></li><br>--></ul><ul><a href=\"/product/list.html?cate_no=292\">New Arrivals</a>\n",
       " </ul><ul><li><a href=\"/product/list.html?cate_no=198\">View All</a></li>\n",
       " <li><a href=\"/product/list.html?cate_no=188\">Outwears</a></li>\n",
       " <li><a href=\"/product/list.html?cate_no=191\">Knitwears</a></li>\n",
       " <li><a href=\"/product/list.html?cate_no=190\">Tops</a></li>\n",
       " <li><a href=\"/product/list.html?cate_no=193\">Bottoms</a></li>\n",
       " </ul><ul><!--<li><a href=\"/product/list.html?cate_no=271\">OUTLET</a></li>--></ul></div>\n",
       " </div>\n",
       " </li>,\n",
       " <li><a href=\"/product/list.html?cate_no=198\">View All</a></li>,\n",
       " <li><a href=\"/product/list.html?cate_no=188\">Outwears</a></li>,\n",
       " <li><a href=\"/product/list.html?cate_no=191\">Knitwears</a></li>,\n",
       " <li><a href=\"/product/list.html?cate_no=190\">Tops</a></li>,\n",
       " <li><a href=\"/product/list.html?cate_no=193\">Bottoms</a></li>,\n",
       " <li>\n",
       " <a class=\"category-sub-collection-trigger\" href=\"#\">Collection</a>\n",
       " <div class=\"category-sub-mobile category-sub-collection\">\n",
       " <a class=\"category-sub-back\"><i class=\"fa fa-angle-left\"></i> Back to Menu</a>\n",
       " <div class=\"category-sub-box\">\n",
       " <div class=\"xans-element- xans-product xans-product-listnormal\"><!--\n",
       " \t\t\t\t\t\t\t\t\t\t\t\t\t$cate_no = 280\n",
       " \t\t\t\t\t\t\t\t\t\t\t\t-->\n",
       " <ul class=\"archive-list\">\n",
       " <li class=\"xans-record-\"><a href=\"/product/collection.html?product_no=2984&amp;cate_no=280&amp;display_group=1\"><span style=\"font-size:11px;color:#000000;\">2023_FALL_[PONT-NEUF : THE BRIDGE]</span></a></li>\n",
       " <li class=\"xans-record-\"><a href=\"/product/collection.html?product_no=2887&amp;cate_no=280&amp;display_group=1\"><span style=\"font-size:11px;color:#000000;\">2023_HS_[SUN AT NOON]</span></a></li>\n",
       " <li class=\"xans-record-\"><a href=\"/product/collection.html?product_no=2852&amp;cate_no=280&amp;display_group=1\"><span style=\"font-size:11px;color:#000000;\">2023_SS_[SHINY STAIN]</span></a></li>\n",
       " <li class=\"xans-record-\"><a href=\"/product/collection.html?product_no=2724&amp;cate_no=280&amp;display_group=1\"><span style=\"font-size:11px;color:#000000;\">2022_Drive to_1.80</span></a></li>\n",
       " <li class=\"xans-record-\"><a href=\"/product/collection.html?product_no=2484&amp;cate_no=280&amp;display_group=1\"><span style=\"font-size:11px;color:#000000;\">2022_SUMMER RHAPSODY</span></a></li>\n",
       " <li class=\"xans-record-\"><a href=\"/product/collection.html?product_no=2483&amp;cate_no=280&amp;display_group=1\"><span style=\"font-size:11px;color:#000000;\">2022_WONDERWALL</span></a></li>\n",
       " <li class=\"xans-record-\"><a href=\"/product/collection.html?product_no=2482&amp;cate_no=280&amp;display_group=1\"><span style=\"font-size:11px;color:#000000;\">2021_Urban Orchestra_SNOW DESERT</span></a></li>\n",
       " <li class=\"xans-record-\"><a href=\"/product/collection.html?product_no=2481&amp;cate_no=280&amp;display_group=1\"><span style=\"font-size:11px;color:#000000;\">2021_Urban Orchestra</span></a></li>\n",
       " <li class=\"xans-record-\"><a href=\"/product/collection.html?product_no=2480&amp;cate_no=280&amp;display_group=1\"><span style=\"font-size:11px;color:#000000;\">2021_Mondrian's field</span></a></li>\n",
       " <li class=\"xans-record-\"><a href=\"/product/collection.html?product_no=2479&amp;cate_no=280&amp;display_group=1\"><span style=\"font-size:11px;color:#000000;\">2021_The Neon Contemp</span></a></li>\n",
       " <li class=\"xans-record-\"><a href=\"/product/collection.html?product_no=2478&amp;cate_no=280&amp;display_group=1\"><span style=\"font-size:11px;color:#000000;\">2020_Outer plant_part.2</span></a></li>\n",
       " <li class=\"xans-record-\"><a href=\"/product/collection.html?product_no=2477&amp;cate_no=280&amp;display_group=1\"><span style=\"font-size:11px;color:#000000;\">2020_Outer plant_part.1</span></a></li>\n",
       " <li class=\"xans-record-\"><a href=\"/product/collection.html?product_no=2476&amp;cate_no=280&amp;display_group=1\"><span style=\"font-size:11px;color:#000000;\">2020_Concrete plant</span></a></li>\n",
       " <li class=\"xans-record-\"><a href=\"/product/collection.html?product_no=2475&amp;cate_no=280&amp;display_group=1\"><span style=\"font-size:11px;color:#000000;\">2020_Glitch</span></a></li>\n",
       " </ul>\n",
       " </div>\n",
       " </div>\n",
       " </div>\n",
       " </li>,\n",
       " <li class=\"xans-record-\"><a href=\"/product/collection.html?product_no=2984&amp;cate_no=280&amp;display_group=1\"><span style=\"font-size:11px;color:#000000;\">2023_FALL_[PONT-NEUF : THE BRIDGE]</span></a></li>,\n",
       " <li class=\"xans-record-\"><a href=\"/product/collection.html?product_no=2887&amp;cate_no=280&amp;display_group=1\"><span style=\"font-size:11px;color:#000000;\">2023_HS_[SUN AT NOON]</span></a></li>,\n",
       " <li class=\"xans-record-\"><a href=\"/product/collection.html?product_no=2852&amp;cate_no=280&amp;display_group=1\"><span style=\"font-size:11px;color:#000000;\">2023_SS_[SHINY STAIN]</span></a></li>,\n",
       " <li class=\"xans-record-\"><a href=\"/product/collection.html?product_no=2724&amp;cate_no=280&amp;display_group=1\"><span style=\"font-size:11px;color:#000000;\">2022_Drive to_1.80</span></a></li>,\n",
       " <li class=\"xans-record-\"><a href=\"/product/collection.html?product_no=2484&amp;cate_no=280&amp;display_group=1\"><span style=\"font-size:11px;color:#000000;\">2022_SUMMER RHAPSODY</span></a></li>,\n",
       " <li class=\"xans-record-\"><a href=\"/product/collection.html?product_no=2483&amp;cate_no=280&amp;display_group=1\"><span style=\"font-size:11px;color:#000000;\">2022_WONDERWALL</span></a></li>,\n",
       " <li class=\"xans-record-\"><a href=\"/product/collection.html?product_no=2482&amp;cate_no=280&amp;display_group=1\"><span style=\"font-size:11px;color:#000000;\">2021_Urban Orchestra_SNOW DESERT</span></a></li>,\n",
       " <li class=\"xans-record-\"><a href=\"/product/collection.html?product_no=2481&amp;cate_no=280&amp;display_group=1\"><span style=\"font-size:11px;color:#000000;\">2021_Urban Orchestra</span></a></li>,\n",
       " <li class=\"xans-record-\"><a href=\"/product/collection.html?product_no=2480&amp;cate_no=280&amp;display_group=1\"><span style=\"font-size:11px;color:#000000;\">2021_Mondrian's field</span></a></li>,\n",
       " <li class=\"xans-record-\"><a href=\"/product/collection.html?product_no=2479&amp;cate_no=280&amp;display_group=1\"><span style=\"font-size:11px;color:#000000;\">2021_The Neon Contemp</span></a></li>,\n",
       " <li class=\"xans-record-\"><a href=\"/product/collection.html?product_no=2478&amp;cate_no=280&amp;display_group=1\"><span style=\"font-size:11px;color:#000000;\">2020_Outer plant_part.2</span></a></li>,\n",
       " <li class=\"xans-record-\"><a href=\"/product/collection.html?product_no=2477&amp;cate_no=280&amp;display_group=1\"><span style=\"font-size:11px;color:#000000;\">2020_Outer plant_part.1</span></a></li>,\n",
       " <li class=\"xans-record-\"><a href=\"/product/collection.html?product_no=2476&amp;cate_no=280&amp;display_group=1\"><span style=\"font-size:11px;color:#000000;\">2020_Concrete plant</span></a></li>,\n",
       " <li class=\"xans-record-\"><a href=\"/product/collection.html?product_no=2475&amp;cate_no=280&amp;display_group=1\"><span style=\"font-size:11px;color:#000000;\">2020_Glitch</span></a></li>,\n",
       " <li class=\"cate-editorials\">\n",
       " <a href=\"/product/editorials.html?cate_no=276\">Editorials</a>\n",
       " </li>,\n",
       " <li class=\"cate-information\">\n",
       " <a href=\"/information.html\">information</a>\n",
       " </li>,\n",
       " <li class=\"xans-element- xans-layout xans-layout-statelogoff\"><a href=\"/member/login.html\">Account</a>\n",
       " </li>,\n",
       " <li><a href=\"http://en.lmood.co.kr\">USD</a> | <a href=\"http://lmood.co.kr\">KRW</a></li>,\n",
       " <li class=\"xans-element- xans-layout xans-layout-searchheader mobile-search\"><input class=\"inputTypeText\" fw-filter=\"\" fw-label=\"검색어\" fw-msg=\"\" id=\"keyword\" name=\"keyword\" onmousedown=\"SEARCH_BANNER.clickSearchForm(this)\" placeholder=\"Search\" type=\"text\" value=\"\"/>\n",
       " \n",
       "                                  \n",
       " </li>,\n",
       " <li class=\"xans-element- xans-product xans-product-option xans-record-\"><label>사이즈</label>\n",
       " <div class=\"option-value\"><ul class=\"ec-product-button\" ec-dev-class=\"ProductOption0\" ec-dev-id=\"product_option_id1\" ec-dev-name=\"option1\" item_listing_type=\"S\" option_product_no=\"2317\" option_select_element=\"ec-option-select-finder\" option_sort_no=\"1\" option_style=\"button\" option_title=\"사이즈\" option_type=\"T\" product_option_area=\"product_option_2317_0\" product_type=\"product_option\" required=\"true\"><li class=\"\" link_image=\"\" option_value=\"48\" title=\"48\"><a href=\"#none\"><span>48</span></a></li></ul></div>\n",
       " </li>,\n",
       " <li class=\"\" link_image=\"\" option_value=\"48\" title=\"48\"><a href=\"#none\"><span>48</span></a></li>,\n",
       " <li class=\"xans-element- xans-product xans-product-option xans-record-\"><label>색상</label>\n",
       " <div class=\"option-value\"><ul class=\"ec-product-button ec-product-preview\" ec-dev-class=\"ProductOption0\" ec-dev-id=\"product_option_id2\" ec-dev-name=\"option2\" item_listing_type=\"S\" option_product_no=\"2317\" option_select_element=\"ec-option-select-finder\" option_sort_no=\"2\" option_style=\"preview\" option_title=\"색상\" option_type=\"T\" product_option_area=\"product_option_2317_0\" product_type=\"product_option\" required=\"true\"><li class=\"ec-product-disabled\" link_image=\"\" option_value=\"그레이\" title=\"그레이\"><a href=\"#none\" style=\"background-color:#474343\"><span>그레이</span></a></li></ul></div>\n",
       " </li>,\n",
       " <li class=\"ec-product-disabled\" link_image=\"\" option_value=\"그레이\" title=\"그레이\"><a href=\"#none\" style=\"background-color:#474343\"><span>그레이</span></a></li>,\n",
       " <li style=\"height:0; overflow:hidden; opacity:0;\">\n",
       " <label>Quantity</label>\n",
       " <div class=\"option-value\">\n",
       " <input class=\"product-quantity\" id=\"quantity\" name=\"quantity_name\" type=\"text\" value=\"1\"/>  <span class=\"QuantityUp quantity-button\">up</span> <span class=\"QuantityDown quantity-button\">down</span>\n",
       " </div>\n",
       " </li>,\n",
       " <li class=\"xans-record-\"><a class=\"this\" href=\"?product_no=2317&amp;cate_no=198&amp;display_group=1&amp;page_6=1#use_qna\">1</a></li>,\n",
       " <li><a href=\"/legal.html\">Legals</a></li>,\n",
       " <li><a href=\"/help.html\">Help</a></li>,\n",
       " <li><a href=\"/myshop/order/list.html\">Order Tracking</a></li>,\n",
       " <li><a href=\"/board/product/list.html?board_no=6\">Q&amp;A</a></li>,\n",
       " <li class=\"social\"><a href=\"http://instagram.com/lmood_official\" target=\"_blank\">Instagram</a></li>]"
      ]
     },
     "execution_count": 84,
     "metadata": {},
     "output_type": "execute_result"
    }
   ],
   "source": [
    "# product_url = \"https://lmood.co.kr/product/detail.html?product_no=2225&cate_no=198&display_group=1\"\n",
    "response = requests.get(product_url, headers={\"User-Agent\": \"Mozilla/5.0\"})\n",
    "html = response.text\n",
    "soup = BeautifulSoup(html, \"html.parser\")\n",
    "soup.select(\n",
    "            \"li\"\n",
    "        )"
   ]
  },
  {
   "cell_type": "code",
   "execution_count": 85,
   "metadata": {},
   "outputs": [
    {
     "data": {
      "text/plain": [
       "<li class=\"xans-element- xans-product xans-product-option xans-record-\"><label>사이즈</label>\n",
       "<div class=\"option-value\"><ul class=\"ec-product-button\" ec-dev-class=\"ProductOption0\" ec-dev-id=\"product_option_id1\" ec-dev-name=\"option1\" item_listing_type=\"S\" option_product_no=\"2317\" option_select_element=\"ec-option-select-finder\" option_sort_no=\"1\" option_style=\"button\" option_title=\"사이즈\" option_type=\"T\" product_option_area=\"product_option_2317_0\" product_type=\"product_option\" required=\"true\"><li class=\"\" link_image=\"\" option_value=\"48\" title=\"48\"><a href=\"#none\"><span>48</span></a></li></ul></div>\n",
       "</li>"
      ]
     },
     "execution_count": 85,
     "metadata": {},
     "output_type": "execute_result"
    }
   ],
   "source": [
    "product_url = \"https://lmood.co.kr/product/detail.html?product_no=2317&cate_no=198&display_group=1\"\n",
    "response = requests.get(product_url, headers={\"User-Agent\": \"Mozilla/5.0\"})\n",
    "html = response.text\n",
    "soup = BeautifulSoup(html, \"html.parser\")\n",
    "list(\n",
    "    filter(\n",
    "        lambda li: li.select(\"label\")[0].text == \"사이즈\",\n",
    "        soup.select(\n",
    "            \"li.xans-element-.xans-product.xans-product-option.xans-record-\"\n",
    "        ),\n",
    "    )\n",
    ")[0]"
   ]
  },
  {
   "cell_type": "code",
   "execution_count": 16,
   "metadata": {},
   "outputs": [
    {
     "data": {
      "text/plain": [
       "[]"
      ]
     },
     "execution_count": 16,
     "metadata": {},
     "output_type": "execute_result"
    }
   ],
   "source": [
    "new_sizes_name"
   ]
  },
  {
   "cell_type": "code",
   "execution_count": 115,
   "metadata": {},
   "outputs": [],
   "source": [
    "rds.close(conn, cursor)"
   ]
  },
  {
   "cell_type": "code",
   "execution_count": 10,
   "metadata": {},
   "outputs": [
    {
     "data": {
      "text/html": [
       "<div>\n",
       "<style scoped>\n",
       "    .dataframe tbody tr th:only-of-type {\n",
       "        vertical-align: middle;\n",
       "    }\n",
       "\n",
       "    .dataframe tbody tr th {\n",
       "        vertical-align: top;\n",
       "    }\n",
       "\n",
       "    .dataframe thead th {\n",
       "        text-align: right;\n",
       "    }\n",
       "</style>\n",
       "<table border=\"1\" class=\"dataframe\">\n",
       "  <thead>\n",
       "    <tr style=\"text-align: right;\">\n",
       "      <th></th>\n",
       "    </tr>\n",
       "  </thead>\n",
       "  <tbody>\n",
       "  </tbody>\n",
       "</table>\n",
       "</div>"
      ],
      "text/plain": [
       "Empty DataFrame\n",
       "Columns: []\n",
       "Index: []"
      ]
     },
     "execution_count": 10,
     "metadata": {},
     "output_type": "execute_result"
    }
   ],
   "source": [
    "old_sizes_df"
   ]
  },
  {
   "cell_type": "code",
   "execution_count": 106,
   "metadata": {},
   "outputs": [
    {
     "data": {
      "text/plain": [
       "['총장', '어깨너비', '가슴단면', '소매길이']"
      ]
     },
     "execution_count": 106,
     "metadata": {},
     "output_type": "execute_result"
    }
   ],
   "source": [
    "constants.LMOOD_OUTER_SIZE_COL_NAME"
   ]
  },
  {
   "cell_type": "code",
   "execution_count": 105,
   "metadata": {},
   "outputs": [
    {
     "ename": "ValueError",
     "evalue": "Length mismatch: Expected axis has 2 elements, new values have 4 elements",
     "output_type": "error",
     "traceback": [
      "\u001b[0;31m---------------------------------------------------------------------------\u001b[0m",
      "\u001b[0;31mValueError\u001b[0m                                Traceback (most recent call last)",
      "Cell \u001b[0;32mIn[105], line 3\u001b[0m\n\u001b[1;32m      1\u001b[0m thumbnail_image_url \u001b[39m=\u001b[39m \u001b[39m\"\u001b[39m\u001b[39mhttps://lmood.co.kr/renewal/22/WINTER/01_BIG-MOM\u001b[39m\u001b[39m%20he\u001b[39;00m\u001b[39mringbone\u001b[39m\u001b[39m%20s\u001b[39;00m\u001b[39mingle\u001b[39m\u001b[39m%20c\u001b[39;00m\u001b[39moat/BRWON/1-1.jpg\u001b[39m\u001b[39m\"\u001b[39m\n\u001b[1;32m      2\u001b[0m product_url \u001b[39m=\u001b[39m \u001b[39m\"\u001b[39m\u001b[39mhttps://lmood.co.kr/product/detail.html?product_no=2225&cate_no=198&display_group=1\u001b[39m\u001b[39m\"\u001b[39m\n\u001b[0;32m----> 3\u001b[0m product_id, img_url_lst \u001b[39m=\u001b[39m search\u001b[39m.\u001b[39;49mcrawling_product(\n\u001b[1;32m      4\u001b[0m     product_url, s3_obj, conn, cursor\n\u001b[1;32m      5\u001b[0m )\n\u001b[1;32m      7\u001b[0m search\u001b[39m.\u001b[39ms3_rds_image(\n\u001b[1;32m      8\u001b[0m     product_id, thumbnail_image_url, img_url_lst, s3_obj, conn, cursor\n\u001b[1;32m      9\u001b[0m )\n",
      "File \u001b[0;32m~/VScodeProjects/fittering-Crawling/lmood/utils/search.py:119\u001b[0m, in \u001b[0;36mcrawling_product\u001b[0;34m(product_url, s3_obj, conn, cursor)\u001b[0m\n\u001b[1;32m    116\u001b[0m product_dict[\u001b[39m\"\u001b[39m\u001b[39mmall_id\u001b[39m\u001b[39m\"\u001b[39m] \u001b[39m=\u001b[39m constants\u001b[39m.\u001b[39mLMOOD_ID\n\u001b[1;32m    118\u001b[0m text \u001b[39m=\u001b[39m soup\u001b[39m.\u001b[39mfind(\u001b[39m\"\u001b[39m\u001b[39mp\u001b[39m\u001b[39m\"\u001b[39m, {\u001b[39m\"\u001b[39m\u001b[39mclass\u001b[39m\u001b[39m\"\u001b[39m: \u001b[39m\"\u001b[39m\u001b[39mko\u001b[39m\u001b[39m\"\u001b[39m})\u001b[39m.\u001b[39mfind_all(string\u001b[39m=\u001b[39m\u001b[39mTrue\u001b[39;00m)\n\u001b[0;32m--> 119\u001b[0m text \u001b[39m=\u001b[39m \u001b[39m\"\u001b[39m\u001b[39m\\n\u001b[39;00m\u001b[39m\"\u001b[39m\u001b[39m.\u001b[39mjoin(\u001b[39mlist\u001b[39m(\u001b[39mmap\u001b[39m(\u001b[39mlambda\u001b[39;00m x: x\u001b[39m.\u001b[39mstrip(), text)))\n\u001b[1;32m    120\u001b[0m product_dict[\u001b[39m\"\u001b[39m\u001b[39mdescription_path\u001b[39m\u001b[39m\"\u001b[39m] \u001b[39m=\u001b[39m s3\u001b[39m.\u001b[39mupload_text(s3_obj, text)\n\u001b[1;32m    122\u001b[0m product_id \u001b[39m=\u001b[39m rds\u001b[39m.\u001b[39minsert_product(conn, cursor, product_dict)\n",
      "File \u001b[0;32m~/VScodeProjects/fittering-Crawling/lmood/utils/search.py:72\u001b[0m, in \u001b[0;36mcrawling_size\u001b[0;34m(product_id, category_id, soup, conn, cursor)\u001b[0m\n\u001b[1;32m     70\u001b[0m \u001b[39mdef\u001b[39;00m \u001b[39mcrawling_size\u001b[39m(product_id, category_id, soup, conn, cursor):\n\u001b[1;32m     71\u001b[0m     table \u001b[39m=\u001b[39m soup\u001b[39m.\u001b[39mselect(\u001b[39m\"\u001b[39m\u001b[39mdiv.guideBoard > table\u001b[39m\u001b[39m\"\u001b[39m)[\u001b[39m0\u001b[39m]\n\u001b[0;32m---> 72\u001b[0m     size_df \u001b[39m=\u001b[39m utils\u001b[39m.\u001b[39mtable2df(table)\n\u001b[1;32m     74\u001b[0m     \u001b[39mfor\u001b[39;00m size_name \u001b[39min\u001b[39;00m size_df\u001b[39m.\u001b[39mindex:\n\u001b[1;32m     75\u001b[0m         row \u001b[39m=\u001b[39m size_df\u001b[39m.\u001b[39mloc[size_name]\n",
      "File \u001b[0;32m~/VScodeProjects/fittering-Crawling/aws/rds.py:152\u001b[0m, in \u001b[0;36minsert_cat_size\u001b[0;34m(conn, cursor, row, category_id, product_id)\u001b[0m\n\u001b[1;32m    149\u001b[0m     insert_size(conn, cursor, size_dict)\n\u001b[1;32m    151\u001b[0m \u001b[39melif\u001b[39;00m category_id \u001b[39m==\u001b[39m \u001b[39m1\u001b[39m:\n\u001b[0;32m--> 152\u001b[0m     row\u001b[39m.\u001b[39;49mindex \u001b[39m=\u001b[39m constants\u001b[39m.\u001b[39mLMOOD_OUTER_SIZE_COL_NAME\n\u001b[1;32m    153\u001b[0m     outer_size_dict \u001b[39m=\u001b[39m {\n\u001b[1;32m    154\u001b[0m         db_col: \u001b[39mfloat\u001b[39m(row[df_col])\n\u001b[1;32m    155\u001b[0m         \u001b[39mfor\u001b[39;00m df_col, db_col \u001b[39min\u001b[39;00m constants\u001b[39m.\u001b[39mLMOOD_OUTER_SIZE_COL\u001b[39m.\u001b[39mitems()\n\u001b[1;32m    156\u001b[0m     }\n\u001b[1;32m    157\u001b[0m     outer_size_id \u001b[39m=\u001b[39m insert_outer_size(conn, cursor, outer_size_dict)\n",
      "File \u001b[0;32m~/anaconda3/envs/crawling-env/lib/python3.8/site-packages/pandas/core/generic.py:6002\u001b[0m, in \u001b[0;36mNDFrame.__setattr__\u001b[0;34m(self, name, value)\u001b[0m\n\u001b[1;32m   6000\u001b[0m \u001b[39mtry\u001b[39;00m:\n\u001b[1;32m   6001\u001b[0m     \u001b[39mobject\u001b[39m\u001b[39m.\u001b[39m\u001b[39m__getattribute__\u001b[39m(\u001b[39mself\u001b[39m, name)\n\u001b[0;32m-> 6002\u001b[0m     \u001b[39mreturn\u001b[39;00m \u001b[39mobject\u001b[39;49m\u001b[39m.\u001b[39;49m\u001b[39m__setattr__\u001b[39;49m(\u001b[39mself\u001b[39;49m, name, value)\n\u001b[1;32m   6003\u001b[0m \u001b[39mexcept\u001b[39;00m \u001b[39mAttributeError\u001b[39;00m:\n\u001b[1;32m   6004\u001b[0m     \u001b[39mpass\u001b[39;00m\n",
      "File \u001b[0;32m~/anaconda3/envs/crawling-env/lib/python3.8/site-packages/pandas/_libs/properties.pyx:69\u001b[0m, in \u001b[0;36mpandas._libs.properties.AxisProperty.__set__\u001b[0;34m()\u001b[0m\n",
      "File \u001b[0;32m~/anaconda3/envs/crawling-env/lib/python3.8/site-packages/pandas/core/generic.py:730\u001b[0m, in \u001b[0;36mNDFrame._set_axis\u001b[0;34m(self, axis, labels)\u001b[0m\n\u001b[1;32m    725\u001b[0m \u001b[39m\u001b[39m\u001b[39m\"\"\"\u001b[39;00m\n\u001b[1;32m    726\u001b[0m \u001b[39mThis is called from the cython code when we set the `index` attribute\u001b[39;00m\n\u001b[1;32m    727\u001b[0m \u001b[39mdirectly, e.g. `series.index = [1, 2, 3]`.\u001b[39;00m\n\u001b[1;32m    728\u001b[0m \u001b[39m\"\"\"\u001b[39;00m\n\u001b[1;32m    729\u001b[0m labels \u001b[39m=\u001b[39m ensure_index(labels)\n\u001b[0;32m--> 730\u001b[0m \u001b[39mself\u001b[39;49m\u001b[39m.\u001b[39;49m_mgr\u001b[39m.\u001b[39;49mset_axis(axis, labels)\n\u001b[1;32m    731\u001b[0m \u001b[39mself\u001b[39m\u001b[39m.\u001b[39m_clear_item_cache()\n",
      "File \u001b[0;32m~/anaconda3/envs/crawling-env/lib/python3.8/site-packages/pandas/core/internals/managers.py:225\u001b[0m, in \u001b[0;36mBaseBlockManager.set_axis\u001b[0;34m(self, axis, new_labels)\u001b[0m\n\u001b[1;32m    223\u001b[0m \u001b[39mdef\u001b[39;00m \u001b[39mset_axis\u001b[39m(\u001b[39mself\u001b[39m, axis: AxisInt, new_labels: Index) \u001b[39m-\u001b[39m\u001b[39m>\u001b[39m \u001b[39mNone\u001b[39;00m:\n\u001b[1;32m    224\u001b[0m     \u001b[39m# Caller is responsible for ensuring we have an Index object.\u001b[39;00m\n\u001b[0;32m--> 225\u001b[0m     \u001b[39mself\u001b[39;49m\u001b[39m.\u001b[39;49m_validate_set_axis(axis, new_labels)\n\u001b[1;32m    226\u001b[0m     \u001b[39mself\u001b[39m\u001b[39m.\u001b[39maxes[axis] \u001b[39m=\u001b[39m new_labels\n",
      "File \u001b[0;32m~/anaconda3/envs/crawling-env/lib/python3.8/site-packages/pandas/core/internals/base.py:70\u001b[0m, in \u001b[0;36mDataManager._validate_set_axis\u001b[0;34m(self, axis, new_labels)\u001b[0m\n\u001b[1;32m     67\u001b[0m     \u001b[39mpass\u001b[39;00m\n\u001b[1;32m     69\u001b[0m \u001b[39melif\u001b[39;00m new_len \u001b[39m!=\u001b[39m old_len:\n\u001b[0;32m---> 70\u001b[0m     \u001b[39mraise\u001b[39;00m \u001b[39mValueError\u001b[39;00m(\n\u001b[1;32m     71\u001b[0m         \u001b[39mf\u001b[39m\u001b[39m\"\u001b[39m\u001b[39mLength mismatch: Expected axis has \u001b[39m\u001b[39m{\u001b[39;00mold_len\u001b[39m}\u001b[39;00m\u001b[39m elements, new \u001b[39m\u001b[39m\"\u001b[39m\n\u001b[1;32m     72\u001b[0m         \u001b[39mf\u001b[39m\u001b[39m\"\u001b[39m\u001b[39mvalues have \u001b[39m\u001b[39m{\u001b[39;00mnew_len\u001b[39m}\u001b[39;00m\u001b[39m elements\u001b[39m\u001b[39m\"\u001b[39m\n\u001b[1;32m     73\u001b[0m     )\n",
      "\u001b[0;31mValueError\u001b[0m: Length mismatch: Expected axis has 2 elements, new values have 4 elements"
     ]
    }
   ],
   "source": [
    "thumbnail_image_url = \"https://lmood.co.kr/renewal/22/WINTER/01_BIG-MOM%20heringbone%20single%20coat/BRWON/1-1.jpg\"\n",
    "product_url = \"https://lmood.co.kr/product/detail.html?product_no=2225&cate_no=198&display_group=1\"\n",
    "product_id, img_url_lst = search.crawling_product(\n",
    "    product_url, s3_obj, conn, cursor\n",
    ")\n",
    "\n",
    "search.s3_rds_image(\n",
    "    product_id, thumbnail_image_url, img_url_lst, s3_obj, conn, cursor\n",
    ")"
   ]
  },
  {
   "cell_type": "code",
   "execution_count": null,
   "metadata": {},
   "outputs": [],
   "source": []
  }
 ],
 "metadata": {
  "kernelspec": {
   "display_name": "crawling-env",
   "language": "python",
   "name": "python3"
  },
  "language_info": {
   "codemirror_mode": {
    "name": "ipython",
    "version": 3
   },
   "file_extension": ".py",
   "mimetype": "text/x-python",
   "name": "python",
   "nbconvert_exporter": "python",
   "pygments_lexer": "ipython3",
   "version": "3.8.17"
  },
  "orig_nbformat": 4
 },
 "nbformat": 4,
 "nbformat_minor": 2
}
