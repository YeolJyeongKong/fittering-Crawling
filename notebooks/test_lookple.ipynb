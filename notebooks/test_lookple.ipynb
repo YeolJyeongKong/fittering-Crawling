{
 "cells": [
  {
   "cell_type": "code",
   "execution_count": 1,
   "metadata": {},
   "outputs": [],
   "source": [
    "import os\n",
    "import re\n",
    "from bs4 import BeautifulSoup\n",
    "import requests\n",
    "import pandas as pd\n",
    "import numpy as np\n",
    "import boto3\n",
    "import pyrootutils\n",
    "\n",
    "pyrootutils.setup_root(os.curdir, indicator=\".project-root\", pythonpath=True)\n",
    "from extras import constants, paths\n",
    "from aws import rds, s3\n",
    "from dailyjou.utils import search, utils"
   ]
  },
  {
   "cell_type": "markdown",
   "metadata": {},
   "source": [
    "## 티셔츠 크롤링"
   ]
  },
  {
   "cell_type": "code",
   "execution_count": 2,
   "metadata": {},
   "outputs": [],
   "source": [
    "page_url = \"https://lookple.com/category/%EB%B0%98%ED%8C%94%ED%8B%B0%EB%AF%BC%EC%86%8C%EB%A7%A4%ED%8B%B0/59/?page=3\""
   ]
  },
  {
   "cell_type": "code",
   "execution_count": 3,
   "metadata": {},
   "outputs": [],
   "source": [
    "response = requests.get(page_url, headers={\"User-Agent\": \"Mozilla/5.0\"})\n",
    "html = response.text\n",
    "soup = BeautifulSoup(html, \"html.parser\")"
   ]
  },
  {
   "cell_type": "code",
   "execution_count": 4,
   "metadata": {},
   "outputs": [
    {
     "data": {
      "text/plain": [
       "30"
      ]
     },
     "execution_count": 4,
     "metadata": {},
     "output_type": "execute_result"
    }
   ],
   "source": [
    "products_li = soup.select('ul.prdList.grid3 > [id^=\"anchorBoxId_\"]')\n",
    "len(products_li)"
   ]
  },
  {
   "cell_type": "code",
   "execution_count": 5,
   "metadata": {},
   "outputs": [],
   "source": [
    "product_li = products_li[0]"
   ]
  },
  {
   "cell_type": "code",
   "execution_count": 6,
   "metadata": {},
   "outputs": [
    {
     "data": {
      "text/plain": [
       "'https://lookple.com/product/룩-어반-뉴욕-자수-오버-반팔티/6061/category/59/display/1/'"
      ]
     },
     "execution_count": 6,
     "metadata": {},
     "output_type": "execute_result"
    }
   ],
   "source": [
    "product_url = \"https://lookple.com\" + product_li.select_one(\"div.prdBox > div.thumbnail > a\")[\"href\"]\n",
    "product_url"
   ]
  },
  {
   "cell_type": "code",
   "execution_count": 7,
   "metadata": {},
   "outputs": [
    {
     "data": {
      "text/plain": [
       "'https://lookple.com/web/product/big/202304/535edbd88622315f2e57f916ccec1bf7.gif'"
      ]
     },
     "execution_count": 7,
     "metadata": {},
     "output_type": "execute_result"
    }
   ],
   "source": [
    "thumbnail_img_url = \"https:\" + product_li.select_one(\"div.prdBox > div.thumbnail > a > img\")[\"src\"]\n",
    "thumbnail_img_url"
   ]
  },
  {
   "cell_type": "markdown",
   "metadata": {},
   "source": [
    "### 상품 상세 정보"
   ]
  },
  {
   "cell_type": "code",
   "execution_count": 30,
   "metadata": {},
   "outputs": [],
   "source": [
    "product_url = \"https://lookple.com/product/%EB%A3%A9-%EC%96%B4%EB%B0%98-%EB%89%B4%EC%9A%95-%EC%9E%90%EC%88%98-%EC%98%A4%EB%B2%84-%EB%B0%98%ED%8C%94%ED%8B%B0/6061/category/59/display/1/\""
   ]
  },
  {
   "cell_type": "code",
   "execution_count": 31,
   "metadata": {},
   "outputs": [],
   "source": [
    "response = requests.get(product_url, headers={\"User-Agent\": \"Mozilla/5.0\"})\n",
    "html = response.text\n",
    "soup = BeautifulSoup(html, \"html.parser\")\n",
    "product_dict = {}"
   ]
  },
  {
   "cell_type": "code",
   "execution_count": 32,
   "metadata": {},
   "outputs": [],
   "source": [
    "def table2df(table):\n",
    "    data = []\n",
    "    for row in table.find_all(\"tr\"):\n",
    "        row_data = [cell.get_text() for cell in row.find_all([\"th\", \"td\"])]\n",
    "        data.append(row_data)\n",
    "\n",
    "    df = pd.DataFrame(data)\n",
    "    df = df.set_index(0)\n",
    "\n",
    "    return df"
   ]
  },
  {
   "cell_type": "code",
   "execution_count": 33,
   "metadata": {},
   "outputs": [],
   "source": [
    "info_df = table2df(soup.select_one(\"table\"))"
   ]
  },
  {
   "cell_type": "markdown",
   "metadata": {},
   "source": [
    "#### product disabled"
   ]
  },
  {
   "cell_type": "code",
   "execution_count": 34,
   "metadata": {},
   "outputs": [],
   "source": [
    "product_dict['disabled'] = \"FALSE\""
   ]
  },
  {
   "cell_type": "markdown",
   "metadata": {},
   "source": [
    "#### product price"
   ]
  },
  {
   "cell_type": "code",
   "execution_count": 35,
   "metadata": {},
   "outputs": [],
   "source": [
    "if \"할인판매가\" in info_df.index:\n",
    "    product_dict['price'] = int(re.sub(r'\\([^)]*\\)|,|원', '', info_df.loc[\"할인판매가\", 1]).strip())\n",
    "else:\n",
    "    product_dict['price'] = int(re.sub(r'\\([^)]*\\)|,|원', '', info_df.loc[\"판매가\", 1]).strip())"
   ]
  },
  {
   "cell_type": "markdown",
   "metadata": {},
   "source": [
    "#### product text"
   ]
  },
  {
   "cell_type": "code",
   "execution_count": 36,
   "metadata": {},
   "outputs": [],
   "source": [
    "text = info_df.loc[\"상품설명\", 1]"
   ]
  },
  {
   "cell_type": "markdown",
   "metadata": {},
   "source": [
    "#### product size"
   ]
  },
  {
   "cell_type": "code",
   "execution_count": 37,
   "metadata": {},
   "outputs": [],
   "source": [
    "def df2size_dict_lst(size_df, category_id):\n",
    "    size_dict_lst = []\n",
    "    for idx in size_df.index:\n",
    "        row = size_df.loc[idx]\n",
    "        size_dict = {\n",
    "            \"name\": row[\"사이즈\"],\n",
    "            \"product_id\": \"NULL\",\n",
    "            \"top_id\": \"NULL\",\n",
    "            \"outer_id\": \"NULL\",\n",
    "            \"bottom_id\": \"NULL\",\n",
    "            \"dress_id\": \"NULL\",\n",
    "        }\n",
    "\n",
    "        cat_size_dict = {}\n",
    "\n",
    "        if category_id == 2:\n",
    "            for col, key in constants.LOOKPLE_TOP_SIZE_COL2KEY.items():\n",
    "                if col not in row.index:\n",
    "                    cat_size_dict[key] = \"NULL\"\n",
    "                else:\n",
    "                    cat_size_dict[key] = float(row[col])\n",
    "            size_dict_lst += [[size_dict, cat_size_dict]]\n",
    "        elif category_id == 4:\n",
    "            for col, key in constants.LOOKPLE_BOTTOM_SIZE_COL2KEY.items():\n",
    "                if col not in row.index:\n",
    "                    cat_size_dict[key] = \"NULL\"\n",
    "                else:\n",
    "                    cat_size_dict[key] = float(row[col])\n",
    "            size_dict_lst += [[size_dict, cat_size_dict]]\n",
    "        elif category_id == 3:\n",
    "            for col, key in constants.LOOKPLE_DRESS_SIZE_COL2KEY.items():\n",
    "                if col not in row.index:\n",
    "                    cat_size_dict[key] = \"NULL\"\n",
    "                else:\n",
    "                    cat_size_dict[key] = float(row[col])\n",
    "            size_dict_lst += [[size_dict, cat_size_dict]]\n",
    "        elif category_id == 1:\n",
    "            for col, key in constants.LOOKPLE_OUTER_SIZE_COL2KEY.items():\n",
    "                if col not in row.index:\n",
    "                    cat_size_dict[key] = \"NULL\"\n",
    "                else:\n",
    "                    cat_size_dict[key] = float(row[col])\n",
    "            size_dict_lst += [[size_dict, cat_size_dict]]\n",
    "    return size_dict_lst"
   ]
  },
  {
   "cell_type": "code",
   "execution_count": 38,
   "metadata": {},
   "outputs": [],
   "source": [
    "def size_(x):\n",
    "    x = x.strip()\n",
    "    x = x.split(\" : \")\n",
    "    matches = re.findall(r'(\\w+) (\\d+)', x[1])\n",
    "\n",
    "    # 추출한 데이터를 딕셔너리로 변환합니다.\n",
    "    size_dict = {key: int(value) for key, value in matches}\n",
    "    size_dict['사이즈'] = x[0]\n",
    "    return size_dict"
   ]
  },
  {
   "cell_type": "code",
   "execution_count": 39,
   "metadata": {},
   "outputs": [
    {
     "data": {
      "text/html": [
       "<div>\n",
       "<style scoped>\n",
       "    .dataframe tbody tr th:only-of-type {\n",
       "        vertical-align: middle;\n",
       "    }\n",
       "\n",
       "    .dataframe tbody tr th {\n",
       "        vertical-align: top;\n",
       "    }\n",
       "\n",
       "    .dataframe thead th {\n",
       "        text-align: right;\n",
       "    }\n",
       "</style>\n",
       "<table border=\"1\" class=\"dataframe\">\n",
       "  <thead>\n",
       "    <tr style=\"text-align: right;\">\n",
       "      <th></th>\n",
       "      <th>어깨</th>\n",
       "      <th>가슴</th>\n",
       "      <th>소매</th>\n",
       "      <th>암홀</th>\n",
       "      <th>총장</th>\n",
       "      <th>사이즈</th>\n",
       "    </tr>\n",
       "  </thead>\n",
       "  <tbody>\n",
       "    <tr>\n",
       "      <th>0</th>\n",
       "      <td>56</td>\n",
       "      <td>60</td>\n",
       "      <td>27</td>\n",
       "      <td>27</td>\n",
       "      <td>74</td>\n",
       "      <td>FREE</td>\n",
       "    </tr>\n",
       "  </tbody>\n",
       "</table>\n",
       "</div>"
      ],
      "text/plain": [
       "   어깨  가슴  소매  암홀  총장   사이즈\n",
       "0  56  60  27  27  74  FREE"
      ]
     },
     "execution_count": 39,
     "metadata": {},
     "output_type": "execute_result"
    }
   ],
   "source": [
    "size_text = re.search(r'SIZE\\s*(.*?)(?=\\n\\r\\n)', text, re.DOTALL).group(1).strip()\n",
    "size = size_text.split(\"\\n\")\n",
    "size = [size_(s) for s in size]\n",
    "size_df = pd.DataFrame(size)\n",
    "size_df"
   ]
  },
  {
   "cell_type": "code",
   "execution_count": 59,
   "metadata": {},
   "outputs": [],
   "source": [
    "size_dict_lst = df2size_dict_lst(size_df, 2)"
   ]
  },
  {
   "cell_type": "markdown",
   "metadata": {},
   "source": [
    "#### product name"
   ]
  },
  {
   "cell_type": "code",
   "execution_count": 43,
   "metadata": {},
   "outputs": [],
   "source": [
    "product_dict['name'] = info_df.loc[\"상품명\", 1].strip()"
   ]
  },
  {
   "cell_type": "markdown",
   "metadata": {},
   "source": [
    "#### product gender"
   ]
  },
  {
   "cell_type": "code",
   "execution_count": 44,
   "metadata": {},
   "outputs": [],
   "source": [
    "product_dict['gender'] = \"M\""
   ]
  },
  {
   "cell_type": "markdown",
   "metadata": {},
   "source": [
    "#### product subcategory_id"
   ]
  },
  {
   "cell_type": "code",
   "execution_count": 45,
   "metadata": {},
   "outputs": [],
   "source": [
    "product_dict[\"sub_category_id\"] = 9"
   ]
  },
  {
   "cell_type": "markdown",
   "metadata": {},
   "source": [
    "#### product category_id"
   ]
  },
  {
   "cell_type": "code",
   "execution_count": 46,
   "metadata": {},
   "outputs": [],
   "source": [
    "product_dict['category_id'] = constants.SUB2CAT[product_dict['sub_category_id']]"
   ]
  },
  {
   "cell_type": "markdown",
   "metadata": {},
   "source": [
    "#### product url"
   ]
  },
  {
   "cell_type": "code",
   "execution_count": 47,
   "metadata": {},
   "outputs": [],
   "source": [
    "product_dict['url'] = product_url"
   ]
  },
  {
   "cell_type": "markdown",
   "metadata": {},
   "source": [
    "#### product mall_id"
   ]
  },
  {
   "cell_type": "code",
   "execution_count": 48,
   "metadata": {},
   "outputs": [],
   "source": [
    "product_dict['mall_id'] = constants.LOOKPLE_ID"
   ]
  },
  {
   "cell_type": "markdown",
   "metadata": {},
   "source": [
    "#### img_url_lst"
   ]
  },
  {
   "cell_type": "code",
   "execution_count": 58,
   "metadata": {},
   "outputs": [],
   "source": [
    "img_url_lst = [constants.LOOKPLE_ROOT_URL + img_tag['ec-data-src'] for img_tag in soup.select_one(\"div#prdDetail\").select(\"img\")]"
   ]
  },
  {
   "cell_type": "markdown",
   "metadata": {},
   "source": [
    "### 최종 결과 product_dict, size_dict_lst, img_url_lst, text"
   ]
  },
  {
   "cell_type": "code",
   "execution_count": 60,
   "metadata": {},
   "outputs": [
    {
     "data": {
      "text/plain": [
       "{'disabled': 'FALSE',\n",
       " 'price': 29900,\n",
       " 'name': '룩 어반 뉴욕 자수 오버 반팔티',\n",
       " 'gender': 'M',\n",
       " 'sub_category_id': 9,\n",
       " 'category_id': 2,\n",
       " 'url': 'https://lookple.com/product/%EB%A3%A9-%EC%96%B4%EB%B0%98-%EB%89%B4%EC%9A%95-%EC%9E%90%EC%88%98-%EC%98%A4%EB%B2%84-%EB%B0%98%ED%8C%94%ED%8B%B0/6061/category/59/display/1/',\n",
       " 'mall_id': 3}"
      ]
     },
     "execution_count": 60,
     "metadata": {},
     "output_type": "execute_result"
    }
   ],
   "source": [
    "product_dict"
   ]
  },
  {
   "cell_type": "code",
   "execution_count": 62,
   "metadata": {},
   "outputs": [
    {
     "data": {
      "text/plain": [
       "[[{'name': 'FREE',\n",
       "   'product_id': 'NULL',\n",
       "   'top_id': 'NULL',\n",
       "   'outer_id': 'NULL',\n",
       "   'bottom_id': 'NULL',\n",
       "   'dress_id': 'NULL'},\n",
       "  {'full': 74.0, 'shoulder': 56.0, 'chest': 60.0, 'sleeve': 27.0}]]"
      ]
     },
     "execution_count": 62,
     "metadata": {},
     "output_type": "execute_result"
    }
   ],
   "source": [
    "size_dict_lst"
   ]
  },
  {
   "cell_type": "code",
   "execution_count": 63,
   "metadata": {},
   "outputs": [
    {
     "data": {
      "text/plain": [
       "['https://lookple.com/web/upload/NNEditor/20230421/0.jpg',\n",
       " 'https://lookple.com/web/upload/NNEditor/20230421/0.jpg',\n",
       " 'https://lookple.com/web/upload/NNEditor/20230421/copy-1682086293-1.jpg',\n",
       " 'https://lookple.com/web/upload/NNEditor/20230421/copy-1682086293-2.jpg',\n",
       " 'https://lookple.com/web/upload/NNEditor/20230421/copy-1682086293-3.jpg',\n",
       " 'https://lookple.com/web/upload/NNEditor/20230421/copy-1682086293-4.jpg',\n",
       " 'https://lookple.com/web/upload/NNEditor/20230421/copy-1682086293-5.jpg',\n",
       " 'https://lookple.com/web/upload/NNEditor/20230421/copy-1682086293-6.jpg',\n",
       " 'https://lookple.com/web/upload/NNEditor/20230421/copy-1682086293-7.jpg',\n",
       " 'https://lookple.com/web/upload/NNEditor/20230421/copy-1682086293-8.jpg',\n",
       " 'https://lookple.com/web/upload/NNEditor/20230421/copy-1682086293-9.jpg',\n",
       " 'https://lookple.com/web/upload/NNEditor/20230421/copy-1682086293-10.jpg',\n",
       " 'https://lookple.com/web/upload/NNEditor/20230421/copy-1682086293-11.jpg',\n",
       " 'https://lookple.com/web/upload/NNEditor/20230421/copy-1682086293-12.jpg',\n",
       " 'https://lookple.com/web/upload/NNEditor/20230421/copy-1682086293-13.jpg',\n",
       " 'https://lookple.com/web/upload/NNEditor/20230421/copy-1682086293-14.jpg',\n",
       " 'https://lookple.com/web/upload/NNEditor/20230421/copy-1682086293-15.jpg',\n",
       " 'https://lookple.com/web/upload/NNEditor/20230421/copy-1682086293-16.jpg',\n",
       " 'https://lookple.com/web/upload/NNEditor/20230421/copy-1682086293-17.jpg',\n",
       " 'https://lookple.com/web/upload/NNEditor/20230421/copy-1682086293-18.jpg',\n",
       " 'https://lookple.com/web/upload/NNEditor/20230421/copy-1682086293-19.jpg',\n",
       " 'https://lookple.com/web/upload/NNEditor/20230421/copy-1682086293-20.jpg',\n",
       " 'https://lookple.com/web/upload/NNEditor/20230421/copy-1682086293-21.jpg',\n",
       " 'https://lookple.com/web/upload/NNEditor/20230421/22.jpg',\n",
       " 'https://lookple.com/web/upload/NNEditor/20230421/24.jpg',\n",
       " 'https://lookple.com/web/upload/NNEditor/20230421/25.jpg',\n",
       " 'https://lookple.com/web/upload/NNEditor/20230427/0.jpg',\n",
       " 'https://lookple.com/web/upload/NNEditor/20230427/0_1.jpg',\n",
       " 'https://lookple.com/web/upload/NNEditor/20230427/0_2.jpg',\n",
       " 'https://lookple.com/web/upload/NNEditor/20230427/0_3.jpg',\n",
       " 'https://lookple.com/web/upload/NNEditor/20230427/1.jpg',\n",
       " 'https://lookple.com/web/upload/NNEditor/20230427/2.jpg',\n",
       " 'https://lookple.com/web/upload/NNEditor/20230427/3.jpg',\n",
       " 'https://lookple.com/web/upload/NNEditor/20230427/4.jpg',\n",
       " 'https://lookple.com/web/upload/NNEditor/20230427/5.jpg',\n",
       " 'https://lookple.com/web/upload/NNEditor/20230427/6.jpg',\n",
       " 'https://lookple.com/web/upload/NNEditor/20230427/7.jpg',\n",
       " 'https://lookple.com/web/upload/NNEditor/20230427/8.jpg',\n",
       " 'https://lookple.com/web/upload/NNEditor/20230427/9.jpg',\n",
       " 'https://lookple.com/web/upload/NNEditor/20230427/10.jpg',\n",
       " 'https://lookple.com/web/upload/NNEditor/20230427/11.jpg',\n",
       " 'https://lookple.com/web/upload/NNEditor/20230427/12.jpg',\n",
       " 'https://lookple.com/web/upload/NNEditor/20230427/13.jpg',\n",
       " 'https://lookple.com/web/upload/NNEditor/20230427/14.jpg',\n",
       " 'https://lookple.com/web/upload/NNEditor/20230427/15.jpg',\n",
       " 'https://lookple.com/web/upload/NNEditor/20230427/16.jpg',\n",
       " 'https://lookple.com/web/upload/NNEditor/20230427/17.jpg',\n",
       " 'https://lookple.com/web/upload/NNEditor/20230427/18.jpg',\n",
       " 'https://lookple.com/web/upload/NNEditor/20230427/19.jpg',\n",
       " 'https://lookple.com/web/upload/NNEditor/20230427/20.jpg',\n",
       " 'https://lookple.com/web/upload/NNEditor/20230427/21.jpg',\n",
       " 'https://lookple.com/web/upload/NNEditor/20230427/22.jpg',\n",
       " 'https://lookple.com/web/upload/NNEditor/20230426/1.jpg',\n",
       " 'https://lookple.com/web/upload/NNEditor/20230426/2.jpg',\n",
       " 'https://lookple.com/web/upload/NNEditor/20230426/3.jpg',\n",
       " 'https://lookple.com/web/upload/NNEditor/20230426/4.jpg',\n",
       " 'https://lookple.com/web/upload/NNEditor/20230426/5.jpg',\n",
       " 'https://lookple.com/web/upload/NNEditor/20230426/6.jpg',\n",
       " 'https://lookple.com/web/upload/NNEditor/20230426/7.jpg',\n",
       " 'https://lookple.com/web/upload/NNEditor/20230426/8.jpg',\n",
       " 'https://lookple.com/web/upload/NNEditor/20230426/9.jpg',\n",
       " 'https://lookple.com/web/upload/NNEditor/20230426/10.jpg',\n",
       " 'https://lookple.com/web/upload/NNEditor/20230426/11.jpg',\n",
       " 'https://lookple.com/web/upload/NNEditor/20230426/12.jpg',\n",
       " 'https://lookple.com/web/upload/NNEditor/20230429/23033020EBAAA8EB8DB8ED9484EBA19CED9584.jpg',\n",
       " 'https://lookple.com/web/upload/NNEditor/20230330/1680146543087.png',\n",
       " 'https://lookple.com/web/upload/NNEditor/20220908/1662572297510.png']"
      ]
     },
     "execution_count": 63,
     "metadata": {},
     "output_type": "execute_result"
    }
   ],
   "source": [
    "img_url_lst"
   ]
  },
  {
   "cell_type": "code",
   "execution_count": 1,
   "metadata": {},
   "outputs": [],
   "source": [
    "import os\n",
    "import re\n",
    "import requests\n",
    "from bs4 import BeautifulSoup\n",
    "from tqdm import tqdm\n",
    "import pyrootutils\n",
    "\n",
    "pyrootutils.setup_root(os.curdir, indicator=\".project-root\", pythonpath=True)\n",
    "from extras import constants\n",
    "from aws import rds, s3, s3_rds\n",
    "from lookple.utils import utils, search\n"
   ]
  },
  {
   "cell_type": "code",
   "execution_count": 2,
   "metadata": {},
   "outputs": [],
   "source": [
    "def crawling_product(subcategory_id, product_url):\n",
    "    response = requests.get(product_url, headers={\"User-Agent\": \"Mozilla/5.0\"})\n",
    "    html = response.text\n",
    "    soup = BeautifulSoup(html, \"html.parser\")\n",
    "\n",
    "    info_df = utils.table2df(soup.select_one(\"table\"))\n",
    "\n",
    "    product_dict = {}\n",
    "\n",
    "    not_sold_out = soup.select(\"div.btnArea > span.displaynone.sold\")\n",
    "\n",
    "    if not_sold_out:\n",
    "        product_dict[\"disabled\"] = \"FALSE\"\n",
    "    else:\n",
    "        product_dict[\"disabled\"] = \"TRUE\"\n",
    "\n",
    "    product_dict[\"price\"] = search.get_price(info_df)\n",
    "    product_dict[\"name\"] = info_df.loc[\"상품명\", 1].strip()\n",
    "    product_dict[\"gender\"] = \"M\"\n",
    "    product_dict[\"sub_category_id\"] = subcategory_id\n",
    "    product_dict[\"category_id\"] = constants.SUB2CAT[product_dict[\"sub_category_id\"]]\n",
    "    product_dict[\"url\"] = product_url\n",
    "    product_dict[\"mall_id\"] = constants.LOOKPLE_ID\n",
    "\n",
    "    text = info_df.loc[\"상품설명\", 1]\n",
    "    img_url_lst = search.get_img_url_lst(soup)\n",
    "    size_dict_lst = search.get_size_dict_lst(text, product_dict[\"category_id\"])\n",
    "\n",
    "    return product_dict, size_dict_lst, img_url_lst, text"
   ]
  },
  {
   "cell_type": "code",
   "execution_count": 3,
   "metadata": {},
   "outputs": [
    {
     "name": "stdout",
     "output_type": "stream",
     "text": [
      "  사이즈\n",
      "0   M\n",
      "1   L\n"
     ]
    }
   ],
   "source": [
    "product_dict, size_dict_lst, img_url_lst, text = crawling_product(8, \"https://lookple.com/product/%EB%A3%A9-%EC%84%B8%EC%9D%B8%ED%8A%B8-%ED%95%98%EC%B0%8C-%EB%8B%A8%EA%B0%80%EB%9D%BC-%EB%B0%98%ED%8F%B4%EB%9D%BC%EB%8B%88%ED%8A%B8/5911/category/128/display/1/\")"
   ]
  },
  {
   "cell_type": "code",
   "execution_count": 6,
   "metadata": {},
   "outputs": [
    {
     "data": {
      "text/plain": [
       "'NULL'"
      ]
     },
     "execution_count": 6,
     "metadata": {},
     "output_type": "execute_result"
    }
   ],
   "source": [
    "size_dict_lst[0][1]['full']"
   ]
  },
  {
   "cell_type": "code",
   "execution_count": 6,
   "metadata": {},
   "outputs": [],
   "source": [
    "import pandas as pd\n",
    "def get_product_df(cursor, mall_id=1):\n",
    "    query = f\"\"\"\n",
    "        SELECT * FROM PRODUCT;\n",
    "    \"\"\"\n",
    "    cursor.execute(query)\n",
    "    products = cursor.fetchall()\n",
    "    products_df = pd.DataFrame(products)\n",
    "    return products_df"
   ]
  },
  {
   "cell_type": "code",
   "execution_count": 7,
   "metadata": {},
   "outputs": [],
   "source": [
    "conn, cursor = rds.connect()\n",
    "products_df = get_product_df(cursor, mall_id=3)"
   ]
  },
  {
   "cell_type": "code",
   "execution_count": 8,
   "metadata": {},
   "outputs": [
    {
     "data": {
      "text/plain": [
       "(1176, 11)"
      ]
     },
     "execution_count": 8,
     "metadata": {},
     "output_type": "execute_result"
    }
   ],
   "source": [
    "products_df.shape"
   ]
  },
  {
   "cell_type": "code",
   "execution_count": 13,
   "metadata": {},
   "outputs": [
    {
     "name": "stdout",
     "output_type": "stream",
     "text": [
      "룩 유엔 오버핏 텐타 덤블워싱 뉴욕 쭈리 맨투맨\n"
     ]
    }
   ],
   "source": [
    "for row in products_df.iterrows():\n",
    "    print(row[1][url])\n",
    "    break"
   ]
  },
  {
   "cell_type": "code",
   "execution_count": 41,
   "metadata": {},
   "outputs": [],
   "source": [
    "def crawling_page(subcategory_id, page_url):\n",
    "    product_li_lst = search.get_product_li(page_url)\n",
    "\n",
    "    if not product_li_lst:\n",
    "        return False\n",
    "\n",
    "    print(f\"crawling page {page_url}\")\n",
    "    for product_li in tqdm(product_li_lst, total=len(product_li_lst)):\n",
    "        try:\n",
    "            product_url, thumbnail_image_url = search.get_url(product_li)\n",
    "            crawling_product(\n",
    "                subcategory_id, product_url\n",
    "            )\n",
    "\n",
    "        \n",
    "        except IndexError as e:\n",
    "            print(f\"error: {e} | product_url: {product_url}\")\n",
    "        # except requests.exceptions.InvalidURL as e:\n",
    "        #     print(f\"error: {e} | product_url: {product_url}\")\n",
    "        # except requests.exceptions.ConnectionError as e:\n",
    "        #     print(f\"error: {e} | product_url: {product_url}\")\n",
    "        except ValueError as e:\n",
    "            print(f\"error: {e} | product_url: {product_url}\")\n",
    "    return True"
   ]
  },
  {
   "cell_type": "code",
   "execution_count": 42,
   "metadata": {},
   "outputs": [
    {
     "name": "stdout",
     "output_type": "stream",
     "text": [
      "crawling page https://lookple.com/category/%EB%B0%98%ED%8C%94%ED%8B%B0%EB%AF%BC%EC%86%8C%EB%A7%A4%ED%8B%B0/59/?page=6\n"
     ]
    },
    {
     "name": "stderr",
     "output_type": "stream",
     "text": [
      " 90%|█████████ | 27/30 [00:13<00:01,  1.87it/s]"
     ]
    },
    {
     "name": "stdout",
     "output_type": "stream",
     "text": [
      "룩 펠리트 피그먼트 박스 반팔티 is sold out\n"
     ]
    },
    {
     "name": "stderr",
     "output_type": "stream",
     "text": [
      " 93%|█████████▎| 28/30 [00:14<00:01,  1.92it/s]"
     ]
    },
    {
     "name": "stdout",
     "output_type": "stream",
     "text": [
      "룩 트윈사 카피 박스 트레이닝 is sold out\n"
     ]
    },
    {
     "name": "stderr",
     "output_type": "stream",
     "text": [
      " 97%|█████████▋| 29/30 [00:14<00:00,  2.02it/s]"
     ]
    },
    {
     "name": "stdout",
     "output_type": "stream",
     "text": [
      "룩 빌리 고텐션 카라티 is sold out\n"
     ]
    },
    {
     "name": "stderr",
     "output_type": "stream",
     "text": [
      "100%|██████████| 30/30 [00:15<00:00,  1.98it/s]"
     ]
    },
    {
     "name": "stdout",
     "output_type": "stream",
     "text": [
      "룩 코마 모달40% 베이직 반팔티 is sold out\n"
     ]
    },
    {
     "name": "stderr",
     "output_type": "stream",
     "text": [
      "\n"
     ]
    },
    {
     "data": {
      "text/plain": [
       "True"
      ]
     },
     "execution_count": 42,
     "metadata": {},
     "output_type": "execute_result"
    }
   ],
   "source": [
    "page_url = \"https://lookple.com/category/%EB%B0%98%ED%8C%94%ED%8B%B0%EB%AF%BC%EC%86%8C%EB%A7%A4%ED%8B%B0/59/?page=6\"\n",
    "crawling_page(2, page_url)"
   ]
  },
  {
   "cell_type": "code",
   "execution_count": 34,
   "metadata": {},
   "outputs": [
    {
     "name": "stdout",
     "output_type": "stream",
     "text": [
      "[]\n"
     ]
    }
   ],
   "source": [
    "# product_url = \"https://lookple.com/product/%EB%A3%A9-%EC%9C%A0%EC%97%94-%EC%98%A4%EB%B2%84%ED%95%8F-%ED%85%90%ED%83%80-%EB%8D%A4%EB%B8%94%EC%9B%8C%EC%8B%B1-%EB%89%B4%EC%9A%95-%EC%AD%88%EB%A6%AC-%EB%A7%A8%ED%88%AC%EB%A7%A8/6269/category/59/display/1/\"\n",
    "product_url = \"https://lookple.com/product/%EB%A3%A9-%EB%93%9C%EB%9E%8D-%EC%BB%A4%EB%B2%84-%EC%98%A4%EB%B2%84%EB%B0%98%ED%8C%94%ED%8B%B0/2391/category/59/display/1/\"\n",
    "product_dict, _, _, _ = crawling_product(2, product_url)"
   ]
  },
  {
   "cell_type": "code",
   "execution_count": 35,
   "metadata": {},
   "outputs": [
    {
     "data": {
      "text/plain": [
       "{'disabled': 'TRUE',\n",
       " 'price': 17000,\n",
       " 'name': '룩 드랍 커버 오버반팔티',\n",
       " 'gender': 'M',\n",
       " 'sub_category_id': 2,\n",
       " 'category_id': 1,\n",
       " 'url': 'https://lookple.com/product/%EB%A3%A9-%EB%93%9C%EB%9E%8D-%EC%BB%A4%EB%B2%84-%EC%98%A4%EB%B2%84%EB%B0%98%ED%8C%94%ED%8B%B0/2391/category/59/display/1/',\n",
       " 'mall_id': 3}"
      ]
     },
     "execution_count": 35,
     "metadata": {},
     "output_type": "execute_result"
    }
   ],
   "source": [
    "product_dict"
   ]
  }
 ],
 "metadata": {
  "kernelspec": {
   "display_name": "crawling-env",
   "language": "python",
   "name": "python3"
  },
  "language_info": {
   "codemirror_mode": {
    "name": "ipython",
    "version": 3
   },
   "file_extension": ".py",
   "mimetype": "text/x-python",
   "name": "python",
   "nbconvert_exporter": "python",
   "pygments_lexer": "ipython3",
   "version": "3.8.17"
  },
  "orig_nbformat": 4
 },
 "nbformat": 4,
 "nbformat_minor": 2
}
